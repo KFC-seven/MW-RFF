{
 "cells": [
  {
   "cell_type": "code",
   "execution_count": 1,
   "metadata": {},
   "outputs": [],
   "source": [
    "from tqdm.notebook import trange, tqdm\n",
    "import matplotlib.pyplot as plt\n",
    "import numpy as np\n",
    "%load_ext autoreload\n",
    "%autoreload 2\n",
    "\n",
    "import timeit"
   ]
  },
  {
   "cell_type": "code",
   "execution_count": 29,
   "metadata": {},
   "outputs": [],
   "source": [
    "min_sig = 50\n",
    "num_tx = 150\n",
    "min_sig_low = 0\n",
    "\n",
    "satisfaction = 0.9"
   ]
  },
  {
   "cell_type": "code",
   "execution_count": 30,
   "metadata": {},
   "outputs": [
    {
     "name": "stdout",
     "output_type": "stream",
     "text": [
      "Time:  0.0005770999705418944\n",
      "150\n",
      "2\n",
      "['1-1', '1-10', '1-11', '1-12', '1-14', '1-16', '1-18', '1-19', '1-8', '10-1', '10-11', '10-17', '10-4', '10-7', '11-1', '11-10', '11-14', '11-17', '11-19', '11-20', '11-4', '11-7', '12-1', '12-19', '12-20', '12-7', '13-14', '13-18', '13-19', '13-20', '13-3', '13-7', '14-10', '14-11', '14-12', '14-13', '14-14', '14-19', '14-20', '14-7', '14-8', '14-9', '15-1', '15-19', '15-6', '16-1', '16-16', '16-19', '16-20', '16-5', '17-10', '17-11', '17-20', '18-1', '18-10', '18-11', '18-12', '18-13', '18-14', '18-15', '18-16', '18-17', '18-19', '18-2', '18-20', '18-4', '18-5', '18-7', '18-8', '18-9', '19-1', '19-10', '19-11', '19-12', '19-13', '19-14', '19-15', '19-19', '19-2', '19-20', '19-3', '19-4', '19-6', '19-7', '19-8', '19-9', '2-1', '2-12', '2-13', '2-14', '2-15', '2-16', '2-17', '2-19', '2-20', '2-3', '2-4', '2-5', '2-6', '2-7', '2-8', '20-1', '20-12', '20-14', '20-15', '20-16', '20-18', '20-19', '20-20', '20-3', '20-4', '20-5', '20-7', '20-8', '3-1', '3-13', '3-18', '3-19', '3-2', '3-20', '3-8', '4-1', '4-10', '4-11', '5-1', '5-16', '5-20', '5-5', '6-1', '6-15', '6-6', '7-10', '7-11', '7-12', '7-13', '7-14', '7-20', '7-7', '7-8', '7-9', '8-1', '8-13', '8-14', '8-18', '8-20', '8-3', '8-8', '9-1', '9-20', '9-7']\n",
      "['18-2', '8-14']\n"
     ]
    }
   ],
   "source": [
    "from tx_rx_list_creator_heuristic import solve_for_lists_heurstic\n",
    "\n",
    "start = timeit.default_timer()\n",
    "\n",
    "op_tx_list, op_rx_list = solve_for_lists_heurstic(num_tx=num_tx, min_sig=min_sig, min_sig_low = None, satisfaction=satisfaction)\n",
    "\n",
    "stop = timeit.default_timer()\n",
    "print('Time: ', stop - start)  \n",
    "\n",
    "print(len(op_tx_list))\n",
    "print(len(op_rx_list))\n",
    "print(op_tx_list)\n",
    "print(op_rx_list)"
   ]
  },
  {
   "cell_type": "code",
   "execution_count": 31,
   "metadata": {},
   "outputs": [
    {
     "ename": "GurobiError",
     "evalue": "Model too large for size-limited license; visit https://gurobi.com/unrestricted for more information",
     "output_type": "error",
     "traceback": [
      "\u001b[1;31m---------------------------------------------------------------------------\u001b[0m",
      "\u001b[1;31mGurobiError\u001b[0m                               Traceback (most recent call last)",
      "Cell \u001b[1;32mIn[31], line 9\u001b[0m\n\u001b[0;32m      4\u001b[0m \u001b[38;5;66;03m# Requires a GUROBI Licence\u001b[39;00m\n\u001b[0;32m      5\u001b[0m \u001b[38;5;66;03m# License can be obtained for free for academic users\u001b[39;00m\n\u001b[0;32m      6\u001b[0m \u001b[38;5;66;03m# https://www.gurobi.com/downloads/end-user-license-agreement-academic/\u001b[39;00m\n\u001b[0;32m      7\u001b[0m start \u001b[38;5;241m=\u001b[39m timeit\u001b[38;5;241m.\u001b[39mdefault_timer()\n\u001b[1;32m----> 9\u001b[0m op_tx_list, op_rx_list \u001b[38;5;241m=\u001b[39m \u001b[43msolve_for_lists_milp\u001b[49m\u001b[43m(\u001b[49m\u001b[43mnum_tx\u001b[49m\u001b[38;5;241;43m=\u001b[39;49m\u001b[43mnum_tx\u001b[49m\u001b[43m,\u001b[49m\u001b[43m \u001b[49m\u001b[43mmin_sig\u001b[49m\u001b[38;5;241;43m=\u001b[39;49m\u001b[43mmin_sig\u001b[49m\u001b[43m,\u001b[49m\u001b[43m \u001b[49m\u001b[43mmin_sig_low\u001b[49m\u001b[43m \u001b[49m\u001b[38;5;241;43m=\u001b[39;49m\u001b[43m \u001b[49m\u001b[43mmin_sig_low\u001b[49m\u001b[43m,\u001b[49m\u001b[43m \u001b[49m\u001b[43msatisfaction\u001b[49m\u001b[38;5;241;43m=\u001b[39;49m\u001b[43msatisfaction\u001b[49m\u001b[43m)\u001b[49m\n\u001b[0;32m     11\u001b[0m stop \u001b[38;5;241m=\u001b[39m timeit\u001b[38;5;241m.\u001b[39mdefault_timer()\n\u001b[0;32m     12\u001b[0m \u001b[38;5;28mprint\u001b[39m(\u001b[38;5;124m'\u001b[39m\u001b[38;5;124mTime: \u001b[39m\u001b[38;5;124m'\u001b[39m, stop \u001b[38;5;241m-\u001b[39m start) \n",
      "File \u001b[1;32me:\\program\\MW-RFF\\wisig-subset-creation\\tx_rx_list_creator_milp.py:93\u001b[0m, in \u001b[0;36msolve_for_lists_milp\u001b[1;34m(num_tx, min_sig, min_sig_low, satisfaction, verbose)\u001b[0m\n\u001b[0;32m     90\u001b[0m m\u001b[38;5;241m.\u001b[39msetObjectiveN(min_sig_var \u001b[38;5;241m-\u001b[39m min_sig_low, \u001b[38;5;241m1\u001b[39m, \u001b[38;5;241m0\u001b[39m)\n\u001b[0;32m     91\u001b[0m m\u001b[38;5;241m.\u001b[39mModelSense \u001b[38;5;241m=\u001b[39m GRB\u001b[38;5;241m.\u001b[39mMAXIMIZE\n\u001b[1;32m---> 93\u001b[0m \u001b[43mm\u001b[49m\u001b[38;5;241;43m.\u001b[39;49m\u001b[43moptimize\u001b[49m\u001b[43m(\u001b[49m\u001b[43m)\u001b[49m\n\u001b[0;32m     95\u001b[0m \u001b[38;5;28;01mif\u001b[39;00m m\u001b[38;5;241m.\u001b[39mstatus \u001b[38;5;241m==\u001b[39m GRB\u001b[38;5;241m.\u001b[39mOPTIMAL:\n\u001b[0;32m     96\u001b[0m     min_sig_value \u001b[38;5;241m=\u001b[39m min_sig_var\u001b[38;5;241m.\u001b[39mX;\n",
      "File \u001b[1;32msrc\\\\gurobipy\\\\_model.pyx:901\u001b[0m, in \u001b[0;36mgurobipy._model.Model.optimize\u001b[1;34m()\u001b[0m\n",
      "\u001b[1;31mGurobiError\u001b[0m: Model too large for size-limited license; visit https://gurobi.com/unrestricted for more information"
     ]
    }
   ],
   "source": [
    "from tx_rx_list_creator_milp import solve_for_lists_milp\n",
    "\n",
    "\n",
    "# Requires a GUROBI Licence\n",
    "# License can be obtained for free for academic users\n",
    "# https://www.gurobi.com/downloads/end-user-license-agreement-academic/\n",
    "start = timeit.default_timer()\n",
    "\n",
    "op_tx_list, op_rx_list = solve_for_lists_milp(num_tx=num_tx, min_sig=min_sig, min_sig_low = min_sig_low, satisfaction=satisfaction)\n",
    "\n",
    "stop = timeit.default_timer()\n",
    "print('Time: ', stop - start) \n",
    "    \n",
    "print(len(op_rx_list))\n",
    "print(op_tx_list)\n",
    "print(op_rx_list)"
   ]
  },
  {
   "cell_type": "code",
   "execution_count": null,
   "metadata": {},
   "outputs": [],
   "source": []
  }
 ],
 "metadata": {
  "kernelspec": {
   "display_name": "MW-RFF",
   "language": "python",
   "name": "python3"
  },
  "language_info": {
   "codemirror_mode": {
    "name": "ipython",
    "version": 3
   },
   "file_extension": ".py",
   "mimetype": "text/x-python",
   "name": "python",
   "nbconvert_exporter": "python",
   "pygments_lexer": "ipython3",
   "version": "3.10.16"
  }
 },
 "nbformat": 4,
 "nbformat_minor": 4
}
