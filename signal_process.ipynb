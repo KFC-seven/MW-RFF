{
 "cells": [
  {
   "cell_type": "code",
   "execution_count": 8,
   "id": "38d64943",
   "metadata": {},
   "outputs": [
    {
     "name": "stdout",
     "output_type": "stream",
     "text": [
      "dict_keys(['__header__', '__version__', '__globals__', 'data_Ineed'])\n"
     ]
    }
   ],
   "source": [
    "from scipy.io import loadmat\n",
    " \n",
    "path = r\"..\\los_data\\dev0.mat\"  # mat文件路径\n",
    "data = loadmat(path)  # 读取mat文件\n",
    "print(data.keys())  # 查看mat文件中包含的变量\n",
    "\n",
    "data = data['data_Ineed']  # 数'data_Ineed'\n"
   ]
  },
  {
   "cell_type": "code",
   "execution_count": 9,
   "id": "9b23f813",
   "metadata": {},
   "outputs": [
    {
     "name": "stdout",
     "output_type": "stream",
     "text": [
      "[[-1.31809103e-02-5.98180779e-03j -8.56644948e-03-6.65819948e-03j\n",
      "  -1.29356950e-02+3.14398823e-03j ... -2.10301175e-03+1.49593753e-03j\n",
      "  -1.85324861e-03-2.77106919e-03j  9.25959253e-03-1.99484085e-03j]\n",
      " [-1.37962821e-02-4.92905695e-03j -8.91827497e-03-5.59225019e-03j\n",
      "  -1.27652706e-02+1.50142213e-03j ... -6.33021291e-04+8.61582812e-04j\n",
      "  -1.66478992e-03-3.46529279e-03j  9.34929916e-03-1.93813856e-03j]\n",
      " [-1.79919992e-02+1.38218470e-03j -2.69344105e-02+1.54778020e-04j\n",
      "   2.21309993e-02-2.63347385e-03j ...  1.06111355e-01+2.44452408e-02j\n",
      "  -6.10980197e-02+5.09149202e-02j  1.05531998e-02+6.98352899e-04j]\n",
      " ...\n",
      " [-6.33963958e-01+6.13361516e-01j -8.45539791e-01-1.03478491e-01j\n",
      "   7.17103189e-01+5.19762046e-01j ...  9.26928314e-02+1.04511369e+00j\n",
      "  -9.43444274e-01-3.32222714e-01j  3.17328419e-01+8.78684443e-01j]\n",
      " [-1.07498022e+00-7.33088654e-01j -3.82157389e-01-1.27196455e+00j\n",
      "   8.83876089e-02+1.33988135e+00j ... -6.01675400e-02+1.21726925e+00j\n",
      "  -1.01292518e+00-8.01553072e-01j -1.11997957e+00+3.20660692e-01j]\n",
      " [-1.11941957e+00+1.41300178e-02j -1.02669726e+00-3.91174729e-01j\n",
      "   1.06157172e+00+4.58591695e-01j ...  1.21010587e+00+3.51464832e-01j\n",
      "  -1.07026502e+00+6.59172987e-01j -1.09205161e+00+4.78306930e-01j]]\n"
     ]
    }
   ],
   "source": [
    "\n",
    "print(data)"
   ]
  }
 ],
 "metadata": {
  "kernelspec": {
   "display_name": "MW-RFF",
   "language": "python",
   "name": "python3"
  },
  "language_info": {
   "codemirror_mode": {
    "name": "ipython",
    "version": 3
   },
   "file_extension": ".py",
   "mimetype": "text/x-python",
   "name": "python",
   "nbconvert_exporter": "python",
   "pygments_lexer": "ipython3",
   "version": "3.10.16"
  }
 },
 "nbformat": 4,
 "nbformat_minor": 5
}
