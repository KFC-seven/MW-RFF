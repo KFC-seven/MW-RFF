{
 "cells": [
  {
   "cell_type": "code",
   "execution_count": 1,
   "metadata": {},
   "outputs": [],
   "source": [
    "import os\n",
    "import torch\n",
    "import torchvision.transforms as transforms\n",
    "from torchvision import models\n",
    "from torch.utils.data import Dataset, DataLoader\n",
    "from sklearn.model_selection import train_test_split\n",
    "from tqdm import tqdm\n",
    "from PIL import Image\n",
    "from torchvision.models import resnet18, ResNet18_Weights"
   ]
  },
  {
   "cell_type": "code",
   "execution_count": 2,
   "metadata": {},
   "outputs": [
    {
     "name": "stdout",
     "output_type": "stream",
     "text": [
      "Using device: cuda:0\n"
     ]
    }
   ],
   "source": [
    "\n",
    "# 指定 GPU 索引（假设选择 GPU 0）\n",
    "GPU_INDEX = 0\n",
    "\n",
    "# 检查 GPU 是否可用并设置设备\n",
    "if not torch.cuda.is_available():\n",
    "    raise RuntimeError(\"CUDA is not available. Please enable a GPU.\")\n",
    "\n",
    "device = torch.device(f\"cuda:{GPU_INDEX}\")\n",
    "torch.cuda.set_device(GPU_INDEX)\n",
    "print(f\"Using device: {device}\")\n"
   ]
  },
  {
   "cell_type": "code",
   "execution_count": 3,
   "metadata": {},
   "outputs": [],
   "source": [
    "\n",
    "# 1. 数据加载\n",
    "class ImageDataset(Dataset):\n",
    "    def __init__(self, file_paths, labels, transform=None):\n",
    "        self.file_paths = file_paths\n",
    "        self.labels = labels\n",
    "        self.transform = transform\n",
    "\n",
    "    def __len__(self):\n",
    "        return len(self.file_paths)\n",
    "\n",
    "    def __getitem__(self, idx):\n",
    "        img_path = self.file_paths[idx]\n",
    "        label = self.labels[idx]\n",
    "        image = Image.open(img_path).convert(\"RGB\")\n",
    "\n",
    "        if self.transform:\n",
    "            image = self.transform(image)\n",
    "\n",
    "        return image, label\n",
    "\n",
    "def load_image_paths(folder, plot_type='scatter_plots'):\n",
    "    file_paths = []\n",
    "    labels = []\n",
    "    label = 0  # 为每个发射机分配标签\n",
    "\n",
    "    for tx_id in os.listdir(folder):\n",
    "        tx_folder = os.path.join(folder, tx_id)\n",
    "        if os.path.isdir(tx_folder):\n",
    "            plot_folder = os.path.join(tx_folder, plot_type)\n",
    "            if os.path.exists(plot_folder):\n",
    "                for filename in os.listdir(plot_folder):\n",
    "                    if filename.endswith('.png'):\n",
    "                        file_paths.append(os.path.join(plot_folder, filename))\n",
    "                        labels.append(label)\n",
    "            label += 1\n",
    "\n",
    "    return file_paths, labels\n"
   ]
  },
  {
   "cell_type": "code",
   "execution_count": 4,
   "metadata": {},
   "outputs": [],
   "source": [
    "\n",
    "# 2. 模型构建\n",
    "def build_resnet_model(num_classes):\n",
    "    model = resnet18(weights=ResNet18_Weights.DEFAULT)\n",
    "    # 替换最后一层\n",
    "    model.fc = torch.nn.Linear(model.fc.in_features, num_classes)\n",
    "    return model\n"
   ]
  },
  {
   "cell_type": "code",
   "execution_count": 5,
   "metadata": {},
   "outputs": [],
   "source": [
    "# 3. 训练和评估\n",
    "def train_and_evaluate_model(model, train_loader, val_loader, test_loader, device, epochs=20, lr=0.001):\n",
    "    criterion = torch.nn.CrossEntropyLoss()\n",
    "    optimizer = torch.optim.Adam(model.parameters(), lr=lr)\n",
    "\n",
    "    model = model.to(device)\n",
    "    best_val_acc = 0\n",
    "    train_losses, val_losses = [], []\n",
    "\n",
    "    for epoch in range(epochs):\n",
    "        model.train()\n",
    "        train_loss = 0\n",
    "        correct, total = 0, 0\n",
    "\n",
    "        # Training loop\n",
    "        for images, labels in tqdm(train_loader, desc=f\"Epoch {epoch+1}/{epochs} - Training\"):\n",
    "            images, labels = images.to(device), labels.to(device)\n",
    "            optimizer.zero_grad()\n",
    "            outputs = model(images)\n",
    "            loss = criterion(outputs, labels)\n",
    "            loss.backward()\n",
    "            optimizer.step()\n",
    "\n",
    "            train_loss += loss.item()\n",
    "            _, predicted = torch.max(outputs, 1)\n",
    "            total += labels.size(0)\n",
    "            correct += (predicted == labels).sum().item()\n",
    "\n",
    "        train_acc = correct / total\n",
    "        train_losses.append(train_loss / len(train_loader))\n",
    "\n",
    "        # Validation loop\n",
    "        model.eval()\n",
    "        val_loss = 0\n",
    "        correct, total = 0, 0\n",
    "\n",
    "        with torch.no_grad():\n",
    "            for images, labels in val_loader:\n",
    "                images, labels = images.to(device), labels.to(device)\n",
    "                outputs = model(images)\n",
    "                loss = criterion(outputs, labels)\n",
    "\n",
    "                val_loss += loss.item()\n",
    "                _, predicted = torch.max(outputs, 1)\n",
    "                total += labels.size(0)\n",
    "                correct += (predicted == labels).sum().item()\n",
    "\n",
    "        val_acc = correct / total\n",
    "        val_losses.append(val_loss / len(val_loader))\n",
    "\n",
    "        print(f\"Epoch [{epoch+1}/{epochs}], Train Loss: {train_losses[-1]:.4f}, Train Acc: {train_acc:.4f}, \"\n",
    "              f\"Val Loss: {val_losses[-1]:.4f}, Val Acc: {val_acc:.4f}\")\n",
    "\n",
    "        if val_acc > best_val_acc:\n",
    "            best_val_acc = val_acc\n",
    "            best_model = model.state_dict()\n",
    "\n",
    "    print(f\"Best Validation Accuracy: {best_val_acc:.4f}\")\n",
    "    model.load_state_dict(best_model)\n",
    "\n",
    "    # Test loop\n",
    "    model.eval()\n",
    "    correct, total = 0, 0\n",
    "    with torch.no_grad():\n",
    "        for images, labels in test_loader:\n",
    "            images, labels = images.to(device), labels.to(device)\n",
    "            outputs = model(images)\n",
    "            _, predicted = torch.max(outputs, 1)\n",
    "            total += labels.size(0)\n",
    "            correct += (predicted == labels).sum().item()\n",
    "\n",
    "    test_acc = correct / total\n",
    "    print(f\"Test Accuracy: {test_acc:.4f}\")\n",
    "    return model, train_losses, val_losses, test_acc"
   ]
  },
  {
   "cell_type": "code",
   "execution_count": 6,
   "metadata": {},
   "outputs": [],
   "source": [
    "# 4. 比较训练效果\n",
    "def compare_scatter_trajectory_training(folder, batch_size=32, epochs=20, lr=0.001):\n",
    "    print(\"Loading scatter plot images...\")\n",
    "    scatter_paths, scatter_labels = load_image_paths(folder, plot_type='scatter_plots')\n",
    "    print(\"Loading trajectory plot images...\")\n",
    "    trajectory_paths, trajectory_labels = load_image_paths(folder, plot_type='trajectory_plots')\n",
    "\n",
    "    # 数据集分割\n",
    "    scatter_train_paths, scatter_test_paths, scatter_train_labels, scatter_test_labels = train_test_split(\n",
    "        scatter_paths, scatter_labels, test_size=0.2, random_state=42\n",
    "    )\n",
    "    trajectory_train_paths, trajectory_test_paths, trajectory_train_labels, trajectory_test_labels = train_test_split(\n",
    "        trajectory_paths, trajectory_labels, test_size=0.2, random_state=42\n",
    "    )\n",
    "\n",
    "    # 数据预处理\n",
    "    transform = transforms.Compose([\n",
    "        transforms.Resize((224, 224)),\n",
    "        transforms.ToTensor(),\n",
    "        transforms.Normalize(mean=[0.485, 0.456, 0.406], std=[0.229, 0.224, 0.225])\n",
    "    ])\n",
    "\n",
    "    # 构造数据集和数据加载器\n",
    "    scatter_train_dataset = ImageDataset(scatter_train_paths, scatter_train_labels, transform)\n",
    "    scatter_test_dataset = ImageDataset(scatter_test_paths, scatter_test_labels, transform)\n",
    "    trajectory_train_dataset = ImageDataset(trajectory_train_paths, trajectory_train_labels, transform)\n",
    "    trajectory_test_dataset = ImageDataset(trajectory_test_paths, trajectory_test_labels, transform)\n",
    "\n",
    "    scatter_train_loader = DataLoader(scatter_train_dataset, batch_size=batch_size, shuffle=True)\n",
    "    scatter_test_loader = DataLoader(scatter_test_dataset, batch_size=batch_size, shuffle=False)\n",
    "    trajectory_train_loader = DataLoader(trajectory_train_dataset, batch_size=batch_size, shuffle=True)\n",
    "    trajectory_test_loader = DataLoader(trajectory_test_dataset, batch_size=batch_size, shuffle=False)\n",
    "\n",
    "    # 获取类别数量\n",
    "    num_classes = len(set(scatter_labels))\n",
    "\n",
    "    # 构建和训练散点图模型\n",
    "    print(\"\\nTraining scatter plot model...\")\n",
    "    scatter_model = build_resnet_model(num_classes)\n",
    "    scatter_model, scatter_train_losses, scatter_val_losses, scatter_test_acc = train_and_evaluate_model(\n",
    "        scatter_model, scatter_train_loader, scatter_test_loader, scatter_test_loader, device, epochs, lr\n",
    "    )\n",
    "\n",
    "    # 构建和训练轨迹图模型\n",
    "    print(\"\\nTraining trajectory plot model...\")\n",
    "    trajectory_model = build_resnet_model(num_classes)\n",
    "    trajectory_model, trajectory_train_losses, trajectory_val_losses, trajectory_test_acc = train_and_evaluate_model(\n",
    "        trajectory_model, trajectory_train_loader, trajectory_test_loader, trajectory_test_loader, device, epochs, lr\n",
    "    )\n",
    "\n",
    "    # 输出比较结果\n",
    "    print(\"\\nComparison of Test Accuracies:\")\n",
    "    print(f\"Scatter plot model test accuracy: {scatter_test_acc:.4f}\")\n",
    "    print(f\"Trajectory plot model test accuracy: {trajectory_test_acc:.4f}\")"
   ]
  },
  {
   "cell_type": "code",
   "execution_count": 7,
   "metadata": {},
   "outputs": [
    {
     "name": "stdout",
     "output_type": "stream",
     "text": [
      "Loading scatter plot images...\n",
      "Loading trajectory plot images...\n",
      "\n",
      "Training scatter plot model...\n"
     ]
    },
    {
     "name": "stderr",
     "output_type": "stream",
     "text": [
      "Epoch 1/20 - Training: 100%|██████████| 12729/12729 [41:00<00:00,  5.17it/s]\n"
     ]
    },
    {
     "name": "stdout",
     "output_type": "stream",
     "text": [
      "Epoch [1/20], Train Loss: 4.1533, Train Acc: 0.0921, Val Loss: 3.6039, Val Acc: 0.1985\n"
     ]
    },
    {
     "name": "stderr",
     "output_type": "stream",
     "text": [
      "Epoch 2/20 - Training: 100%|██████████| 12729/12729 [40:38<00:00,  5.22it/s]\n"
     ]
    },
    {
     "name": "stdout",
     "output_type": "stream",
     "text": [
      "Epoch [2/20], Train Loss: 2.9626, Train Acc: 0.3401, Val Loss: 2.6540, Val Acc: 0.4116\n"
     ]
    },
    {
     "name": "stderr",
     "output_type": "stream",
     "text": [
      "Epoch 3/20 - Training: 100%|██████████| 12729/12729 [41:29<00:00,  5.11it/s]\n"
     ]
    },
    {
     "name": "stdout",
     "output_type": "stream",
     "text": [
      "Epoch [3/20], Train Loss: 2.3691, Train Acc: 0.4723, Val Loss: 2.4333, Val Acc: 0.4674\n"
     ]
    },
    {
     "name": "stderr",
     "output_type": "stream",
     "text": [
      "Epoch 4/20 - Training: 100%|██████████| 12729/12729 [41:32<00:00,  5.11it/s]\n"
     ]
    },
    {
     "name": "stdout",
     "output_type": "stream",
     "text": [
      "Epoch [4/20], Train Loss: 2.0904, Train Acc: 0.5323, Val Loss: 2.3210, Val Acc: 0.4973\n"
     ]
    },
    {
     "name": "stderr",
     "output_type": "stream",
     "text": [
      "Epoch 5/20 - Training: 100%|██████████| 12729/12729 [41:32<00:00,  5.11it/s]\n"
     ]
    },
    {
     "name": "stdout",
     "output_type": "stream",
     "text": [
      "Epoch [5/20], Train Loss: 1.9030, Train Acc: 0.5713, Val Loss: 2.2943, Val Acc: 0.5076\n"
     ]
    },
    {
     "name": "stderr",
     "output_type": "stream",
     "text": [
      "Epoch 6/20 - Training: 100%|██████████| 12729/12729 [41:41<00:00,  5.09it/s]\n"
     ]
    },
    {
     "name": "stdout",
     "output_type": "stream",
     "text": [
      "Epoch [6/20], Train Loss: 1.7548, Train Acc: 0.6020, Val Loss: 2.2691, Val Acc: 0.5156\n"
     ]
    },
    {
     "name": "stderr",
     "output_type": "stream",
     "text": [
      "Epoch 7/20 - Training: 100%|██████████| 12729/12729 [39:35<00:00,  5.36it/s]\n"
     ]
    },
    {
     "name": "stdout",
     "output_type": "stream",
     "text": [
      "Epoch [7/20], Train Loss: 1.6200, Train Acc: 0.6287, Val Loss: 2.4471, Val Acc: 0.5059\n"
     ]
    },
    {
     "name": "stderr",
     "output_type": "stream",
     "text": [
      "Epoch 8/20 - Training: 100%|██████████| 12729/12729 [39:20<00:00,  5.39it/s]\n"
     ]
    },
    {
     "name": "stdout",
     "output_type": "stream",
     "text": [
      "Epoch [8/20], Train Loss: 1.4836, Train Acc: 0.6551, Val Loss: 2.4820, Val Acc: 0.5139\n"
     ]
    },
    {
     "name": "stderr",
     "output_type": "stream",
     "text": [
      "Epoch 9/20 - Training: 100%|██████████| 12729/12729 [39:25<00:00,  5.38it/s]\n"
     ]
    },
    {
     "name": "stdout",
     "output_type": "stream",
     "text": [
      "Epoch [9/20], Train Loss: 1.3384, Train Acc: 0.6833, Val Loss: 2.5220, Val Acc: 0.5161\n"
     ]
    },
    {
     "name": "stderr",
     "output_type": "stream",
     "text": [
      "Epoch 10/20 - Training: 100%|██████████| 12729/12729 [39:26<00:00,  5.38it/s]\n"
     ]
    },
    {
     "name": "stdout",
     "output_type": "stream",
     "text": [
      "Epoch [10/20], Train Loss: 1.1748, Train Acc: 0.7153, Val Loss: 2.6974, Val Acc: 0.5157\n"
     ]
    },
    {
     "name": "stderr",
     "output_type": "stream",
     "text": [
      "Epoch 11/20 - Training: 100%|██████████| 12729/12729 [39:37<00:00,  5.35it/s]\n"
     ]
    },
    {
     "name": "stdout",
     "output_type": "stream",
     "text": [
      "Epoch [11/20], Train Loss: 1.0009, Train Acc: 0.7498, Val Loss: 2.8867, Val Acc: 0.5115\n"
     ]
    },
    {
     "name": "stderr",
     "output_type": "stream",
     "text": [
      "Epoch 12/20 - Training: 100%|██████████| 12729/12729 [39:36<00:00,  5.36it/s]\n"
     ]
    },
    {
     "name": "stdout",
     "output_type": "stream",
     "text": [
      "Epoch [12/20], Train Loss: 0.8243, Train Acc: 0.7874, Val Loss: 3.0417, Val Acc: 0.5114\n"
     ]
    },
    {
     "name": "stderr",
     "output_type": "stream",
     "text": [
      "Epoch 13/20 - Training: 100%|██████████| 12729/12729 [42:38<00:00,  4.98it/s]\n"
     ]
    },
    {
     "name": "stdout",
     "output_type": "stream",
     "text": [
      "Epoch [13/20], Train Loss: 0.6648, Train Acc: 0.8227, Val Loss: 3.3463, Val Acc: 0.5096\n"
     ]
    },
    {
     "name": "stderr",
     "output_type": "stream",
     "text": [
      "Epoch 14/20 - Training: 100%|██████████| 12729/12729 [48:05<00:00,  4.41it/s]\n"
     ]
    },
    {
     "name": "stdout",
     "output_type": "stream",
     "text": [
      "Epoch [14/20], Train Loss: 0.5327, Train Acc: 0.8537, Val Loss: 3.5667, Val Acc: 0.5060\n"
     ]
    },
    {
     "name": "stderr",
     "output_type": "stream",
     "text": [
      "Epoch 15/20 - Training: 100%|██████████| 12729/12729 [47:20<00:00,  4.48it/s]\n"
     ]
    },
    {
     "name": "stdout",
     "output_type": "stream",
     "text": [
      "Epoch [15/20], Train Loss: 0.4305, Train Acc: 0.8787, Val Loss: 3.8214, Val Acc: 0.5045\n"
     ]
    },
    {
     "name": "stderr",
     "output_type": "stream",
     "text": [
      "Epoch 16/20 - Training: 100%|██████████| 12729/12729 [46:51<00:00,  4.53it/s]\n"
     ]
    },
    {
     "name": "stdout",
     "output_type": "stream",
     "text": [
      "Epoch [16/20], Train Loss: 0.3548, Train Acc: 0.8980, Val Loss: 4.0173, Val Acc: 0.5062\n"
     ]
    },
    {
     "name": "stderr",
     "output_type": "stream",
     "text": [
      "Epoch 17/20 - Training: 100%|██████████| 12729/12729 [48:23<00:00,  4.38it/s]\n"
     ]
    },
    {
     "name": "stdout",
     "output_type": "stream",
     "text": [
      "Epoch [17/20], Train Loss: 0.3061, Train Acc: 0.9102, Val Loss: 4.1218, Val Acc: 0.5024\n"
     ]
    },
    {
     "name": "stderr",
     "output_type": "stream",
     "text": [
      "Epoch 18/20 - Training: 100%|██████████| 12729/12729 [48:33<00:00,  4.37it/s]\n"
     ]
    },
    {
     "name": "stdout",
     "output_type": "stream",
     "text": [
      "Epoch [18/20], Train Loss: 0.2674, Train Acc: 0.9208, Val Loss: 4.4063, Val Acc: 0.5029\n"
     ]
    },
    {
     "name": "stderr",
     "output_type": "stream",
     "text": [
      "Epoch 19/20 - Training: 100%|██████████| 12729/12729 [48:28<00:00,  4.38it/s]\n"
     ]
    },
    {
     "name": "stdout",
     "output_type": "stream",
     "text": [
      "Epoch [19/20], Train Loss: 0.2402, Train Acc: 0.9284, Val Loss: 4.4097, Val Acc: 0.5067\n"
     ]
    },
    {
     "name": "stderr",
     "output_type": "stream",
     "text": [
      "Epoch 20/20 - Training: 100%|██████████| 12729/12729 [47:35<00:00,  4.46it/s]\n"
     ]
    },
    {
     "name": "stdout",
     "output_type": "stream",
     "text": [
      "Epoch [20/20], Train Loss: 0.2187, Train Acc: 0.9346, Val Loss: 4.5219, Val Acc: 0.5021\n",
      "Best Validation Accuracy: 0.5161\n",
      "Test Accuracy: 0.5021\n",
      "\n",
      "Training trajectory plot model...\n"
     ]
    },
    {
     "name": "stderr",
     "output_type": "stream",
     "text": [
      "Epoch 1/20 - Training: 100%|██████████| 12729/12729 [55:56<00:00,  3.79it/s]\n"
     ]
    },
    {
     "name": "stdout",
     "output_type": "stream",
     "text": [
      "Epoch [1/20], Train Loss: 4.2741, Train Acc: 0.0712, Val Loss: 3.7382, Val Acc: 0.1623\n"
     ]
    },
    {
     "name": "stderr",
     "output_type": "stream",
     "text": [
      "Epoch 2/20 - Training: 100%|██████████| 12729/12729 [53:06<00:00,  4.00it/s]\n"
     ]
    },
    {
     "name": "stdout",
     "output_type": "stream",
     "text": [
      "Epoch [2/20], Train Loss: 3.1171, Train Acc: 0.3033, Val Loss: 2.6942, Val Acc: 0.3988\n"
     ]
    },
    {
     "name": "stderr",
     "output_type": "stream",
     "text": [
      "Epoch 3/20 - Training: 100%|██████████| 12729/12729 [52:29<00:00,  4.04it/s]\n"
     ]
    },
    {
     "name": "stdout",
     "output_type": "stream",
     "text": [
      "Epoch [3/20], Train Loss: 2.4332, Train Acc: 0.4561, Val Loss: 2.4383, Val Acc: 0.4625\n"
     ]
    },
    {
     "name": "stderr",
     "output_type": "stream",
     "text": [
      "Epoch 4/20 - Training: 100%|██████████| 12729/12729 [1:08:44<00:00,  3.09it/s]\n"
     ]
    },
    {
     "name": "stdout",
     "output_type": "stream",
     "text": [
      "Epoch [4/20], Train Loss: 2.1347, Train Acc: 0.5208, Val Loss: 2.3048, Val Acc: 0.4919\n"
     ]
    },
    {
     "name": "stderr",
     "output_type": "stream",
     "text": [
      "Epoch 5/20 - Training: 100%|██████████| 12729/12729 [55:10<00:00,  3.84it/s]\n"
     ]
    },
    {
     "name": "stdout",
     "output_type": "stream",
     "text": [
      "Epoch [5/20], Train Loss: 1.9410, Train Acc: 0.5622, Val Loss: 2.2509, Val Acc: 0.5139\n"
     ]
    },
    {
     "name": "stderr",
     "output_type": "stream",
     "text": [
      "Epoch 6/20 - Training: 100%|██████████| 12729/12729 [53:20<00:00,  3.98it/s]\n"
     ]
    },
    {
     "name": "stdout",
     "output_type": "stream",
     "text": [
      "Epoch [6/20], Train Loss: 1.7951, Train Acc: 0.5918, Val Loss: 2.2151, Val Acc: 0.5270\n"
     ]
    },
    {
     "name": "stderr",
     "output_type": "stream",
     "text": [
      "Epoch 7/20 - Training: 100%|██████████| 12729/12729 [52:52<00:00,  4.01it/s]\n"
     ]
    },
    {
     "name": "stdout",
     "output_type": "stream",
     "text": [
      "Epoch [7/20], Train Loss: 1.6714, Train Acc: 0.6172, Val Loss: 2.1894, Val Acc: 0.5340\n"
     ]
    },
    {
     "name": "stderr",
     "output_type": "stream",
     "text": [
      "Epoch 8/20 - Training: 100%|██████████| 12729/12729 [50:35<00:00,  4.19it/s]\n"
     ]
    },
    {
     "name": "stdout",
     "output_type": "stream",
     "text": [
      "Epoch [8/20], Train Loss: 1.5504, Train Acc: 0.6408, Val Loss: 2.2690, Val Acc: 0.5344\n"
     ]
    },
    {
     "name": "stderr",
     "output_type": "stream",
     "text": [
      "Epoch 9/20 - Training: 100%|██████████| 12729/12729 [46:17<00:00,  4.58it/s]\n"
     ]
    },
    {
     "name": "stdout",
     "output_type": "stream",
     "text": [
      "Epoch [9/20], Train Loss: 1.4338, Train Acc: 0.6637, Val Loss: 2.2849, Val Acc: 0.5318\n"
     ]
    },
    {
     "name": "stderr",
     "output_type": "stream",
     "text": [
      "Epoch 10/20 - Training: 100%|██████████| 12729/12729 [46:17<00:00,  4.58it/s]\n"
     ]
    },
    {
     "name": "stdout",
     "output_type": "stream",
     "text": [
      "Epoch [10/20], Train Loss: 1.3080, Train Acc: 0.6885, Val Loss: 2.3562, Val Acc: 0.5386\n"
     ]
    },
    {
     "name": "stderr",
     "output_type": "stream",
     "text": [
      "Epoch 11/20 - Training: 100%|██████████| 12729/12729 [46:31<00:00,  4.56it/s]\n"
     ]
    },
    {
     "name": "stdout",
     "output_type": "stream",
     "text": [
      "Epoch [11/20], Train Loss: 1.1779, Train Acc: 0.7139, Val Loss: 2.5382, Val Acc: 0.5348\n"
     ]
    },
    {
     "name": "stderr",
     "output_type": "stream",
     "text": [
      "Epoch 12/20 - Training: 100%|██████████| 12729/12729 [46:30<00:00,  4.56it/s]\n"
     ]
    },
    {
     "name": "stdout",
     "output_type": "stream",
     "text": [
      "Epoch [12/20], Train Loss: 1.0415, Train Acc: 0.7428, Val Loss: 2.5659, Val Acc: 0.5374\n"
     ]
    },
    {
     "name": "stderr",
     "output_type": "stream",
     "text": [
      "Epoch 13/20 - Training: 100%|██████████| 12729/12729 [46:16<00:00,  4.58it/s]\n"
     ]
    },
    {
     "name": "stdout",
     "output_type": "stream",
     "text": [
      "Epoch [13/20], Train Loss: 0.9087, Train Acc: 0.7705, Val Loss: 2.7273, Val Acc: 0.5349\n"
     ]
    },
    {
     "name": "stderr",
     "output_type": "stream",
     "text": [
      "Epoch 14/20 - Training: 100%|██████████| 12729/12729 [46:16<00:00,  4.58it/s]\n"
     ]
    },
    {
     "name": "stdout",
     "output_type": "stream",
     "text": [
      "Epoch [14/20], Train Loss: 0.7771, Train Acc: 0.7992, Val Loss: 2.8701, Val Acc: 0.5327\n"
     ]
    },
    {
     "name": "stderr",
     "output_type": "stream",
     "text": [
      "Epoch 15/20 - Training: 100%|██████████| 12729/12729 [47:54<00:00,  4.43it/s]\n"
     ]
    },
    {
     "name": "stdout",
     "output_type": "stream",
     "text": [
      "Epoch [15/20], Train Loss: 0.6630, Train Acc: 0.8251, Val Loss: 3.0542, Val Acc: 0.5317\n"
     ]
    },
    {
     "name": "stderr",
     "output_type": "stream",
     "text": [
      "Epoch 16/20 - Training: 100%|██████████| 12729/12729 [53:45<00:00,  3.95it/s]\n"
     ]
    },
    {
     "name": "stdout",
     "output_type": "stream",
     "text": [
      "Epoch [16/20], Train Loss: 0.5614, Train Acc: 0.8487, Val Loss: 3.2146, Val Acc: 0.5277\n"
     ]
    },
    {
     "name": "stderr",
     "output_type": "stream",
     "text": [
      "Epoch 17/20 - Training: 100%|██████████| 12729/12729 [53:46<00:00,  3.94it/s]\n"
     ]
    },
    {
     "name": "stdout",
     "output_type": "stream",
     "text": [
      "Epoch [17/20], Train Loss: 0.4793, Train Acc: 0.8685, Val Loss: 3.5661, Val Acc: 0.5279\n"
     ]
    },
    {
     "name": "stderr",
     "output_type": "stream",
     "text": [
      "Epoch 18/20 - Training: 100%|██████████| 12729/12729 [53:38<00:00,  3.95it/s]\n"
     ]
    },
    {
     "name": "stdout",
     "output_type": "stream",
     "text": [
      "Epoch [18/20], Train Loss: 0.4109, Train Acc: 0.8853, Val Loss: 3.4984, Val Acc: 0.5312\n"
     ]
    },
    {
     "name": "stderr",
     "output_type": "stream",
     "text": [
      "Epoch 19/20 - Training: 100%|██████████| 12729/12729 [53:36<00:00,  3.96it/s]\n"
     ]
    },
    {
     "name": "stdout",
     "output_type": "stream",
     "text": [
      "Epoch [19/20], Train Loss: 0.3565, Train Acc: 0.8988, Val Loss: 3.7834, Val Acc: 0.5283\n"
     ]
    },
    {
     "name": "stderr",
     "output_type": "stream",
     "text": [
      "Epoch 20/20 - Training: 100%|██████████| 12729/12729 [53:34<00:00,  3.96it/s]\n"
     ]
    },
    {
     "name": "stdout",
     "output_type": "stream",
     "text": [
      "Epoch [20/20], Train Loss: 0.3170, Train Acc: 0.9088, Val Loss: 3.8658, Val Acc: 0.5289\n",
      "Best Validation Accuracy: 0.5386\n",
      "Test Accuracy: 0.5289\n",
      "\n",
      "Comparison of Test Accuracies:\n",
      "Scatter plot model test accuracy: 0.5021\n",
      "Trajectory plot model test accuracy: 0.5289\n"
     ]
    }
   ],
   "source": [
    "\n",
    "# 使用示例：比较散点图和轨迹图的训练效果\n",
    "folder = \"../../IQ_signal_plots\"  # 图像存储的文件夹\n",
    "compare_scatter_trajectory_training(folder, batch_size=32, epochs=20, lr=0.001)\n"
   ]
  }
 ],
 "metadata": {
  "kernelspec": {
   "display_name": "MW-RFF-4080",
   "language": "python",
   "name": "python3"
  },
  "language_info": {
   "codemirror_mode": {
    "name": "ipython",
    "version": 3
   },
   "file_extension": ".py",
   "mimetype": "text/x-python",
   "name": "python",
   "nbconvert_exporter": "python",
   "pygments_lexer": "ipython3",
   "version": "3.10.16"
  }
 },
 "nbformat": 4,
 "nbformat_minor": 2
}
