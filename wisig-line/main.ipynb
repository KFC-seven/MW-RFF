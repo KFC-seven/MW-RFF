{
 "cells": [
  {
   "cell_type": "code",
   "execution_count": 1,
   "metadata": {},
   "outputs": [],
   "source": [
    "from joblib import load\n",
    "import pandas as pd\n",
    "import numpy as np\n",
    "import os\n",
    "from  data_utilities import *\n",
    "import cv2  # OpenCV 用于调整图像大小和颜色处理\n",
    "import matplotlib\n",
    "matplotlib.use('agg')\n",
    "import matplotlib.pyplot as plt\n",
    "import gc  # 引入垃圾回收模块\n",
    "from tqdm.auto import tqdm  # 自动适配环境 导入tqdm进度条库\n",
    "from collections import defaultdict"
   ]
  },
  {
   "cell_type": "code",
   "execution_count": 2,
   "metadata": {},
   "outputs": [
    {
     "name": "stdout",
     "output_type": "stream",
     "text": [
      "数据集发射机数量： 150 具体为： ['1-1', '1-10', '1-11', '1-12', '1-14', '1-15', '1-16', '1-18', '1-19', '1-2', '1-8', '10-1', '10-10', '10-11', '10-17', '10-4', '10-7', '11-1', '11-10', '11-17', '11-19', '11-20', '11-4', '11-7', '12-1', '12-19', '12-20', '12-7', '13-14', '13-18', '13-19', '13-20', '13-3', '13-7', '14-10', '14-11', '14-12', '14-13', '14-14', '14-20', '14-7', '14-8', '14-9', '15-1', '15-19', '15-6', '16-1', '16-16', '16-19', '16-20', '16-5', '17-10', '17-11', '18-1', '18-10', '18-11', '18-12', '18-13', '18-14', '18-15', '18-16', '18-17', '18-2', '18-20', '18-4', '18-5', '18-7', '18-8', '18-9', '19-1', '19-10', '19-11', '19-12', '19-13', '19-14', '19-19', '19-2', '19-20', '19-3', '19-4', '19-6', '19-7', '19-8', '19-9', '2-1', '2-12', '2-13', '2-14', '2-15', '2-16', '2-17', '2-19', '2-20', '2-3', '2-4', '2-5', '2-6', '2-7', '2-8', '20-1', '20-12', '20-14', '20-15', '20-16', '20-18', '20-19', '20-20', '20-3', '20-4', '20-5', '20-7', '20-8', '3-1', '3-13', '3-18', '3-19', '3-2', '3-20', '3-8', '4-1', '4-10', '4-11', '5-1', '5-16', '5-20', '5-5', '6-1', '6-15', '6-6', '7-10', '7-11', '7-12', '7-13', '7-14', '7-20', '7-7', '7-8', '7-9', '8-1', '8-13', '8-14', '8-18', '8-20', '8-3', '8-7', '8-8', '9-1', '9-14', '9-20', '9-7']\n",
      "数据集接收机数量： 18 具体为： ['1-1', '1-19', '1-20', '13-7', '14-7', '18-19', '18-2', '19-1', '19-2', '2-1', '20-1', '20-19', '3-19', '7-14', '7-7', '8-14', '8-7', '8-8']\n",
      "数据集采集天数： 4 具体为： ['2021_03_01', '2021_03_08', '2021_03_15', '2021_03_23']\n",
      "150 18\n"
     ]
    }
   ],
   "source": [
    "dataset_name = 'ManyTx'\n",
    "dataset_path='../../ManyTx.pkl/'\n",
    "\n",
    "compact_dataset = load_compact_pkl_dataset(dataset_path,dataset_name)\n",
    "\n",
    "print(\"数据集发射机数量：\",len(compact_dataset['tx_list']),\"具体为：\",compact_dataset['tx_list'])\n",
    "print(\"数据集接收机数量：\",len(compact_dataset['rx_list']),\"具体为：\",compact_dataset['rx_list'])\n",
    "print(\"数据集采集天数：\",len(compact_dataset['capture_date_list']),\"具体为：\",compact_dataset['capture_date_list'])\n",
    "\n",
    "\n",
    "tx_list = compact_dataset['tx_list']\n",
    "rx_list = compact_dataset['rx_list']\n",
    "equalized = 1\n",
    "capture_date_list = compact_dataset['capture_date_list']\n",
    "\n",
    "\n",
    "n_tx = len(tx_list)\n",
    "n_rx = len(rx_list)\n",
    "print(n_tx,n_rx)\n"
   ]
  },
  {
   "cell_type": "code",
   "execution_count": 3,
   "metadata": {},
   "outputs": [],
   "source": [
    "# 取出每个发射机的IQ数据并进行合并\n",
    "dataset = generate_tx_datasets(compact_dataset,capture_date_list,tx_list,rx_list,equalized=equalized)\n",
    "\n",
    "# 转化为DataFrame格式\n",
    "df = pd.DataFrame(dataset)"
   ]
  },
  {
   "cell_type": "code",
   "execution_count": null,
   "metadata": {},
   "outputs": [],
   "source": [
    "# 生成短时时序图（按顺序）\n",
    "\n",
    "# 生成差分星座图和轨迹图的函数\n",
    "def plot_diff_constellation(iq_complex, tx_id, group_id, output_folder, line_color='red', line_width=1.5, scatter_color='blue'):\n",
    "    # 计算差分星座符号\n",
    "    diff_symbols = iq_complex[1:] * np.conj(iq_complex[:-1])\n",
    "    \n",
    "    # 创建发射机文件夹，如果不存在\n",
    "    tx_folder = os.path.join(output_folder, str(tx_id))\n",
    "    if not os.path.exists(tx_folder):\n",
    "        os.makedirs(tx_folder)\n",
    "    \n",
    "    # 创建存放散点图和轨迹图的子文件夹\n",
    "    scatter_folder = os.path.join(tx_folder, 'scatter_plots')\n",
    "    trajectory_folder = os.path.join(tx_folder, 'trajectory_plots')\n",
    "    \n",
    "    if not os.path.exists(scatter_folder):\n",
    "        os.makedirs(scatter_folder)\n",
    "    if not os.path.exists(trajectory_folder):\n",
    "        os.makedirs(trajectory_folder)\n",
    "    \n",
    "    # 绘制差分星座散点图\n",
    "    plt.figure(figsize=(8, 8))\n",
    "    plt.scatter(np.real(diff_symbols), np.imag(diff_symbols), color=scatter_color, alpha=0.7)\n",
    "    plt.axhline(0, color='gray', linestyle='--', linewidth=0.5)  # 横轴\n",
    "    plt.axvline(0, color='gray', linestyle='--', linewidth=0.5)  # 纵轴\n",
    "    plt.xticks([])  # 去掉x轴刻度\n",
    "    plt.yticks([])  # 去掉y轴刻度\n",
    "    plt.grid(False)  # 关闭网格\n",
    "\n",
    "    # 保存差分星座散点图\n",
    "    scatter_file = os.path.join(scatter_folder, f'scatter_group_{group_id}.png')\n",
    "    plt.savefig(scatter_file)\n",
    "    plt.close()  # 保存后关闭，释放内存\n",
    "\n",
    "    # 绘制差分轨迹图\n",
    "    plt.figure(figsize=(8, 8))\n",
    "    plt.plot(np.real(diff_symbols), np.imag(diff_symbols), color=line_color, linewidth=line_width, alpha=0.7)\n",
    "    plt.axhline(0, color='gray', linestyle='--', linewidth=0.5)  # 横轴\n",
    "    plt.axvline(0, color='gray', linestyle='--', linewidth=0.5)  # 纵轴\n",
    "    plt.xticks([])  # 去掉x轴刻度\n",
    "    plt.yticks([])  # 去掉y轴刻度\n",
    "    plt.grid(False)  # 关闭网格\n",
    "\n",
    "    # 保存差分轨迹图\n",
    "    trajectory_file = os.path.join(trajectory_folder, f'trajectory_group_{group_id}.png')\n",
    "    plt.savefig(trajectory_file)\n",
    "    plt.close()  # 保存后关闭，释放内存\n",
    "\n",
    "# 将图像调整为 ResNet-18 输入格式\n",
    "def preprocess_image_for_resnet(image_path, target_size=(224, 224)):\n",
    "    # 读取图像\n",
    "    image = cv2.imread(image_path, cv2.IMREAD_GRAYSCALE)  # 以灰度图模式读取\n",
    "    image_resized = cv2.resize(image, target_size)  # 调整图像大小\n",
    "    \n",
    "    # 如果是灰度图，将其转换为三通道\n",
    "    image_rgb = cv2.cvtColor(image_resized, cv2.COLOR_GRAY2RGB)\n",
    "    \n",
    "    # 标准化：归一化到 [0, 1] 范围，并减去均值\n",
    "    image_normalized = image_rgb.astype(np.float32) / 255.0  # 将图像像素值归一化到 [0, 1]\n",
    "    \n",
    "    # ResNet-18 预处理的均值和标准差\n",
    "    mean = np.array([0.485, 0.456, 0.406])\n",
    "    std = np.array([0.229, 0.224, 0.225])\n",
    "    \n",
    "    # 减去均值并除以标准差进行标准化\n",
    "    image_normalized = (image_normalized - mean) / std\n",
    "    \n",
    "    return image_normalized\n",
    "\n",
    "# 生成差分星座图和轨迹图的函数（批次处理版），并进行 ResNet 输入标准化\n",
    "def generate_diff_constellation_and_trajectory_batch(dataset, output_folder, batch_size=10, line_color='red', line_width=1.5, scatter_color='blue'):\n",
    "    # 将数据按批次分割\n",
    "    num_tx = len(dataset['node_list'])\n",
    "    for start_idx in range(0, num_tx, batch_size):\n",
    "        end_idx = min(start_idx + batch_size, num_tx)\n",
    "        batch_tx_ids = dataset['node_list'][start_idx:end_idx]\n",
    "        batch_data = dataset['data'][start_idx:end_idx]\n",
    "        \n",
    "        for tx_id, data in zip(batch_tx_ids, batch_data):\n",
    "            # 处理每个发射机的嵌套数组，reshape为 (N, 256, 2)，每组包含256个IQ信号\n",
    "            iq_data = data  # (N, 256, 2)\n",
    "            \n",
    "            # 对每一组IQ信号进行差分处理并绘图\n",
    "            for group_id in range(iq_data.shape[0]):  # 遍历每组数据\n",
    "                # 将IQ信号转换为复数形式\n",
    "                iq_complex = iq_data[group_id, :, 0] + 1j * iq_data[group_id, :, 1]\n",
    "                \n",
    "                # 对每组信号画差分星座图和轨迹图\n",
    "                plot_diff_constellation(iq_complex, tx_id, group_id, output_folder, line_color, line_width, scatter_color)\n",
    "                \n",
    "                # 生成图片路径\n",
    "                scatter_image_path = os.path.join(output_folder, str(tx_id), 'scatter_plots', f'scatter_group_{group_id}.png')\n",
    "                trajectory_image_path = os.path.join(output_folder, str(tx_id), 'trajectory_plots', f'trajectory_group_{group_id}.png')\n",
    "                \n",
    "                # 预处理图片（调整大小、转换为三通道、标准化）\n",
    "                scatter_image_processed = preprocess_image_for_resnet(scatter_image_path)\n",
    "                trajectory_image_processed = preprocess_image_for_resnet(trajectory_image_path)\n",
    "                \n",
    "                # 保存预处理后的图片，或者直接返回给训练模型使用\n",
    "                # 此处可以根据需要保存预处理后的图片，或者返回进行下一步处理\n",
    "\n",
    "        # 清理内存，处理完一个批次后释放内存\n",
    "        print(f\"Batch {start_idx // batch_size + 1} finished. Memory cleared.\")\n",
    "\n",
    "# 使用示例：生成不同发射机的差分星座图和轨迹图\n",
    "output_folder = \"../IQ_signal_plots\"  # 图像输出的根文件夹\n",
    "if not os.path.exists(output_folder):\n",
    "    os.makedirs(output_folder)\n",
    "\n",
    "line_color = 'blue'  # 设置轨迹图的线条颜色\n",
    "line_width = 2  # 设置轨迹图的线条宽度\n",
    "scatter_color = 'blue'  # 设置散点图的颜色\n",
    "\n",
    "# 调用批次处理函数生成图像并进行 ResNet 输入标准化\n",
    "generate_diff_constellation_and_trajectory_batch(dataset, output_folder, batch_size=10, line_color=line_color, line_width=line_width, scatter_color=scatter_color)\n"
   ]
  },
  {
   "cell_type": "code",
   "execution_count": null,
   "metadata": {},
   "outputs": [
    {
     "data": {
      "application/vnd.jupyter.widget-view+json": {
       "model_id": "7ded1b466f8641ddaf2d60db8e501b3f",
       "version_major": 2,
       "version_minor": 0
      },
      "text/plain": [
       "总进度:   0%|          | 0/150 [00:00<?, ?it/s]"
      ]
     },
     "metadata": {},
     "output_type": "display_data"
    },
    {
     "data": {
      "application/vnd.jupyter.widget-view+json": {
       "model_id": "b03bc5fdcea44413875cf39edbe988b8",
       "version_major": 2,
       "version_minor": 0
      },
      "text/plain": [
       "当前批次:   0%|          | 0/10 [00:00<?, ?it/s]"
      ]
     },
     "metadata": {},
     "output_type": "display_data"
    },
    {
     "data": {
      "application/vnd.jupyter.widget-view+json": {
       "model_id": "4de2115d8d364de88102ff0900093b17",
       "version_major": 2,
       "version_minor": 0
      },
      "text/plain": [
       "分组处理:   0%|          | 0/12 [00:00<?, ?it/s]"
      ]
     },
     "metadata": {},
     "output_type": "display_data"
    },
    {
     "data": {
      "application/vnd.jupyter.widget-view+json": {
       "model_id": "6fa5b7d421124a9d9dcca352d4a5cd77",
       "version_major": 2,
       "version_minor": 0
      },
      "text/plain": [
       "轨迹生成:   0%|          | 0/255 [00:00<?, ?it/s]"
      ]
     },
     "metadata": {},
     "output_type": "display_data"
    },
    {
     "data": {
      "application/vnd.jupyter.widget-view+json": {
       "model_id": "2ce3688f393e4f719a37e55a19bfbe2a",
       "version_major": 2,
       "version_minor": 0
      },
      "text/plain": [
       "轨迹生成:   0%|          | 0/255 [00:00<?, ?it/s]"
      ]
     },
     "metadata": {},
     "output_type": "display_data"
    },
    {
     "data": {
      "application/vnd.jupyter.widget-view+json": {
       "model_id": "f2ca48db23f6460fb7bffb048cbcc375",
       "version_major": 2,
       "version_minor": 0
      },
      "text/plain": [
       "轨迹生成:   0%|          | 0/255 [00:00<?, ?it/s]"
      ]
     },
     "metadata": {},
     "output_type": "display_data"
    },
    {
     "data": {
      "application/vnd.jupyter.widget-view+json": {
       "model_id": "60339bea874c4b37b5faad5b07cd431e",
       "version_major": 2,
       "version_minor": 0
      },
      "text/plain": [
       "轨迹生成:   0%|          | 0/255 [00:00<?, ?it/s]"
      ]
     },
     "metadata": {},
     "output_type": "display_data"
    },
    {
     "data": {
      "application/vnd.jupyter.widget-view+json": {
       "model_id": "41a48b0d9b5e4a188468c0cf4d76b188",
       "version_major": 2,
       "version_minor": 0
      },
      "text/plain": [
       "轨迹生成:   0%|          | 0/255 [00:00<?, ?it/s]"
      ]
     },
     "metadata": {},
     "output_type": "display_data"
    },
    {
     "data": {
      "application/vnd.jupyter.widget-view+json": {
       "model_id": "49e838ca86fd4d2d89b9fc9c254126ce",
       "version_major": 2,
       "version_minor": 0
      },
      "text/plain": [
       "轨迹生成:   0%|          | 0/255 [00:00<?, ?it/s]"
      ]
     },
     "metadata": {},
     "output_type": "display_data"
    },
    {
     "data": {
      "application/vnd.jupyter.widget-view+json": {
       "model_id": "f23c13431ad64c4aa661c37095fe27fd",
       "version_major": 2,
       "version_minor": 0
      },
      "text/plain": [
       "轨迹生成:   0%|          | 0/255 [00:00<?, ?it/s]"
      ]
     },
     "metadata": {},
     "output_type": "display_data"
    },
    {
     "data": {
      "application/vnd.jupyter.widget-view+json": {
       "model_id": "c87aab55b024411c92bd822e2d720e0b",
       "version_major": 2,
       "version_minor": 0
      },
      "text/plain": [
       "轨迹生成:   0%|          | 0/255 [00:00<?, ?it/s]"
      ]
     },
     "metadata": {},
     "output_type": "display_data"
    },
    {
     "data": {
      "application/vnd.jupyter.widget-view+json": {
       "model_id": "f1c4ec1aae494f7ba1eb7f2b60e87f8b",
       "version_major": 2,
       "version_minor": 0
      },
      "text/plain": [
       "轨迹生成:   0%|          | 0/255 [00:00<?, ?it/s]"
      ]
     },
     "metadata": {},
     "output_type": "display_data"
    },
    {
     "data": {
      "application/vnd.jupyter.widget-view+json": {
       "model_id": "98dacc69797e4004976fad88b725f4ec",
       "version_major": 2,
       "version_minor": 0
      },
      "text/plain": [
       "轨迹生成:   0%|          | 0/255 [00:00<?, ?it/s]"
      ]
     },
     "metadata": {},
     "output_type": "display_data"
    },
    {
     "data": {
      "application/vnd.jupyter.widget-view+json": {
       "model_id": "6f73a1e843fa4074a49c414d27b07286",
       "version_major": 2,
       "version_minor": 0
      },
      "text/plain": [
       "轨迹生成:   0%|          | 0/255 [00:00<?, ?it/s]"
      ]
     },
     "metadata": {},
     "output_type": "display_data"
    },
    {
     "data": {
      "application/vnd.jupyter.widget-view+json": {
       "model_id": "b53495380ad84234ab345493295823f2",
       "version_major": 2,
       "version_minor": 0
      },
      "text/plain": [
       "轨迹生成:   0%|          | 0/255 [00:00<?, ?it/s]"
      ]
     },
     "metadata": {},
     "output_type": "display_data"
    },
    {
     "name": "stdout",
     "output_type": "stream",
     "text": [
      "\n",
      "✅ 1-1 完成 | 共生成 3060 张轨迹图\n"
     ]
    },
    {
     "data": {
      "application/vnd.jupyter.widget-view+json": {
       "model_id": "3d85845be2c747a3a76314a33003c3d3",
       "version_major": 2,
       "version_minor": 0
      },
      "text/plain": [
       "分组处理:   0%|          | 0/15 [00:00<?, ?it/s]"
      ]
     },
     "metadata": {},
     "output_type": "display_data"
    },
    {
     "data": {
      "application/vnd.jupyter.widget-view+json": {
       "model_id": "3516e3c8490249b9aeb7dece8faea305",
       "version_major": 2,
       "version_minor": 0
      },
      "text/plain": [
       "轨迹生成:   0%|          | 0/255 [00:00<?, ?it/s]"
      ]
     },
     "metadata": {},
     "output_type": "display_data"
    },
    {
     "data": {
      "application/vnd.jupyter.widget-view+json": {
       "model_id": "37d2da8b6e404e72a6376b8e0e80d10a",
       "version_major": 2,
       "version_minor": 0
      },
      "text/plain": [
       "轨迹生成:   0%|          | 0/255 [00:00<?, ?it/s]"
      ]
     },
     "metadata": {},
     "output_type": "display_data"
    },
    {
     "data": {
      "application/vnd.jupyter.widget-view+json": {
       "model_id": "579177669bd04c9ba87bca6ebd5bcbbc",
       "version_major": 2,
       "version_minor": 0
      },
      "text/plain": [
       "轨迹生成:   0%|          | 0/255 [00:00<?, ?it/s]"
      ]
     },
     "metadata": {},
     "output_type": "display_data"
    },
    {
     "data": {
      "application/vnd.jupyter.widget-view+json": {
       "model_id": "54295ff309ac49a69925b9b7767f87d9",
       "version_major": 2,
       "version_minor": 0
      },
      "text/plain": [
       "轨迹生成:   0%|          | 0/255 [00:00<?, ?it/s]"
      ]
     },
     "metadata": {},
     "output_type": "display_data"
    },
    {
     "data": {
      "application/vnd.jupyter.widget-view+json": {
       "model_id": "f229dbb34715484992268633bf7bcbc1",
       "version_major": 2,
       "version_minor": 0
      },
      "text/plain": [
       "轨迹生成:   0%|          | 0/255 [00:00<?, ?it/s]"
      ]
     },
     "metadata": {},
     "output_type": "display_data"
    },
    {
     "data": {
      "application/vnd.jupyter.widget-view+json": {
       "model_id": "5baf2fffc23a402e99ac676f5d3f1135",
       "version_major": 2,
       "version_minor": 0
      },
      "text/plain": [
       "轨迹生成:   0%|          | 0/255 [00:00<?, ?it/s]"
      ]
     },
     "metadata": {},
     "output_type": "display_data"
    },
    {
     "data": {
      "application/vnd.jupyter.widget-view+json": {
       "model_id": "36aa921c181843fd8e4fb17ab40df644",
       "version_major": 2,
       "version_minor": 0
      },
      "text/plain": [
       "轨迹生成:   0%|          | 0/255 [00:00<?, ?it/s]"
      ]
     },
     "metadata": {},
     "output_type": "display_data"
    },
    {
     "data": {
      "application/vnd.jupyter.widget-view+json": {
       "model_id": "8867183b5cd546b8bbd9240691392d01",
       "version_major": 2,
       "version_minor": 0
      },
      "text/plain": [
       "轨迹生成:   0%|          | 0/255 [00:00<?, ?it/s]"
      ]
     },
     "metadata": {},
     "output_type": "display_data"
    },
    {
     "data": {
      "application/vnd.jupyter.widget-view+json": {
       "model_id": "8ab303f5a62c4848aeef2d958ca9461b",
       "version_major": 2,
       "version_minor": 0
      },
      "text/plain": [
       "轨迹生成:   0%|          | 0/255 [00:00<?, ?it/s]"
      ]
     },
     "metadata": {},
     "output_type": "display_data"
    },
    {
     "data": {
      "application/vnd.jupyter.widget-view+json": {
       "model_id": "97313df2fc224e68a8f007fb2640b7b5",
       "version_major": 2,
       "version_minor": 0
      },
      "text/plain": [
       "轨迹生成:   0%|          | 0/255 [00:00<?, ?it/s]"
      ]
     },
     "metadata": {},
     "output_type": "display_data"
    },
    {
     "data": {
      "application/vnd.jupyter.widget-view+json": {
       "model_id": "c52d557be9b94e369cf3442f4da7732f",
       "version_major": 2,
       "version_minor": 0
      },
      "text/plain": [
       "轨迹生成:   0%|          | 0/255 [00:00<?, ?it/s]"
      ]
     },
     "metadata": {},
     "output_type": "display_data"
    },
    {
     "data": {
      "application/vnd.jupyter.widget-view+json": {
       "model_id": "4f29765f7b1c4362ad4ff8c8d78815d7",
       "version_major": 2,
       "version_minor": 0
      },
      "text/plain": [
       "轨迹生成:   0%|          | 0/255 [00:00<?, ?it/s]"
      ]
     },
     "metadata": {},
     "output_type": "display_data"
    },
    {
     "data": {
      "application/vnd.jupyter.widget-view+json": {
       "model_id": "7f3703816fa446198ebbe4d1aeb665df",
       "version_major": 2,
       "version_minor": 0
      },
      "text/plain": [
       "轨迹生成:   0%|          | 0/255 [00:00<?, ?it/s]"
      ]
     },
     "metadata": {},
     "output_type": "display_data"
    },
    {
     "data": {
      "application/vnd.jupyter.widget-view+json": {
       "model_id": "7f11bb4eda72485ba6f83f87e1a1af4f",
       "version_major": 2,
       "version_minor": 0
      },
      "text/plain": [
       "轨迹生成:   0%|          | 0/255 [00:00<?, ?it/s]"
      ]
     },
     "metadata": {},
     "output_type": "display_data"
    },
    {
     "data": {
      "application/vnd.jupyter.widget-view+json": {
       "model_id": "1eac3fdcb81e402bb06edcf2f6c543bf",
       "version_major": 2,
       "version_minor": 0
      },
      "text/plain": [
       "轨迹生成:   0%|          | 0/255 [00:00<?, ?it/s]"
      ]
     },
     "metadata": {},
     "output_type": "display_data"
    },
    {
     "name": "stdout",
     "output_type": "stream",
     "text": [
      "\n",
      "✅ 1-10 完成 | 共生成 3825 张轨迹图\n"
     ]
    },
    {
     "data": {
      "application/vnd.jupyter.widget-view+json": {
       "model_id": "9c73d7ad424a47ccb1b63b5f1654945c",
       "version_major": 2,
       "version_minor": 0
      },
      "text/plain": [
       "分组处理:   0%|          | 0/12 [00:00<?, ?it/s]"
      ]
     },
     "metadata": {},
     "output_type": "display_data"
    },
    {
     "data": {
      "application/vnd.jupyter.widget-view+json": {
       "model_id": "5064d8bc4b3a4dcf9fddf05226dda9cc",
       "version_major": 2,
       "version_minor": 0
      },
      "text/plain": [
       "轨迹生成:   0%|          | 0/255 [00:00<?, ?it/s]"
      ]
     },
     "metadata": {},
     "output_type": "display_data"
    },
    {
     "data": {
      "application/vnd.jupyter.widget-view+json": {
       "model_id": "647273de0d0e42d3836e06b0713b727c",
       "version_major": 2,
       "version_minor": 0
      },
      "text/plain": [
       "轨迹生成:   0%|          | 0/255 [00:00<?, ?it/s]"
      ]
     },
     "metadata": {},
     "output_type": "display_data"
    },
    {
     "data": {
      "application/vnd.jupyter.widget-view+json": {
       "model_id": "144178064d65424d8b1a65e0d70f41f2",
       "version_major": 2,
       "version_minor": 0
      },
      "text/plain": [
       "轨迹生成:   0%|          | 0/255 [00:00<?, ?it/s]"
      ]
     },
     "metadata": {},
     "output_type": "display_data"
    },
    {
     "data": {
      "application/vnd.jupyter.widget-view+json": {
       "model_id": "117ccc433cb54223b5745b2e3f9e8755",
       "version_major": 2,
       "version_minor": 0
      },
      "text/plain": [
       "轨迹生成:   0%|          | 0/255 [00:00<?, ?it/s]"
      ]
     },
     "metadata": {},
     "output_type": "display_data"
    },
    {
     "data": {
      "application/vnd.jupyter.widget-view+json": {
       "model_id": "ef8fc066b9454be99842e38f0ced08a9",
       "version_major": 2,
       "version_minor": 0
      },
      "text/plain": [
       "轨迹生成:   0%|          | 0/255 [00:00<?, ?it/s]"
      ]
     },
     "metadata": {},
     "output_type": "display_data"
    },
    {
     "data": {
      "application/vnd.jupyter.widget-view+json": {
       "model_id": "06f7e9f2da72405fb865a697ff0ad6e9",
       "version_major": 2,
       "version_minor": 0
      },
      "text/plain": [
       "轨迹生成:   0%|          | 0/255 [00:00<?, ?it/s]"
      ]
     },
     "metadata": {},
     "output_type": "display_data"
    },
    {
     "data": {
      "application/vnd.jupyter.widget-view+json": {
       "model_id": "b0010d56384d4690804f131e673b75ab",
       "version_major": 2,
       "version_minor": 0
      },
      "text/plain": [
       "轨迹生成:   0%|          | 0/255 [00:00<?, ?it/s]"
      ]
     },
     "metadata": {},
     "output_type": "display_data"
    },
    {
     "data": {
      "application/vnd.jupyter.widget-view+json": {
       "model_id": "173bbde2d2d540d1883477865bec1bc9",
       "version_major": 2,
       "version_minor": 0
      },
      "text/plain": [
       "轨迹生成:   0%|          | 0/255 [00:00<?, ?it/s]"
      ]
     },
     "metadata": {},
     "output_type": "display_data"
    },
    {
     "data": {
      "application/vnd.jupyter.widget-view+json": {
       "model_id": "fbe1785151924837a0c3b31664c46c2c",
       "version_major": 2,
       "version_minor": 0
      },
      "text/plain": [
       "轨迹生成:   0%|          | 0/255 [00:00<?, ?it/s]"
      ]
     },
     "metadata": {},
     "output_type": "display_data"
    },
    {
     "data": {
      "application/vnd.jupyter.widget-view+json": {
       "model_id": "645f7223f6f7445cbc9dd8d47d0d6937",
       "version_major": 2,
       "version_minor": 0
      },
      "text/plain": [
       "轨迹生成:   0%|          | 0/255 [00:00<?, ?it/s]"
      ]
     },
     "metadata": {},
     "output_type": "display_data"
    },
    {
     "data": {
      "application/vnd.jupyter.widget-view+json": {
       "model_id": "ef55cebea54c41efb118abcc064a521a",
       "version_major": 2,
       "version_minor": 0
      },
      "text/plain": [
       "轨迹生成:   0%|          | 0/255 [00:00<?, ?it/s]"
      ]
     },
     "metadata": {},
     "output_type": "display_data"
    },
    {
     "data": {
      "application/vnd.jupyter.widget-view+json": {
       "model_id": "5020cded1f0b4418a62aa327870b38ff",
       "version_major": 2,
       "version_minor": 0
      },
      "text/plain": [
       "轨迹生成:   0%|          | 0/255 [00:00<?, ?it/s]"
      ]
     },
     "metadata": {},
     "output_type": "display_data"
    },
    {
     "name": "stdout",
     "output_type": "stream",
     "text": [
      "\n",
      "✅ 1-11 完成 | 共生成 3060 张轨迹图\n"
     ]
    },
    {
     "data": {
      "application/vnd.jupyter.widget-view+json": {
       "model_id": "67128188250c429f8c8728031a4d3417",
       "version_major": 2,
       "version_minor": 0
      },
      "text/plain": [
       "分组处理:   0%|          | 0/14 [00:00<?, ?it/s]"
      ]
     },
     "metadata": {},
     "output_type": "display_data"
    },
    {
     "data": {
      "application/vnd.jupyter.widget-view+json": {
       "model_id": "0bb272500d6b402fa047e98d0713c8b7",
       "version_major": 2,
       "version_minor": 0
      },
      "text/plain": [
       "轨迹生成:   0%|          | 0/255 [00:00<?, ?it/s]"
      ]
     },
     "metadata": {},
     "output_type": "display_data"
    },
    {
     "data": {
      "application/vnd.jupyter.widget-view+json": {
       "model_id": "d49a135c73c241c7813e30e1bff96aa3",
       "version_major": 2,
       "version_minor": 0
      },
      "text/plain": [
       "轨迹生成:   0%|          | 0/255 [00:00<?, ?it/s]"
      ]
     },
     "metadata": {},
     "output_type": "display_data"
    },
    {
     "data": {
      "application/vnd.jupyter.widget-view+json": {
       "model_id": "ffdb1c3ed7ce4d91a4ffa3222cf515d1",
       "version_major": 2,
       "version_minor": 0
      },
      "text/plain": [
       "轨迹生成:   0%|          | 0/255 [00:00<?, ?it/s]"
      ]
     },
     "metadata": {},
     "output_type": "display_data"
    },
    {
     "data": {
      "application/vnd.jupyter.widget-view+json": {
       "model_id": "ad193b83d1ab433e8a892c19fa3c39f8",
       "version_major": 2,
       "version_minor": 0
      },
      "text/plain": [
       "轨迹生成:   0%|          | 0/255 [00:00<?, ?it/s]"
      ]
     },
     "metadata": {},
     "output_type": "display_data"
    },
    {
     "data": {
      "application/vnd.jupyter.widget-view+json": {
       "model_id": "3a762a588f6f4a77b4c3994cd8e2b0b8",
       "version_major": 2,
       "version_minor": 0
      },
      "text/plain": [
       "轨迹生成:   0%|          | 0/255 [00:00<?, ?it/s]"
      ]
     },
     "metadata": {},
     "output_type": "display_data"
    },
    {
     "data": {
      "application/vnd.jupyter.widget-view+json": {
       "model_id": "d32b5d09a22a484889758a6935c45a66",
       "version_major": 2,
       "version_minor": 0
      },
      "text/plain": [
       "轨迹生成:   0%|          | 0/255 [00:00<?, ?it/s]"
      ]
     },
     "metadata": {},
     "output_type": "display_data"
    },
    {
     "data": {
      "application/vnd.jupyter.widget-view+json": {
       "model_id": "e9b34a4a1a5c410a91d344f4823a0715",
       "version_major": 2,
       "version_minor": 0
      },
      "text/plain": [
       "轨迹生成:   0%|          | 0/255 [00:00<?, ?it/s]"
      ]
     },
     "metadata": {},
     "output_type": "display_data"
    },
    {
     "data": {
      "application/vnd.jupyter.widget-view+json": {
       "model_id": "fff6ad35ff3143ee8c2929d8965af955",
       "version_major": 2,
       "version_minor": 0
      },
      "text/plain": [
       "轨迹生成:   0%|          | 0/255 [00:00<?, ?it/s]"
      ]
     },
     "metadata": {},
     "output_type": "display_data"
    },
    {
     "data": {
      "application/vnd.jupyter.widget-view+json": {
       "model_id": "4b9aaa60299f4c64983538eeb6dc461b",
       "version_major": 2,
       "version_minor": 0
      },
      "text/plain": [
       "轨迹生成:   0%|          | 0/255 [00:00<?, ?it/s]"
      ]
     },
     "metadata": {},
     "output_type": "display_data"
    },
    {
     "data": {
      "application/vnd.jupyter.widget-view+json": {
       "model_id": "0ff3a3b883244cf483e2eee642b50ba5",
       "version_major": 2,
       "version_minor": 0
      },
      "text/plain": [
       "轨迹生成:   0%|          | 0/255 [00:00<?, ?it/s]"
      ]
     },
     "metadata": {},
     "output_type": "display_data"
    },
    {
     "data": {
      "application/vnd.jupyter.widget-view+json": {
       "model_id": "44ed2dc6b1a942baa148f0b9f0737f9f",
       "version_major": 2,
       "version_minor": 0
      },
      "text/plain": [
       "轨迹生成:   0%|          | 0/255 [00:00<?, ?it/s]"
      ]
     },
     "metadata": {},
     "output_type": "display_data"
    },
    {
     "data": {
      "application/vnd.jupyter.widget-view+json": {
       "model_id": "f43234b9c4f84f55a675d337d2518c44",
       "version_major": 2,
       "version_minor": 0
      },
      "text/plain": [
       "轨迹生成:   0%|          | 0/255 [00:00<?, ?it/s]"
      ]
     },
     "metadata": {},
     "output_type": "display_data"
    },
    {
     "data": {
      "application/vnd.jupyter.widget-view+json": {
       "model_id": "94a62c78638b4fdd89da8af8896fefce",
       "version_major": 2,
       "version_minor": 0
      },
      "text/plain": [
       "轨迹生成:   0%|          | 0/255 [00:00<?, ?it/s]"
      ]
     },
     "metadata": {},
     "output_type": "display_data"
    },
    {
     "data": {
      "application/vnd.jupyter.widget-view+json": {
       "model_id": "68309c407a424540a131ce635c222470",
       "version_major": 2,
       "version_minor": 0
      },
      "text/plain": [
       "轨迹生成:   0%|          | 0/255 [00:00<?, ?it/s]"
      ]
     },
     "metadata": {},
     "output_type": "display_data"
    },
    {
     "name": "stdout",
     "output_type": "stream",
     "text": [
      "\n",
      "✅ 1-12 完成 | 共生成 3570 张轨迹图\n"
     ]
    },
    {
     "data": {
      "application/vnd.jupyter.widget-view+json": {
       "model_id": "28563b8e65f142159d9112880c1e02cb",
       "version_major": 2,
       "version_minor": 0
      },
      "text/plain": [
       "分组处理:   0%|          | 0/15 [00:00<?, ?it/s]"
      ]
     },
     "metadata": {},
     "output_type": "display_data"
    },
    {
     "data": {
      "application/vnd.jupyter.widget-view+json": {
       "model_id": "765e6af21fe14955946e15a14763d895",
       "version_major": 2,
       "version_minor": 0
      },
      "text/plain": [
       "轨迹生成:   0%|          | 0/255 [00:00<?, ?it/s]"
      ]
     },
     "metadata": {},
     "output_type": "display_data"
    },
    {
     "data": {
      "application/vnd.jupyter.widget-view+json": {
       "model_id": "9702f74f8de34d748ae01779e19bfeba",
       "version_major": 2,
       "version_minor": 0
      },
      "text/plain": [
       "轨迹生成:   0%|          | 0/255 [00:00<?, ?it/s]"
      ]
     },
     "metadata": {},
     "output_type": "display_data"
    },
    {
     "data": {
      "application/vnd.jupyter.widget-view+json": {
       "model_id": "34989a81364d405197719c67966cf273",
       "version_major": 2,
       "version_minor": 0
      },
      "text/plain": [
       "轨迹生成:   0%|          | 0/255 [00:00<?, ?it/s]"
      ]
     },
     "metadata": {},
     "output_type": "display_data"
    },
    {
     "data": {
      "application/vnd.jupyter.widget-view+json": {
       "model_id": "f7287930f8c34f7fabdeaf100804961f",
       "version_major": 2,
       "version_minor": 0
      },
      "text/plain": [
       "轨迹生成:   0%|          | 0/255 [00:00<?, ?it/s]"
      ]
     },
     "metadata": {},
     "output_type": "display_data"
    },
    {
     "data": {
      "application/vnd.jupyter.widget-view+json": {
       "model_id": "b9f2df5b64364da8ac3096aaad4162e3",
       "version_major": 2,
       "version_minor": 0
      },
      "text/plain": [
       "轨迹生成:   0%|          | 0/255 [00:00<?, ?it/s]"
      ]
     },
     "metadata": {},
     "output_type": "display_data"
    },
    {
     "data": {
      "application/vnd.jupyter.widget-view+json": {
       "model_id": "3e9316ad1d254cfc8df2fc83bd3a0c0b",
       "version_major": 2,
       "version_minor": 0
      },
      "text/plain": [
       "轨迹生成:   0%|          | 0/255 [00:00<?, ?it/s]"
      ]
     },
     "metadata": {},
     "output_type": "display_data"
    },
    {
     "data": {
      "application/vnd.jupyter.widget-view+json": {
       "model_id": "f8361f3f080f4439b4bfdd671042014b",
       "version_major": 2,
       "version_minor": 0
      },
      "text/plain": [
       "轨迹生成:   0%|          | 0/255 [00:00<?, ?it/s]"
      ]
     },
     "metadata": {},
     "output_type": "display_data"
    },
    {
     "data": {
      "application/vnd.jupyter.widget-view+json": {
       "model_id": "e275c477a2b743e5b883df5f5ead5840",
       "version_major": 2,
       "version_minor": 0
      },
      "text/plain": [
       "轨迹生成:   0%|          | 0/255 [00:00<?, ?it/s]"
      ]
     },
     "metadata": {},
     "output_type": "display_data"
    },
    {
     "data": {
      "application/vnd.jupyter.widget-view+json": {
       "model_id": "c85da28dd874470482396b3bccb46c70",
       "version_major": 2,
       "version_minor": 0
      },
      "text/plain": [
       "轨迹生成:   0%|          | 0/255 [00:00<?, ?it/s]"
      ]
     },
     "metadata": {},
     "output_type": "display_data"
    },
    {
     "data": {
      "application/vnd.jupyter.widget-view+json": {
       "model_id": "958053707f6942e3bf1978ef481088d4",
       "version_major": 2,
       "version_minor": 0
      },
      "text/plain": [
       "轨迹生成:   0%|          | 0/255 [00:00<?, ?it/s]"
      ]
     },
     "metadata": {},
     "output_type": "display_data"
    },
    {
     "data": {
      "application/vnd.jupyter.widget-view+json": {
       "model_id": "c8686fb58ace40deb6329a7ca52d3a3c",
       "version_major": 2,
       "version_minor": 0
      },
      "text/plain": [
       "轨迹生成:   0%|          | 0/255 [00:00<?, ?it/s]"
      ]
     },
     "metadata": {},
     "output_type": "display_data"
    },
    {
     "data": {
      "application/vnd.jupyter.widget-view+json": {
       "model_id": "6a612db5e5c844b8b07b16867696f621",
       "version_major": 2,
       "version_minor": 0
      },
      "text/plain": [
       "轨迹生成:   0%|          | 0/255 [00:00<?, ?it/s]"
      ]
     },
     "metadata": {},
     "output_type": "display_data"
    },
    {
     "data": {
      "application/vnd.jupyter.widget-view+json": {
       "model_id": "fdfb0b7be8f84659b2017b5d3f2319b9",
       "version_major": 2,
       "version_minor": 0
      },
      "text/plain": [
       "轨迹生成:   0%|          | 0/255 [00:00<?, ?it/s]"
      ]
     },
     "metadata": {},
     "output_type": "display_data"
    },
    {
     "data": {
      "application/vnd.jupyter.widget-view+json": {
       "model_id": "60e4ef0ff1344c0bb3c5fa33b82b84c4",
       "version_major": 2,
       "version_minor": 0
      },
      "text/plain": [
       "轨迹生成:   0%|          | 0/255 [00:00<?, ?it/s]"
      ]
     },
     "metadata": {},
     "output_type": "display_data"
    },
    {
     "data": {
      "application/vnd.jupyter.widget-view+json": {
       "model_id": "b9d8cf37efe74e35b84c31929d8fc438",
       "version_major": 2,
       "version_minor": 0
      },
      "text/plain": [
       "轨迹生成:   0%|          | 0/255 [00:00<?, ?it/s]"
      ]
     },
     "metadata": {},
     "output_type": "display_data"
    },
    {
     "name": "stdout",
     "output_type": "stream",
     "text": [
      "\n",
      "✅ 1-14 完成 | 共生成 3825 张轨迹图\n"
     ]
    },
    {
     "data": {
      "application/vnd.jupyter.widget-view+json": {
       "model_id": "0f1e0bfead3848d38997db6ca7f84e03",
       "version_major": 2,
       "version_minor": 0
      },
      "text/plain": [
       "分组处理:   0%|          | 0/12 [00:00<?, ?it/s]"
      ]
     },
     "metadata": {},
     "output_type": "display_data"
    },
    {
     "data": {
      "application/vnd.jupyter.widget-view+json": {
       "model_id": "f585c51050f34c349352b22de34c8fb9",
       "version_major": 2,
       "version_minor": 0
      },
      "text/plain": [
       "轨迹生成:   0%|          | 0/255 [00:00<?, ?it/s]"
      ]
     },
     "metadata": {},
     "output_type": "display_data"
    },
    {
     "data": {
      "application/vnd.jupyter.widget-view+json": {
       "model_id": "29ed8ed9134847a5a074da2b77aa8589",
       "version_major": 2,
       "version_minor": 0
      },
      "text/plain": [
       "轨迹生成:   0%|          | 0/255 [00:00<?, ?it/s]"
      ]
     },
     "metadata": {},
     "output_type": "display_data"
    },
    {
     "data": {
      "application/vnd.jupyter.widget-view+json": {
       "model_id": "39040b859c104841aa1265820e0964c0",
       "version_major": 2,
       "version_minor": 0
      },
      "text/plain": [
       "轨迹生成:   0%|          | 0/255 [00:00<?, ?it/s]"
      ]
     },
     "metadata": {},
     "output_type": "display_data"
    },
    {
     "data": {
      "application/vnd.jupyter.widget-view+json": {
       "model_id": "9ee77aeec306410397bd9325fdd32f55",
       "version_major": 2,
       "version_minor": 0
      },
      "text/plain": [
       "轨迹生成:   0%|          | 0/255 [00:00<?, ?it/s]"
      ]
     },
     "metadata": {},
     "output_type": "display_data"
    },
    {
     "data": {
      "application/vnd.jupyter.widget-view+json": {
       "model_id": "43feb0a78051456a87685c21e66aa5e2",
       "version_major": 2,
       "version_minor": 0
      },
      "text/plain": [
       "轨迹生成:   0%|          | 0/255 [00:00<?, ?it/s]"
      ]
     },
     "metadata": {},
     "output_type": "display_data"
    },
    {
     "data": {
      "application/vnd.jupyter.widget-view+json": {
       "model_id": "2f9327671ab24f3cbcbe93745794f478",
       "version_major": 2,
       "version_minor": 0
      },
      "text/plain": [
       "轨迹生成:   0%|          | 0/255 [00:00<?, ?it/s]"
      ]
     },
     "metadata": {},
     "output_type": "display_data"
    },
    {
     "data": {
      "application/vnd.jupyter.widget-view+json": {
       "model_id": "3721b54a91b2410fabd57ae3261c606c",
       "version_major": 2,
       "version_minor": 0
      },
      "text/plain": [
       "轨迹生成:   0%|          | 0/255 [00:00<?, ?it/s]"
      ]
     },
     "metadata": {},
     "output_type": "display_data"
    },
    {
     "data": {
      "application/vnd.jupyter.widget-view+json": {
       "model_id": "a55522c4ee37478889cfdd0c9546f069",
       "version_major": 2,
       "version_minor": 0
      },
      "text/plain": [
       "轨迹生成:   0%|          | 0/255 [00:00<?, ?it/s]"
      ]
     },
     "metadata": {},
     "output_type": "display_data"
    },
    {
     "data": {
      "application/vnd.jupyter.widget-view+json": {
       "model_id": "a376eec919fc4f928c7608866e9eae56",
       "version_major": 2,
       "version_minor": 0
      },
      "text/plain": [
       "轨迹生成:   0%|          | 0/255 [00:00<?, ?it/s]"
      ]
     },
     "metadata": {},
     "output_type": "display_data"
    },
    {
     "data": {
      "application/vnd.jupyter.widget-view+json": {
       "model_id": "b9767b6232084d39bb286b7da7d0fe38",
       "version_major": 2,
       "version_minor": 0
      },
      "text/plain": [
       "轨迹生成:   0%|          | 0/255 [00:00<?, ?it/s]"
      ]
     },
     "metadata": {},
     "output_type": "display_data"
    },
    {
     "data": {
      "application/vnd.jupyter.widget-view+json": {
       "model_id": "6a75d4aea3d4445596a3ff9b54409a13",
       "version_major": 2,
       "version_minor": 0
      },
      "text/plain": [
       "轨迹生成:   0%|          | 0/255 [00:00<?, ?it/s]"
      ]
     },
     "metadata": {},
     "output_type": "display_data"
    },
    {
     "data": {
      "application/vnd.jupyter.widget-view+json": {
       "model_id": "188cb3ded5204dfd945f4b483e7a44a4",
       "version_major": 2,
       "version_minor": 0
      },
      "text/plain": [
       "轨迹生成:   0%|          | 0/255 [00:00<?, ?it/s]"
      ]
     },
     "metadata": {},
     "output_type": "display_data"
    },
    {
     "name": "stdout",
     "output_type": "stream",
     "text": [
      "\n",
      "✅ 1-15 完成 | 共生成 3060 张轨迹图\n"
     ]
    },
    {
     "data": {
      "application/vnd.jupyter.widget-view+json": {
       "model_id": "a5e96ba69fa041bcbd599e1d2d5b993b",
       "version_major": 2,
       "version_minor": 0
      },
      "text/plain": [
       "分组处理:   0%|          | 0/14 [00:00<?, ?it/s]"
      ]
     },
     "metadata": {},
     "output_type": "display_data"
    },
    {
     "data": {
      "application/vnd.jupyter.widget-view+json": {
       "model_id": "e67827f96fc9404cb23a24c387cc0f0d",
       "version_major": 2,
       "version_minor": 0
      },
      "text/plain": [
       "轨迹生成:   0%|          | 0/255 [00:00<?, ?it/s]"
      ]
     },
     "metadata": {},
     "output_type": "display_data"
    },
    {
     "data": {
      "application/vnd.jupyter.widget-view+json": {
       "model_id": "4a68c6cb7a084de184783b519295311f",
       "version_major": 2,
       "version_minor": 0
      },
      "text/plain": [
       "轨迹生成:   0%|          | 0/255 [00:00<?, ?it/s]"
      ]
     },
     "metadata": {},
     "output_type": "display_data"
    },
    {
     "data": {
      "application/vnd.jupyter.widget-view+json": {
       "model_id": "b6686dbd623a4fd4920bf475760928ec",
       "version_major": 2,
       "version_minor": 0
      },
      "text/plain": [
       "轨迹生成:   0%|          | 0/255 [00:00<?, ?it/s]"
      ]
     },
     "metadata": {},
     "output_type": "display_data"
    },
    {
     "data": {
      "application/vnd.jupyter.widget-view+json": {
       "model_id": "f91aa6908e7747c292a0c3002806beea",
       "version_major": 2,
       "version_minor": 0
      },
      "text/plain": [
       "轨迹生成:   0%|          | 0/255 [00:00<?, ?it/s]"
      ]
     },
     "metadata": {},
     "output_type": "display_data"
    },
    {
     "data": {
      "application/vnd.jupyter.widget-view+json": {
       "model_id": "0a7fd66147534922989512ce67c4bc87",
       "version_major": 2,
       "version_minor": 0
      },
      "text/plain": [
       "轨迹生成:   0%|          | 0/255 [00:00<?, ?it/s]"
      ]
     },
     "metadata": {},
     "output_type": "display_data"
    },
    {
     "data": {
      "application/vnd.jupyter.widget-view+json": {
       "model_id": "264d5a0480d74b8f93ded0a74fe6d764",
       "version_major": 2,
       "version_minor": 0
      },
      "text/plain": [
       "轨迹生成:   0%|          | 0/255 [00:00<?, ?it/s]"
      ]
     },
     "metadata": {},
     "output_type": "display_data"
    },
    {
     "data": {
      "application/vnd.jupyter.widget-view+json": {
       "model_id": "27706f12e98446d59ce3c5e700b6326f",
       "version_major": 2,
       "version_minor": 0
      },
      "text/plain": [
       "轨迹生成:   0%|          | 0/255 [00:00<?, ?it/s]"
      ]
     },
     "metadata": {},
     "output_type": "display_data"
    },
    {
     "data": {
      "application/vnd.jupyter.widget-view+json": {
       "model_id": "d6638189d6554e16be3256b8a77e7b75",
       "version_major": 2,
       "version_minor": 0
      },
      "text/plain": [
       "轨迹生成:   0%|          | 0/255 [00:00<?, ?it/s]"
      ]
     },
     "metadata": {},
     "output_type": "display_data"
    },
    {
     "data": {
      "application/vnd.jupyter.widget-view+json": {
       "model_id": "1e69d463667d4878ae313a0be4ffc050",
       "version_major": 2,
       "version_minor": 0
      },
      "text/plain": [
       "轨迹生成:   0%|          | 0/255 [00:00<?, ?it/s]"
      ]
     },
     "metadata": {},
     "output_type": "display_data"
    },
    {
     "data": {
      "application/vnd.jupyter.widget-view+json": {
       "model_id": "6793dfc7e1c148c1850fe3bfc7ea5974",
       "version_major": 2,
       "version_minor": 0
      },
      "text/plain": [
       "轨迹生成:   0%|          | 0/255 [00:00<?, ?it/s]"
      ]
     },
     "metadata": {},
     "output_type": "display_data"
    },
    {
     "data": {
      "application/vnd.jupyter.widget-view+json": {
       "model_id": "2bd3151b2f934fb4aa83116279927dd7",
       "version_major": 2,
       "version_minor": 0
      },
      "text/plain": [
       "轨迹生成:   0%|          | 0/255 [00:00<?, ?it/s]"
      ]
     },
     "metadata": {},
     "output_type": "display_data"
    },
    {
     "data": {
      "application/vnd.jupyter.widget-view+json": {
       "model_id": "ac2d224c4cc449ecbfac7e9da4f507ae",
       "version_major": 2,
       "version_minor": 0
      },
      "text/plain": [
       "轨迹生成:   0%|          | 0/255 [00:00<?, ?it/s]"
      ]
     },
     "metadata": {},
     "output_type": "display_data"
    },
    {
     "data": {
      "application/vnd.jupyter.widget-view+json": {
       "model_id": "97794bac100f436abb6b32af43ac0df0",
       "version_major": 2,
       "version_minor": 0
      },
      "text/plain": [
       "轨迹生成:   0%|          | 0/255 [00:00<?, ?it/s]"
      ]
     },
     "metadata": {},
     "output_type": "display_data"
    },
    {
     "data": {
      "application/vnd.jupyter.widget-view+json": {
       "model_id": "c24e238470304c1186fb52fb3414409c",
       "version_major": 2,
       "version_minor": 0
      },
      "text/plain": [
       "轨迹生成:   0%|          | 0/255 [00:00<?, ?it/s]"
      ]
     },
     "metadata": {},
     "output_type": "display_data"
    },
    {
     "name": "stdout",
     "output_type": "stream",
     "text": [
      "\n",
      "✅ 1-16 完成 | 共生成 3570 张轨迹图\n"
     ]
    },
    {
     "data": {
      "application/vnd.jupyter.widget-view+json": {
       "model_id": "6d910b587c7c4f559eb702422bdc165a",
       "version_major": 2,
       "version_minor": 0
      },
      "text/plain": [
       "分组处理:   0%|          | 0/15 [00:00<?, ?it/s]"
      ]
     },
     "metadata": {},
     "output_type": "display_data"
    },
    {
     "data": {
      "application/vnd.jupyter.widget-view+json": {
       "model_id": "7d4a96f58ed3468b9cfdb5128ed908d9",
       "version_major": 2,
       "version_minor": 0
      },
      "text/plain": [
       "轨迹生成:   0%|          | 0/255 [00:00<?, ?it/s]"
      ]
     },
     "metadata": {},
     "output_type": "display_data"
    },
    {
     "data": {
      "application/vnd.jupyter.widget-view+json": {
       "model_id": "107938b4c8c247d1afb4ae7e73f77e5c",
       "version_major": 2,
       "version_minor": 0
      },
      "text/plain": [
       "轨迹生成:   0%|          | 0/255 [00:00<?, ?it/s]"
      ]
     },
     "metadata": {},
     "output_type": "display_data"
    },
    {
     "data": {
      "application/vnd.jupyter.widget-view+json": {
       "model_id": "c31a247339cb4d8ab3b16a8dd2a5990d",
       "version_major": 2,
       "version_minor": 0
      },
      "text/plain": [
       "轨迹生成:   0%|          | 0/255 [00:00<?, ?it/s]"
      ]
     },
     "metadata": {},
     "output_type": "display_data"
    },
    {
     "data": {
      "application/vnd.jupyter.widget-view+json": {
       "model_id": "237cda6b4d9b49ceb190954e950e73d5",
       "version_major": 2,
       "version_minor": 0
      },
      "text/plain": [
       "轨迹生成:   0%|          | 0/255 [00:00<?, ?it/s]"
      ]
     },
     "metadata": {},
     "output_type": "display_data"
    },
    {
     "data": {
      "application/vnd.jupyter.widget-view+json": {
       "model_id": "e8307496c8a84c63a2d7819cfbc1c610",
       "version_major": 2,
       "version_minor": 0
      },
      "text/plain": [
       "轨迹生成:   0%|          | 0/255 [00:00<?, ?it/s]"
      ]
     },
     "metadata": {},
     "output_type": "display_data"
    },
    {
     "data": {
      "application/vnd.jupyter.widget-view+json": {
       "model_id": "8fb89bf7f6ed491a803e26facd93d2b7",
       "version_major": 2,
       "version_minor": 0
      },
      "text/plain": [
       "轨迹生成:   0%|          | 0/255 [00:00<?, ?it/s]"
      ]
     },
     "metadata": {},
     "output_type": "display_data"
    },
    {
     "data": {
      "application/vnd.jupyter.widget-view+json": {
       "model_id": "cc30c056ac894357a02748d33124e2f4",
       "version_major": 2,
       "version_minor": 0
      },
      "text/plain": [
       "轨迹生成:   0%|          | 0/255 [00:00<?, ?it/s]"
      ]
     },
     "metadata": {},
     "output_type": "display_data"
    },
    {
     "data": {
      "application/vnd.jupyter.widget-view+json": {
       "model_id": "b31aaae8505243e09ae582c7ce2dfa33",
       "version_major": 2,
       "version_minor": 0
      },
      "text/plain": [
       "轨迹生成:   0%|          | 0/255 [00:00<?, ?it/s]"
      ]
     },
     "metadata": {},
     "output_type": "display_data"
    },
    {
     "data": {
      "application/vnd.jupyter.widget-view+json": {
       "model_id": "a232350b358a4a96aca255689c834eed",
       "version_major": 2,
       "version_minor": 0
      },
      "text/plain": [
       "轨迹生成:   0%|          | 0/255 [00:00<?, ?it/s]"
      ]
     },
     "metadata": {},
     "output_type": "display_data"
    },
    {
     "data": {
      "application/vnd.jupyter.widget-view+json": {
       "model_id": "a5ca1f5cc8b04ac98e58949ada7a66be",
       "version_major": 2,
       "version_minor": 0
      },
      "text/plain": [
       "轨迹生成:   0%|          | 0/255 [00:00<?, ?it/s]"
      ]
     },
     "metadata": {},
     "output_type": "display_data"
    },
    {
     "data": {
      "application/vnd.jupyter.widget-view+json": {
       "model_id": "680b52f7f5354db1b5644234d6661c70",
       "version_major": 2,
       "version_minor": 0
      },
      "text/plain": [
       "轨迹生成:   0%|          | 0/255 [00:00<?, ?it/s]"
      ]
     },
     "metadata": {},
     "output_type": "display_data"
    },
    {
     "data": {
      "application/vnd.jupyter.widget-view+json": {
       "model_id": "acfa31cf455044fa8a647e1f9425a9c9",
       "version_major": 2,
       "version_minor": 0
      },
      "text/plain": [
       "轨迹生成:   0%|          | 0/255 [00:00<?, ?it/s]"
      ]
     },
     "metadata": {},
     "output_type": "display_data"
    },
    {
     "data": {
      "application/vnd.jupyter.widget-view+json": {
       "model_id": "62ccf086a0964b9f9e7fd6ebc60576ef",
       "version_major": 2,
       "version_minor": 0
      },
      "text/plain": [
       "轨迹生成:   0%|          | 0/255 [00:00<?, ?it/s]"
      ]
     },
     "metadata": {},
     "output_type": "display_data"
    },
    {
     "data": {
      "application/vnd.jupyter.widget-view+json": {
       "model_id": "da26ea4d7c0f4aa899c271033dea1887",
       "version_major": 2,
       "version_minor": 0
      },
      "text/plain": [
       "轨迹生成:   0%|          | 0/255 [00:00<?, ?it/s]"
      ]
     },
     "metadata": {},
     "output_type": "display_data"
    },
    {
     "data": {
      "application/vnd.jupyter.widget-view+json": {
       "model_id": "2a1a7005bf784c328452e1e71c0bcf0e",
       "version_major": 2,
       "version_minor": 0
      },
      "text/plain": [
       "轨迹生成:   0%|          | 0/255 [00:00<?, ?it/s]"
      ]
     },
     "metadata": {},
     "output_type": "display_data"
    },
    {
     "name": "stdout",
     "output_type": "stream",
     "text": [
      "\n",
      "✅ 1-18 完成 | 共生成 3825 张轨迹图\n"
     ]
    },
    {
     "data": {
      "application/vnd.jupyter.widget-view+json": {
       "model_id": "0376f64853844f2982766a8b4f963713",
       "version_major": 2,
       "version_minor": 0
      },
      "text/plain": [
       "分组处理:   0%|          | 0/14 [00:00<?, ?it/s]"
      ]
     },
     "metadata": {},
     "output_type": "display_data"
    },
    {
     "data": {
      "application/vnd.jupyter.widget-view+json": {
       "model_id": "800f80ce19ff41e59c4e9457b69da5a8",
       "version_major": 2,
       "version_minor": 0
      },
      "text/plain": [
       "轨迹生成:   0%|          | 0/255 [00:00<?, ?it/s]"
      ]
     },
     "metadata": {},
     "output_type": "display_data"
    },
    {
     "data": {
      "application/vnd.jupyter.widget-view+json": {
       "model_id": "3baadaba2d8647d6b8b6f227e3726b0c",
       "version_major": 2,
       "version_minor": 0
      },
      "text/plain": [
       "轨迹生成:   0%|          | 0/255 [00:00<?, ?it/s]"
      ]
     },
     "metadata": {},
     "output_type": "display_data"
    },
    {
     "data": {
      "application/vnd.jupyter.widget-view+json": {
       "model_id": "8a97f993de4e497b97ba6e84b53bac13",
       "version_major": 2,
       "version_minor": 0
      },
      "text/plain": [
       "轨迹生成:   0%|          | 0/255 [00:00<?, ?it/s]"
      ]
     },
     "metadata": {},
     "output_type": "display_data"
    },
    {
     "data": {
      "application/vnd.jupyter.widget-view+json": {
       "model_id": "3ff49833976445688fd6018ea2daa5b2",
       "version_major": 2,
       "version_minor": 0
      },
      "text/plain": [
       "轨迹生成:   0%|          | 0/255 [00:00<?, ?it/s]"
      ]
     },
     "metadata": {},
     "output_type": "display_data"
    },
    {
     "data": {
      "application/vnd.jupyter.widget-view+json": {
       "model_id": "f1d689e6b3364b7eb42570bca43509c8",
       "version_major": 2,
       "version_minor": 0
      },
      "text/plain": [
       "轨迹生成:   0%|          | 0/255 [00:00<?, ?it/s]"
      ]
     },
     "metadata": {},
     "output_type": "display_data"
    },
    {
     "data": {
      "application/vnd.jupyter.widget-view+json": {
       "model_id": "289647d5212d4f8a8a2c0f35a745309c",
       "version_major": 2,
       "version_minor": 0
      },
      "text/plain": [
       "轨迹生成:   0%|          | 0/255 [00:00<?, ?it/s]"
      ]
     },
     "metadata": {},
     "output_type": "display_data"
    },
    {
     "data": {
      "application/vnd.jupyter.widget-view+json": {
       "model_id": "0407fac5937b41c080f2b49b277ea071",
       "version_major": 2,
       "version_minor": 0
      },
      "text/plain": [
       "轨迹生成:   0%|          | 0/255 [00:00<?, ?it/s]"
      ]
     },
     "metadata": {},
     "output_type": "display_data"
    },
    {
     "data": {
      "application/vnd.jupyter.widget-view+json": {
       "model_id": "25ca89700ebc4b179621854ba711f35a",
       "version_major": 2,
       "version_minor": 0
      },
      "text/plain": [
       "轨迹生成:   0%|          | 0/255 [00:00<?, ?it/s]"
      ]
     },
     "metadata": {},
     "output_type": "display_data"
    },
    {
     "data": {
      "application/vnd.jupyter.widget-view+json": {
       "model_id": "1e493b82de8a480684551e4985599705",
       "version_major": 2,
       "version_minor": 0
      },
      "text/plain": [
       "轨迹生成:   0%|          | 0/255 [00:00<?, ?it/s]"
      ]
     },
     "metadata": {},
     "output_type": "display_data"
    },
    {
     "data": {
      "application/vnd.jupyter.widget-view+json": {
       "model_id": "a53698a3e06543db8825a2de34774281",
       "version_major": 2,
       "version_minor": 0
      },
      "text/plain": [
       "轨迹生成:   0%|          | 0/255 [00:00<?, ?it/s]"
      ]
     },
     "metadata": {},
     "output_type": "display_data"
    },
    {
     "data": {
      "application/vnd.jupyter.widget-view+json": {
       "model_id": "acf6ad1eaf0842c2be0353f85454cc38",
       "version_major": 2,
       "version_minor": 0
      },
      "text/plain": [
       "轨迹生成:   0%|          | 0/255 [00:00<?, ?it/s]"
      ]
     },
     "metadata": {},
     "output_type": "display_data"
    },
    {
     "data": {
      "application/vnd.jupyter.widget-view+json": {
       "model_id": "3351a824f05f453dbda43c234c3bcfa2",
       "version_major": 2,
       "version_minor": 0
      },
      "text/plain": [
       "轨迹生成:   0%|          | 0/255 [00:00<?, ?it/s]"
      ]
     },
     "metadata": {},
     "output_type": "display_data"
    },
    {
     "data": {
      "application/vnd.jupyter.widget-view+json": {
       "model_id": "15bbbf15e5704f49bbd4e7ecd15ca7a8",
       "version_major": 2,
       "version_minor": 0
      },
      "text/plain": [
       "轨迹生成:   0%|          | 0/255 [00:00<?, ?it/s]"
      ]
     },
     "metadata": {},
     "output_type": "display_data"
    },
    {
     "data": {
      "application/vnd.jupyter.widget-view+json": {
       "model_id": "652e0c9ab23b47c0b117306bffffde95",
       "version_major": 2,
       "version_minor": 0
      },
      "text/plain": [
       "轨迹生成:   0%|          | 0/255 [00:00<?, ?it/s]"
      ]
     },
     "metadata": {},
     "output_type": "display_data"
    },
    {
     "name": "stdout",
     "output_type": "stream",
     "text": [
      "\n",
      "✅ 1-19 完成 | 共生成 3570 张轨迹图\n"
     ]
    },
    {
     "data": {
      "application/vnd.jupyter.widget-view+json": {
       "model_id": "395c8c69b457421285b24bb1d0304b38",
       "version_major": 2,
       "version_minor": 0
      },
      "text/plain": [
       "分组处理:   0%|          | 0/12 [00:00<?, ?it/s]"
      ]
     },
     "metadata": {},
     "output_type": "display_data"
    },
    {
     "data": {
      "application/vnd.jupyter.widget-view+json": {
       "model_id": "b7ed7f766f2647ce900c79f487141989",
       "version_major": 2,
       "version_minor": 0
      },
      "text/plain": [
       "轨迹生成:   0%|          | 0/255 [00:00<?, ?it/s]"
      ]
     },
     "metadata": {},
     "output_type": "display_data"
    },
    {
     "data": {
      "application/vnd.jupyter.widget-view+json": {
       "model_id": "a13c99dd499444f3a8046d29cb21d981",
       "version_major": 2,
       "version_minor": 0
      },
      "text/plain": [
       "轨迹生成:   0%|          | 0/255 [00:00<?, ?it/s]"
      ]
     },
     "metadata": {},
     "output_type": "display_data"
    },
    {
     "data": {
      "application/vnd.jupyter.widget-view+json": {
       "model_id": "fdb2bdd7fc6d4c7cbe46c0c11faa6ec4",
       "version_major": 2,
       "version_minor": 0
      },
      "text/plain": [
       "轨迹生成:   0%|          | 0/255 [00:00<?, ?it/s]"
      ]
     },
     "metadata": {},
     "output_type": "display_data"
    },
    {
     "data": {
      "application/vnd.jupyter.widget-view+json": {
       "model_id": "e05f46543c154b2081b9467da7b20556",
       "version_major": 2,
       "version_minor": 0
      },
      "text/plain": [
       "轨迹生成:   0%|          | 0/255 [00:00<?, ?it/s]"
      ]
     },
     "metadata": {},
     "output_type": "display_data"
    },
    {
     "data": {
      "application/vnd.jupyter.widget-view+json": {
       "model_id": "48f4fb0e3a9b483fa0cbe565632aaa7b",
       "version_major": 2,
       "version_minor": 0
      },
      "text/plain": [
       "轨迹生成:   0%|          | 0/255 [00:00<?, ?it/s]"
      ]
     },
     "metadata": {},
     "output_type": "display_data"
    },
    {
     "data": {
      "application/vnd.jupyter.widget-view+json": {
       "model_id": "08f5c33848484a4ea487aeb97d29c8b1",
       "version_major": 2,
       "version_minor": 0
      },
      "text/plain": [
       "轨迹生成:   0%|          | 0/255 [00:00<?, ?it/s]"
      ]
     },
     "metadata": {},
     "output_type": "display_data"
    },
    {
     "data": {
      "application/vnd.jupyter.widget-view+json": {
       "model_id": "5c5de5454cc94ba0a26e9d585319f238",
       "version_major": 2,
       "version_minor": 0
      },
      "text/plain": [
       "轨迹生成:   0%|          | 0/255 [00:00<?, ?it/s]"
      ]
     },
     "metadata": {},
     "output_type": "display_data"
    },
    {
     "data": {
      "application/vnd.jupyter.widget-view+json": {
       "model_id": "1fb722d8835e42d5aee4da18425cc00c",
       "version_major": 2,
       "version_minor": 0
      },
      "text/plain": [
       "轨迹生成:   0%|          | 0/255 [00:00<?, ?it/s]"
      ]
     },
     "metadata": {},
     "output_type": "display_data"
    },
    {
     "data": {
      "application/vnd.jupyter.widget-view+json": {
       "model_id": "c3825666648d4548afb1cd71f217e530",
       "version_major": 2,
       "version_minor": 0
      },
      "text/plain": [
       "轨迹生成:   0%|          | 0/255 [00:00<?, ?it/s]"
      ]
     },
     "metadata": {},
     "output_type": "display_data"
    },
    {
     "data": {
      "application/vnd.jupyter.widget-view+json": {
       "model_id": "98cb4c59244f47c2812d3d84d62c070a",
       "version_major": 2,
       "version_minor": 0
      },
      "text/plain": [
       "轨迹生成:   0%|          | 0/255 [00:00<?, ?it/s]"
      ]
     },
     "metadata": {},
     "output_type": "display_data"
    },
    {
     "data": {
      "application/vnd.jupyter.widget-view+json": {
       "model_id": "c19e6904ecbc494f909e52e3d7046fcb",
       "version_major": 2,
       "version_minor": 0
      },
      "text/plain": [
       "轨迹生成:   0%|          | 0/255 [00:00<?, ?it/s]"
      ]
     },
     "metadata": {},
     "output_type": "display_data"
    },
    {
     "data": {
      "application/vnd.jupyter.widget-view+json": {
       "model_id": "a0c09af6a03d459f9c9f72a8f1b44edf",
       "version_major": 2,
       "version_minor": 0
      },
      "text/plain": [
       "轨迹生成:   0%|          | 0/255 [00:00<?, ?it/s]"
      ]
     },
     "metadata": {},
     "output_type": "display_data"
    },
    {
     "name": "stdout",
     "output_type": "stream",
     "text": [
      "\n",
      "✅ 1-2 完成 | 共生成 3060 张轨迹图\n"
     ]
    },
    {
     "data": {
      "application/vnd.jupyter.widget-view+json": {
       "model_id": "017374c7d72c43eabf5c91c20688deb3",
       "version_major": 2,
       "version_minor": 0
      },
      "text/plain": [
       "当前批次:   0%|          | 0/10 [00:00<?, ?it/s]"
      ]
     },
     "metadata": {},
     "output_type": "display_data"
    },
    {
     "data": {
      "application/vnd.jupyter.widget-view+json": {
       "model_id": "fc0f192b900940e8ba6e592e2f2b74f3",
       "version_major": 2,
       "version_minor": 0
      },
      "text/plain": [
       "分组处理:   0%|          | 0/15 [00:00<?, ?it/s]"
      ]
     },
     "metadata": {},
     "output_type": "display_data"
    },
    {
     "data": {
      "application/vnd.jupyter.widget-view+json": {
       "model_id": "c3c469d653b34b2989d4517d2433e561",
       "version_major": 2,
       "version_minor": 0
      },
      "text/plain": [
       "轨迹生成:   0%|          | 0/255 [00:00<?, ?it/s]"
      ]
     },
     "metadata": {},
     "output_type": "display_data"
    },
    {
     "data": {
      "application/vnd.jupyter.widget-view+json": {
       "model_id": "d558c3edef1543ff9f8dcb2d32edbb0b",
       "version_major": 2,
       "version_minor": 0
      },
      "text/plain": [
       "轨迹生成:   0%|          | 0/255 [00:00<?, ?it/s]"
      ]
     },
     "metadata": {},
     "output_type": "display_data"
    },
    {
     "data": {
      "application/vnd.jupyter.widget-view+json": {
       "model_id": "788c0b7ef0824d1aad4219b64417a928",
       "version_major": 2,
       "version_minor": 0
      },
      "text/plain": [
       "轨迹生成:   0%|          | 0/255 [00:00<?, ?it/s]"
      ]
     },
     "metadata": {},
     "output_type": "display_data"
    },
    {
     "data": {
      "application/vnd.jupyter.widget-view+json": {
       "model_id": "e2faae0eaf774e8cbdbb948278b14a6a",
       "version_major": 2,
       "version_minor": 0
      },
      "text/plain": [
       "轨迹生成:   0%|          | 0/255 [00:00<?, ?it/s]"
      ]
     },
     "metadata": {},
     "output_type": "display_data"
    },
    {
     "data": {
      "application/vnd.jupyter.widget-view+json": {
       "model_id": "02cbc0157a31452980b843ce68184f84",
       "version_major": 2,
       "version_minor": 0
      },
      "text/plain": [
       "轨迹生成:   0%|          | 0/255 [00:00<?, ?it/s]"
      ]
     },
     "metadata": {},
     "output_type": "display_data"
    },
    {
     "data": {
      "application/vnd.jupyter.widget-view+json": {
       "model_id": "d0b9f86a4a9942b9b784bda08feb19ca",
       "version_major": 2,
       "version_minor": 0
      },
      "text/plain": [
       "轨迹生成:   0%|          | 0/255 [00:00<?, ?it/s]"
      ]
     },
     "metadata": {},
     "output_type": "display_data"
    },
    {
     "data": {
      "application/vnd.jupyter.widget-view+json": {
       "model_id": "2ec7db9fa97c4ea09cb6d18cd9f06cf6",
       "version_major": 2,
       "version_minor": 0
      },
      "text/plain": [
       "轨迹生成:   0%|          | 0/255 [00:00<?, ?it/s]"
      ]
     },
     "metadata": {},
     "output_type": "display_data"
    },
    {
     "data": {
      "application/vnd.jupyter.widget-view+json": {
       "model_id": "ce13e7a882a14b58ba9fd225309c02ad",
       "version_major": 2,
       "version_minor": 0
      },
      "text/plain": [
       "轨迹生成:   0%|          | 0/255 [00:00<?, ?it/s]"
      ]
     },
     "metadata": {},
     "output_type": "display_data"
    },
    {
     "data": {
      "application/vnd.jupyter.widget-view+json": {
       "model_id": "5ae0ce3c656e4afeb3f9e5b27bbc6c2e",
       "version_major": 2,
       "version_minor": 0
      },
      "text/plain": [
       "轨迹生成:   0%|          | 0/255 [00:00<?, ?it/s]"
      ]
     },
     "metadata": {},
     "output_type": "display_data"
    },
    {
     "data": {
      "application/vnd.jupyter.widget-view+json": {
       "model_id": "50c8126ba387496a86b2246cd596b897",
       "version_major": 2,
       "version_minor": 0
      },
      "text/plain": [
       "轨迹生成:   0%|          | 0/255 [00:00<?, ?it/s]"
      ]
     },
     "metadata": {},
     "output_type": "display_data"
    },
    {
     "data": {
      "application/vnd.jupyter.widget-view+json": {
       "model_id": "cf0c5bcfabfd45718de95a472db25a37",
       "version_major": 2,
       "version_minor": 0
      },
      "text/plain": [
       "轨迹生成:   0%|          | 0/255 [00:00<?, ?it/s]"
      ]
     },
     "metadata": {},
     "output_type": "display_data"
    },
    {
     "data": {
      "application/vnd.jupyter.widget-view+json": {
       "model_id": "13c167dce58641b9bc8c318a8ff8beff",
       "version_major": 2,
       "version_minor": 0
      },
      "text/plain": [
       "轨迹生成:   0%|          | 0/255 [00:00<?, ?it/s]"
      ]
     },
     "metadata": {},
     "output_type": "display_data"
    },
    {
     "data": {
      "application/vnd.jupyter.widget-view+json": {
       "model_id": "00a1225d5c144e4f9f0c684b47b4c046",
       "version_major": 2,
       "version_minor": 0
      },
      "text/plain": [
       "轨迹生成:   0%|          | 0/255 [00:00<?, ?it/s]"
      ]
     },
     "metadata": {},
     "output_type": "display_data"
    },
    {
     "data": {
      "application/vnd.jupyter.widget-view+json": {
       "model_id": "240ca05ea2504d1a9702021d59133c38",
       "version_major": 2,
       "version_minor": 0
      },
      "text/plain": [
       "轨迹生成:   0%|          | 0/255 [00:00<?, ?it/s]"
      ]
     },
     "metadata": {},
     "output_type": "display_data"
    },
    {
     "data": {
      "application/vnd.jupyter.widget-view+json": {
       "model_id": "f30d9b355ae24b9fb8e76b660e26114d",
       "version_major": 2,
       "version_minor": 0
      },
      "text/plain": [
       "轨迹生成:   0%|          | 0/255 [00:00<?, ?it/s]"
      ]
     },
     "metadata": {},
     "output_type": "display_data"
    },
    {
     "name": "stdout",
     "output_type": "stream",
     "text": [
      "\n",
      "✅ 1-8 完成 | 共生成 3825 张轨迹图\n"
     ]
    },
    {
     "data": {
      "application/vnd.jupyter.widget-view+json": {
       "model_id": "4764b2418fbf436d81874b64987c4d7f",
       "version_major": 2,
       "version_minor": 0
      },
      "text/plain": [
       "分组处理:   0%|          | 0/8 [00:00<?, ?it/s]"
      ]
     },
     "metadata": {},
     "output_type": "display_data"
    },
    {
     "data": {
      "application/vnd.jupyter.widget-view+json": {
       "model_id": "da70992bb8ea45a996860b52997d2fb3",
       "version_major": 2,
       "version_minor": 0
      },
      "text/plain": [
       "轨迹生成:   0%|          | 0/255 [00:00<?, ?it/s]"
      ]
     },
     "metadata": {},
     "output_type": "display_data"
    },
    {
     "data": {
      "application/vnd.jupyter.widget-view+json": {
       "model_id": "49ad1eb1837e4d5f99e8295c95f7118f",
       "version_major": 2,
       "version_minor": 0
      },
      "text/plain": [
       "轨迹生成:   0%|          | 0/255 [00:00<?, ?it/s]"
      ]
     },
     "metadata": {},
     "output_type": "display_data"
    },
    {
     "data": {
      "application/vnd.jupyter.widget-view+json": {
       "model_id": "946cd5410df04829a3a10bb536b366c3",
       "version_major": 2,
       "version_minor": 0
      },
      "text/plain": [
       "轨迹生成:   0%|          | 0/255 [00:00<?, ?it/s]"
      ]
     },
     "metadata": {},
     "output_type": "display_data"
    },
    {
     "data": {
      "application/vnd.jupyter.widget-view+json": {
       "model_id": "ddc1c8ef6e964149909946289b3d9bad",
       "version_major": 2,
       "version_minor": 0
      },
      "text/plain": [
       "轨迹生成:   0%|          | 0/255 [00:00<?, ?it/s]"
      ]
     },
     "metadata": {},
     "output_type": "display_data"
    },
    {
     "data": {
      "application/vnd.jupyter.widget-view+json": {
       "model_id": "16494814b6994355bcf5334039f731d0",
       "version_major": 2,
       "version_minor": 0
      },
      "text/plain": [
       "轨迹生成:   0%|          | 0/255 [00:00<?, ?it/s]"
      ]
     },
     "metadata": {},
     "output_type": "display_data"
    },
    {
     "data": {
      "application/vnd.jupyter.widget-view+json": {
       "model_id": "56d005aa95374c16af29c13d68d93995",
       "version_major": 2,
       "version_minor": 0
      },
      "text/plain": [
       "轨迹生成:   0%|          | 0/255 [00:00<?, ?it/s]"
      ]
     },
     "metadata": {},
     "output_type": "display_data"
    },
    {
     "data": {
      "application/vnd.jupyter.widget-view+json": {
       "model_id": "37f5bf7bd2af4636bd19eda44f8b32c6",
       "version_major": 2,
       "version_minor": 0
      },
      "text/plain": [
       "轨迹生成:   0%|          | 0/255 [00:00<?, ?it/s]"
      ]
     },
     "metadata": {},
     "output_type": "display_data"
    },
    {
     "data": {
      "application/vnd.jupyter.widget-view+json": {
       "model_id": "fd7d5b59e7fa417b871621e3279b5d58",
       "version_major": 2,
       "version_minor": 0
      },
      "text/plain": [
       "轨迹生成:   0%|          | 0/255 [00:00<?, ?it/s]"
      ]
     },
     "metadata": {},
     "output_type": "display_data"
    },
    {
     "name": "stdout",
     "output_type": "stream",
     "text": [
      "\n",
      "✅ 10-1 完成 | 共生成 2040 张轨迹图\n"
     ]
    },
    {
     "data": {
      "application/vnd.jupyter.widget-view+json": {
       "model_id": "323f5a469c914ccc8b3760392dc2a058",
       "version_major": 2,
       "version_minor": 0
      },
      "text/plain": [
       "分组处理:   0%|          | 0/12 [00:00<?, ?it/s]"
      ]
     },
     "metadata": {},
     "output_type": "display_data"
    },
    {
     "data": {
      "application/vnd.jupyter.widget-view+json": {
       "model_id": "8eb95515837e4800b0a1ccb6a3f9fc81",
       "version_major": 2,
       "version_minor": 0
      },
      "text/plain": [
       "轨迹生成:   0%|          | 0/255 [00:00<?, ?it/s]"
      ]
     },
     "metadata": {},
     "output_type": "display_data"
    },
    {
     "data": {
      "application/vnd.jupyter.widget-view+json": {
       "model_id": "743097b1c0ee4e2780a3ee4e4e4d309b",
       "version_major": 2,
       "version_minor": 0
      },
      "text/plain": [
       "轨迹生成:   0%|          | 0/255 [00:00<?, ?it/s]"
      ]
     },
     "metadata": {},
     "output_type": "display_data"
    },
    {
     "data": {
      "application/vnd.jupyter.widget-view+json": {
       "model_id": "85888f99167d4559b09e62ba5eb8f82a",
       "version_major": 2,
       "version_minor": 0
      },
      "text/plain": [
       "轨迹生成:   0%|          | 0/255 [00:00<?, ?it/s]"
      ]
     },
     "metadata": {},
     "output_type": "display_data"
    },
    {
     "data": {
      "application/vnd.jupyter.widget-view+json": {
       "model_id": "305ae618401148a2b0e90f0d5c637b1d",
       "version_major": 2,
       "version_minor": 0
      },
      "text/plain": [
       "轨迹生成:   0%|          | 0/255 [00:00<?, ?it/s]"
      ]
     },
     "metadata": {},
     "output_type": "display_data"
    },
    {
     "data": {
      "application/vnd.jupyter.widget-view+json": {
       "model_id": "6ba4066848eb458588080d248cd5a943",
       "version_major": 2,
       "version_minor": 0
      },
      "text/plain": [
       "轨迹生成:   0%|          | 0/255 [00:00<?, ?it/s]"
      ]
     },
     "metadata": {},
     "output_type": "display_data"
    },
    {
     "data": {
      "application/vnd.jupyter.widget-view+json": {
       "model_id": "325b7a15e54643d48cedbbba113361ca",
       "version_major": 2,
       "version_minor": 0
      },
      "text/plain": [
       "轨迹生成:   0%|          | 0/255 [00:00<?, ?it/s]"
      ]
     },
     "metadata": {},
     "output_type": "display_data"
    },
    {
     "data": {
      "application/vnd.jupyter.widget-view+json": {
       "model_id": "12d2f7385f4c425b8d370c6233176563",
       "version_major": 2,
       "version_minor": 0
      },
      "text/plain": [
       "轨迹生成:   0%|          | 0/255 [00:00<?, ?it/s]"
      ]
     },
     "metadata": {},
     "output_type": "display_data"
    },
    {
     "data": {
      "application/vnd.jupyter.widget-view+json": {
       "model_id": "7c54e2813ef543a2ac0cd2eb6127d9a4",
       "version_major": 2,
       "version_minor": 0
      },
      "text/plain": [
       "轨迹生成:   0%|          | 0/255 [00:00<?, ?it/s]"
      ]
     },
     "metadata": {},
     "output_type": "display_data"
    },
    {
     "data": {
      "application/vnd.jupyter.widget-view+json": {
       "model_id": "4a80ab5107cd4ac5bec6a7500e099db0",
       "version_major": 2,
       "version_minor": 0
      },
      "text/plain": [
       "轨迹生成:   0%|          | 0/255 [00:00<?, ?it/s]"
      ]
     },
     "metadata": {},
     "output_type": "display_data"
    },
    {
     "data": {
      "application/vnd.jupyter.widget-view+json": {
       "model_id": "3855ef9c858f43a2ad80e97abfa1e5a2",
       "version_major": 2,
       "version_minor": 0
      },
      "text/plain": [
       "轨迹生成:   0%|          | 0/255 [00:00<?, ?it/s]"
      ]
     },
     "metadata": {},
     "output_type": "display_data"
    },
    {
     "data": {
      "application/vnd.jupyter.widget-view+json": {
       "model_id": "ae998fcfd45941889a0b23c55144b9aa",
       "version_major": 2,
       "version_minor": 0
      },
      "text/plain": [
       "轨迹生成:   0%|          | 0/255 [00:00<?, ?it/s]"
      ]
     },
     "metadata": {},
     "output_type": "display_data"
    },
    {
     "data": {
      "application/vnd.jupyter.widget-view+json": {
       "model_id": "f8267c7c5e8340cdbbb3e9b8c38bfd92",
       "version_major": 2,
       "version_minor": 0
      },
      "text/plain": [
       "轨迹生成:   0%|          | 0/255 [00:00<?, ?it/s]"
      ]
     },
     "metadata": {},
     "output_type": "display_data"
    },
    {
     "name": "stdout",
     "output_type": "stream",
     "text": [
      "\n",
      "✅ 10-10 完成 | 共生成 3060 张轨迹图\n"
     ]
    },
    {
     "data": {
      "application/vnd.jupyter.widget-view+json": {
       "model_id": "a1e2a6df73464b7d8aa9623043bf1d39",
       "version_major": 2,
       "version_minor": 0
      },
      "text/plain": [
       "分组处理:   0%|          | 0/15 [00:00<?, ?it/s]"
      ]
     },
     "metadata": {},
     "output_type": "display_data"
    },
    {
     "data": {
      "application/vnd.jupyter.widget-view+json": {
       "model_id": "dc07725224784da988dcaa6eff6e56e2",
       "version_major": 2,
       "version_minor": 0
      },
      "text/plain": [
       "轨迹生成:   0%|          | 0/255 [00:00<?, ?it/s]"
      ]
     },
     "metadata": {},
     "output_type": "display_data"
    },
    {
     "data": {
      "application/vnd.jupyter.widget-view+json": {
       "model_id": "fac853d7e2534311a911745766838636",
       "version_major": 2,
       "version_minor": 0
      },
      "text/plain": [
       "轨迹生成:   0%|          | 0/255 [00:00<?, ?it/s]"
      ]
     },
     "metadata": {},
     "output_type": "display_data"
    },
    {
     "data": {
      "application/vnd.jupyter.widget-view+json": {
       "model_id": "e4148b3ec4da4957a81a5a5892e4f5b0",
       "version_major": 2,
       "version_minor": 0
      },
      "text/plain": [
       "轨迹生成:   0%|          | 0/255 [00:00<?, ?it/s]"
      ]
     },
     "metadata": {},
     "output_type": "display_data"
    },
    {
     "data": {
      "application/vnd.jupyter.widget-view+json": {
       "model_id": "e285b780426648ee9bd5c48396e5428d",
       "version_major": 2,
       "version_minor": 0
      },
      "text/plain": [
       "轨迹生成:   0%|          | 0/255 [00:00<?, ?it/s]"
      ]
     },
     "metadata": {},
     "output_type": "display_data"
    },
    {
     "data": {
      "application/vnd.jupyter.widget-view+json": {
       "model_id": "7c5359aba0c44fc2b1481f0c6a7dbf16",
       "version_major": 2,
       "version_minor": 0
      },
      "text/plain": [
       "轨迹生成:   0%|          | 0/255 [00:00<?, ?it/s]"
      ]
     },
     "metadata": {},
     "output_type": "display_data"
    },
    {
     "data": {
      "application/vnd.jupyter.widget-view+json": {
       "model_id": "fefcb7acc6be48e49893580d0ce66aca",
       "version_major": 2,
       "version_minor": 0
      },
      "text/plain": [
       "轨迹生成:   0%|          | 0/255 [00:00<?, ?it/s]"
      ]
     },
     "metadata": {},
     "output_type": "display_data"
    },
    {
     "data": {
      "application/vnd.jupyter.widget-view+json": {
       "model_id": "7e51cb358083459ea33c466e0e142309",
       "version_major": 2,
       "version_minor": 0
      },
      "text/plain": [
       "轨迹生成:   0%|          | 0/255 [00:00<?, ?it/s]"
      ]
     },
     "metadata": {},
     "output_type": "display_data"
    },
    {
     "data": {
      "application/vnd.jupyter.widget-view+json": {
       "model_id": "cc4e10b3196540be9ad8b22f6f7943f5",
       "version_major": 2,
       "version_minor": 0
      },
      "text/plain": [
       "轨迹生成:   0%|          | 0/255 [00:00<?, ?it/s]"
      ]
     },
     "metadata": {},
     "output_type": "display_data"
    },
    {
     "data": {
      "application/vnd.jupyter.widget-view+json": {
       "model_id": "d48e43ea47844b60a1470e5177fe715a",
       "version_major": 2,
       "version_minor": 0
      },
      "text/plain": [
       "轨迹生成:   0%|          | 0/255 [00:00<?, ?it/s]"
      ]
     },
     "metadata": {},
     "output_type": "display_data"
    },
    {
     "data": {
      "application/vnd.jupyter.widget-view+json": {
       "model_id": "64f4080d6d3c41899106e435fe6eab8c",
       "version_major": 2,
       "version_minor": 0
      },
      "text/plain": [
       "轨迹生成:   0%|          | 0/255 [00:00<?, ?it/s]"
      ]
     },
     "metadata": {},
     "output_type": "display_data"
    },
    {
     "data": {
      "application/vnd.jupyter.widget-view+json": {
       "model_id": "9b706332a3854a23b67389b84ba9d8f2",
       "version_major": 2,
       "version_minor": 0
      },
      "text/plain": [
       "轨迹生成:   0%|          | 0/255 [00:00<?, ?it/s]"
      ]
     },
     "metadata": {},
     "output_type": "display_data"
    },
    {
     "data": {
      "application/vnd.jupyter.widget-view+json": {
       "model_id": "e1434f2f4af2437fb85cea50fdf9bcc1",
       "version_major": 2,
       "version_minor": 0
      },
      "text/plain": [
       "轨迹生成:   0%|          | 0/255 [00:00<?, ?it/s]"
      ]
     },
     "metadata": {},
     "output_type": "display_data"
    },
    {
     "data": {
      "application/vnd.jupyter.widget-view+json": {
       "model_id": "32d83ccbb84a48969cc0156f235ef02b",
       "version_major": 2,
       "version_minor": 0
      },
      "text/plain": [
       "轨迹生成:   0%|          | 0/255 [00:00<?, ?it/s]"
      ]
     },
     "metadata": {},
     "output_type": "display_data"
    },
    {
     "data": {
      "application/vnd.jupyter.widget-view+json": {
       "model_id": "4c9caf9c005041a185162e9186711731",
       "version_major": 2,
       "version_minor": 0
      },
      "text/plain": [
       "轨迹生成:   0%|          | 0/255 [00:00<?, ?it/s]"
      ]
     },
     "metadata": {},
     "output_type": "display_data"
    },
    {
     "data": {
      "application/vnd.jupyter.widget-view+json": {
       "model_id": "9bdc82ab5fc0435aad3a942dea48cd1e",
       "version_major": 2,
       "version_minor": 0
      },
      "text/plain": [
       "轨迹生成:   0%|          | 0/255 [00:00<?, ?it/s]"
      ]
     },
     "metadata": {},
     "output_type": "display_data"
    },
    {
     "name": "stdout",
     "output_type": "stream",
     "text": [
      "\n",
      "✅ 10-11 完成 | 共生成 3825 张轨迹图\n"
     ]
    },
    {
     "data": {
      "application/vnd.jupyter.widget-view+json": {
       "model_id": "61052b7412ee4b6988139db2361c5b96",
       "version_major": 2,
       "version_minor": 0
      },
      "text/plain": [
       "分组处理:   0%|          | 0/14 [00:00<?, ?it/s]"
      ]
     },
     "metadata": {},
     "output_type": "display_data"
    },
    {
     "data": {
      "application/vnd.jupyter.widget-view+json": {
       "model_id": "2e6599fadd41472f98793ad60072b746",
       "version_major": 2,
       "version_minor": 0
      },
      "text/plain": [
       "轨迹生成:   0%|          | 0/255 [00:00<?, ?it/s]"
      ]
     },
     "metadata": {},
     "output_type": "display_data"
    },
    {
     "data": {
      "application/vnd.jupyter.widget-view+json": {
       "model_id": "eb5f747a38464e569966125d790f07e3",
       "version_major": 2,
       "version_minor": 0
      },
      "text/plain": [
       "轨迹生成:   0%|          | 0/255 [00:00<?, ?it/s]"
      ]
     },
     "metadata": {},
     "output_type": "display_data"
    },
    {
     "data": {
      "application/vnd.jupyter.widget-view+json": {
       "model_id": "6d8d087487f34985ac76014df18c7de9",
       "version_major": 2,
       "version_minor": 0
      },
      "text/plain": [
       "轨迹生成:   0%|          | 0/255 [00:00<?, ?it/s]"
      ]
     },
     "metadata": {},
     "output_type": "display_data"
    },
    {
     "data": {
      "application/vnd.jupyter.widget-view+json": {
       "model_id": "596684bc50d14a58bf15236f5c5abad5",
       "version_major": 2,
       "version_minor": 0
      },
      "text/plain": [
       "轨迹生成:   0%|          | 0/255 [00:00<?, ?it/s]"
      ]
     },
     "metadata": {},
     "output_type": "display_data"
    },
    {
     "data": {
      "application/vnd.jupyter.widget-view+json": {
       "model_id": "9cf2aa3decb646bc94565cafe44ec98d",
       "version_major": 2,
       "version_minor": 0
      },
      "text/plain": [
       "轨迹生成:   0%|          | 0/255 [00:00<?, ?it/s]"
      ]
     },
     "metadata": {},
     "output_type": "display_data"
    },
    {
     "data": {
      "application/vnd.jupyter.widget-view+json": {
       "model_id": "c486a9b6026340efa972762ee8db7598",
       "version_major": 2,
       "version_minor": 0
      },
      "text/plain": [
       "轨迹生成:   0%|          | 0/255 [00:00<?, ?it/s]"
      ]
     },
     "metadata": {},
     "output_type": "display_data"
    },
    {
     "data": {
      "application/vnd.jupyter.widget-view+json": {
       "model_id": "b217635341764b5eaedd1be8a61ade20",
       "version_major": 2,
       "version_minor": 0
      },
      "text/plain": [
       "轨迹生成:   0%|          | 0/255 [00:00<?, ?it/s]"
      ]
     },
     "metadata": {},
     "output_type": "display_data"
    },
    {
     "data": {
      "application/vnd.jupyter.widget-view+json": {
       "model_id": "5b32ee1709de49c8aab88b8e3c5c5beb",
       "version_major": 2,
       "version_minor": 0
      },
      "text/plain": [
       "轨迹生成:   0%|          | 0/255 [00:00<?, ?it/s]"
      ]
     },
     "metadata": {},
     "output_type": "display_data"
    },
    {
     "data": {
      "application/vnd.jupyter.widget-view+json": {
       "model_id": "ba916eff558a429588229827400a62a7",
       "version_major": 2,
       "version_minor": 0
      },
      "text/plain": [
       "轨迹生成:   0%|          | 0/255 [00:00<?, ?it/s]"
      ]
     },
     "metadata": {},
     "output_type": "display_data"
    },
    {
     "data": {
      "application/vnd.jupyter.widget-view+json": {
       "model_id": "b6eeb5ae9e0945d2a7a4d71cdd7090ef",
       "version_major": 2,
       "version_minor": 0
      },
      "text/plain": [
       "轨迹生成:   0%|          | 0/255 [00:00<?, ?it/s]"
      ]
     },
     "metadata": {},
     "output_type": "display_data"
    },
    {
     "data": {
      "application/vnd.jupyter.widget-view+json": {
       "model_id": "591625c8898b4d8bab91756673cdeeca",
       "version_major": 2,
       "version_minor": 0
      },
      "text/plain": [
       "轨迹生成:   0%|          | 0/255 [00:00<?, ?it/s]"
      ]
     },
     "metadata": {},
     "output_type": "display_data"
    },
    {
     "data": {
      "application/vnd.jupyter.widget-view+json": {
       "model_id": "2ac03bb6ff9a417b9c7888052f98a7cf",
       "version_major": 2,
       "version_minor": 0
      },
      "text/plain": [
       "轨迹生成:   0%|          | 0/255 [00:00<?, ?it/s]"
      ]
     },
     "metadata": {},
     "output_type": "display_data"
    },
    {
     "data": {
      "application/vnd.jupyter.widget-view+json": {
       "model_id": "646ff2fdf12c4d6191ff3bfd567828eb",
       "version_major": 2,
       "version_minor": 0
      },
      "text/plain": [
       "轨迹生成:   0%|          | 0/255 [00:00<?, ?it/s]"
      ]
     },
     "metadata": {},
     "output_type": "display_data"
    },
    {
     "data": {
      "application/vnd.jupyter.widget-view+json": {
       "model_id": "00670642b37f4ac5861dcc03f6ca026a",
       "version_major": 2,
       "version_minor": 0
      },
      "text/plain": [
       "轨迹生成:   0%|          | 0/255 [00:00<?, ?it/s]"
      ]
     },
     "metadata": {},
     "output_type": "display_data"
    },
    {
     "name": "stdout",
     "output_type": "stream",
     "text": [
      "\n",
      "✅ 10-17 完成 | 共生成 3570 张轨迹图\n"
     ]
    },
    {
     "data": {
      "application/vnd.jupyter.widget-view+json": {
       "model_id": "01bf22dd95524426aba056c9ad10571a",
       "version_major": 2,
       "version_minor": 0
      },
      "text/plain": [
       "分组处理:   0%|          | 0/14 [00:00<?, ?it/s]"
      ]
     },
     "metadata": {},
     "output_type": "display_data"
    },
    {
     "data": {
      "application/vnd.jupyter.widget-view+json": {
       "model_id": "92f71dbc312d463886ac079da4036f69",
       "version_major": 2,
       "version_minor": 0
      },
      "text/plain": [
       "轨迹生成:   0%|          | 0/255 [00:00<?, ?it/s]"
      ]
     },
     "metadata": {},
     "output_type": "display_data"
    },
    {
     "data": {
      "application/vnd.jupyter.widget-view+json": {
       "model_id": "9620fbecbc8046788e4dad8d627dbde6",
       "version_major": 2,
       "version_minor": 0
      },
      "text/plain": [
       "轨迹生成:   0%|          | 0/255 [00:00<?, ?it/s]"
      ]
     },
     "metadata": {},
     "output_type": "display_data"
    },
    {
     "data": {
      "application/vnd.jupyter.widget-view+json": {
       "model_id": "af6d4ba34d9d49c9bcf35d3f6a6a9121",
       "version_major": 2,
       "version_minor": 0
      },
      "text/plain": [
       "轨迹生成:   0%|          | 0/255 [00:00<?, ?it/s]"
      ]
     },
     "metadata": {},
     "output_type": "display_data"
    },
    {
     "data": {
      "application/vnd.jupyter.widget-view+json": {
       "model_id": "1124b2ff8f6a4858b09016c0ea7cb6c7",
       "version_major": 2,
       "version_minor": 0
      },
      "text/plain": [
       "轨迹生成:   0%|          | 0/255 [00:00<?, ?it/s]"
      ]
     },
     "metadata": {},
     "output_type": "display_data"
    },
    {
     "data": {
      "application/vnd.jupyter.widget-view+json": {
       "model_id": "1699fe25033a4a409deccc6dcc2c3a52",
       "version_major": 2,
       "version_minor": 0
      },
      "text/plain": [
       "轨迹生成:   0%|          | 0/255 [00:00<?, ?it/s]"
      ]
     },
     "metadata": {},
     "output_type": "display_data"
    },
    {
     "data": {
      "application/vnd.jupyter.widget-view+json": {
       "model_id": "d9e8d858a0874449b8ae130cfb90ee49",
       "version_major": 2,
       "version_minor": 0
      },
      "text/plain": [
       "轨迹生成:   0%|          | 0/255 [00:00<?, ?it/s]"
      ]
     },
     "metadata": {},
     "output_type": "display_data"
    },
    {
     "data": {
      "application/vnd.jupyter.widget-view+json": {
       "model_id": "b1de6eac569142c5bba8ca2f6ad6da1a",
       "version_major": 2,
       "version_minor": 0
      },
      "text/plain": [
       "轨迹生成:   0%|          | 0/255 [00:00<?, ?it/s]"
      ]
     },
     "metadata": {},
     "output_type": "display_data"
    },
    {
     "data": {
      "application/vnd.jupyter.widget-view+json": {
       "model_id": "f622b7eec5004e6dbb12b86bb2a35b64",
       "version_major": 2,
       "version_minor": 0
      },
      "text/plain": [
       "轨迹生成:   0%|          | 0/255 [00:00<?, ?it/s]"
      ]
     },
     "metadata": {},
     "output_type": "display_data"
    },
    {
     "data": {
      "application/vnd.jupyter.widget-view+json": {
       "model_id": "e2fc1d7b2c17415888728ca74d287c1d",
       "version_major": 2,
       "version_minor": 0
      },
      "text/plain": [
       "轨迹生成:   0%|          | 0/255 [00:00<?, ?it/s]"
      ]
     },
     "metadata": {},
     "output_type": "display_data"
    },
    {
     "data": {
      "application/vnd.jupyter.widget-view+json": {
       "model_id": "e5aa0aad8f3c4096ac4a4287f1d0189b",
       "version_major": 2,
       "version_minor": 0
      },
      "text/plain": [
       "轨迹生成:   0%|          | 0/255 [00:00<?, ?it/s]"
      ]
     },
     "metadata": {},
     "output_type": "display_data"
    },
    {
     "data": {
      "application/vnd.jupyter.widget-view+json": {
       "model_id": "a02e31b330584ecbac763588aab866a8",
       "version_major": 2,
       "version_minor": 0
      },
      "text/plain": [
       "轨迹生成:   0%|          | 0/255 [00:00<?, ?it/s]"
      ]
     },
     "metadata": {},
     "output_type": "display_data"
    },
    {
     "data": {
      "application/vnd.jupyter.widget-view+json": {
       "model_id": "e948b64bdf8442a2b2b4d225c0e22c16",
       "version_major": 2,
       "version_minor": 0
      },
      "text/plain": [
       "轨迹生成:   0%|          | 0/255 [00:00<?, ?it/s]"
      ]
     },
     "metadata": {},
     "output_type": "display_data"
    },
    {
     "data": {
      "application/vnd.jupyter.widget-view+json": {
       "model_id": "b19d938de3c94dad9bd3239ad48da72a",
       "version_major": 2,
       "version_minor": 0
      },
      "text/plain": [
       "轨迹生成:   0%|          | 0/255 [00:00<?, ?it/s]"
      ]
     },
     "metadata": {},
     "output_type": "display_data"
    },
    {
     "data": {
      "application/vnd.jupyter.widget-view+json": {
       "model_id": "2da05b39a0c942819fc6bd1863baaf72",
       "version_major": 2,
       "version_minor": 0
      },
      "text/plain": [
       "轨迹生成:   0%|          | 0/255 [00:00<?, ?it/s]"
      ]
     },
     "metadata": {},
     "output_type": "display_data"
    },
    {
     "name": "stdout",
     "output_type": "stream",
     "text": [
      "\n",
      "✅ 10-4 完成 | 共生成 3570 张轨迹图\n"
     ]
    },
    {
     "data": {
      "application/vnd.jupyter.widget-view+json": {
       "model_id": "247eaeb64829415eb86d817104e62d22",
       "version_major": 2,
       "version_minor": 0
      },
      "text/plain": [
       "分组处理:   0%|          | 0/15 [00:00<?, ?it/s]"
      ]
     },
     "metadata": {},
     "output_type": "display_data"
    },
    {
     "data": {
      "application/vnd.jupyter.widget-view+json": {
       "model_id": "3b35216924f0498bb652acf2ff4f64d1",
       "version_major": 2,
       "version_minor": 0
      },
      "text/plain": [
       "轨迹生成:   0%|          | 0/255 [00:00<?, ?it/s]"
      ]
     },
     "metadata": {},
     "output_type": "display_data"
    },
    {
     "data": {
      "application/vnd.jupyter.widget-view+json": {
       "model_id": "cfb632df6d2f45ad849f4e85a693157f",
       "version_major": 2,
       "version_minor": 0
      },
      "text/plain": [
       "轨迹生成:   0%|          | 0/255 [00:00<?, ?it/s]"
      ]
     },
     "metadata": {},
     "output_type": "display_data"
    },
    {
     "data": {
      "application/vnd.jupyter.widget-view+json": {
       "model_id": "37baea1d71e34f36b30a5c04d37ac585",
       "version_major": 2,
       "version_minor": 0
      },
      "text/plain": [
       "轨迹生成:   0%|          | 0/255 [00:00<?, ?it/s]"
      ]
     },
     "metadata": {},
     "output_type": "display_data"
    },
    {
     "data": {
      "application/vnd.jupyter.widget-view+json": {
       "model_id": "5e43bd9971f649549fdc42e2ec172f27",
       "version_major": 2,
       "version_minor": 0
      },
      "text/plain": [
       "轨迹生成:   0%|          | 0/255 [00:00<?, ?it/s]"
      ]
     },
     "metadata": {},
     "output_type": "display_data"
    },
    {
     "data": {
      "application/vnd.jupyter.widget-view+json": {
       "model_id": "c8e8e2eb87f24f419ca34f11a2a0dea1",
       "version_major": 2,
       "version_minor": 0
      },
      "text/plain": [
       "轨迹生成:   0%|          | 0/255 [00:00<?, ?it/s]"
      ]
     },
     "metadata": {},
     "output_type": "display_data"
    },
    {
     "data": {
      "application/vnd.jupyter.widget-view+json": {
       "model_id": "8e4ffce35a9f42b88b8f0fd212d8d781",
       "version_major": 2,
       "version_minor": 0
      },
      "text/plain": [
       "轨迹生成:   0%|          | 0/255 [00:00<?, ?it/s]"
      ]
     },
     "metadata": {},
     "output_type": "display_data"
    },
    {
     "data": {
      "application/vnd.jupyter.widget-view+json": {
       "model_id": "0cb59cfc2f274ba58ca83342938c1a86",
       "version_major": 2,
       "version_minor": 0
      },
      "text/plain": [
       "轨迹生成:   0%|          | 0/255 [00:00<?, ?it/s]"
      ]
     },
     "metadata": {},
     "output_type": "display_data"
    },
    {
     "data": {
      "application/vnd.jupyter.widget-view+json": {
       "model_id": "78d0d73bd1fd4be68bc6eb90a0fa23e3",
       "version_major": 2,
       "version_minor": 0
      },
      "text/plain": [
       "轨迹生成:   0%|          | 0/255 [00:00<?, ?it/s]"
      ]
     },
     "metadata": {},
     "output_type": "display_data"
    },
    {
     "data": {
      "application/vnd.jupyter.widget-view+json": {
       "model_id": "6d55e3a2a1d446e3a98d0d0461c7e584",
       "version_major": 2,
       "version_minor": 0
      },
      "text/plain": [
       "轨迹生成:   0%|          | 0/255 [00:00<?, ?it/s]"
      ]
     },
     "metadata": {},
     "output_type": "display_data"
    },
    {
     "data": {
      "application/vnd.jupyter.widget-view+json": {
       "model_id": "69c586f2d3eb40d08705a478d42aa231",
       "version_major": 2,
       "version_minor": 0
      },
      "text/plain": [
       "轨迹生成:   0%|          | 0/255 [00:00<?, ?it/s]"
      ]
     },
     "metadata": {},
     "output_type": "display_data"
    },
    {
     "data": {
      "application/vnd.jupyter.widget-view+json": {
       "model_id": "178b39e702c2442b98b716062d4568af",
       "version_major": 2,
       "version_minor": 0
      },
      "text/plain": [
       "轨迹生成:   0%|          | 0/255 [00:00<?, ?it/s]"
      ]
     },
     "metadata": {},
     "output_type": "display_data"
    },
    {
     "data": {
      "application/vnd.jupyter.widget-view+json": {
       "model_id": "eb03b7c2963847f49d428d05e00f45a9",
       "version_major": 2,
       "version_minor": 0
      },
      "text/plain": [
       "轨迹生成:   0%|          | 0/255 [00:00<?, ?it/s]"
      ]
     },
     "metadata": {},
     "output_type": "display_data"
    },
    {
     "data": {
      "application/vnd.jupyter.widget-view+json": {
       "model_id": "3acc5e98f4f7448d94397aab8551cd5f",
       "version_major": 2,
       "version_minor": 0
      },
      "text/plain": [
       "轨迹生成:   0%|          | 0/255 [00:00<?, ?it/s]"
      ]
     },
     "metadata": {},
     "output_type": "display_data"
    },
    {
     "data": {
      "application/vnd.jupyter.widget-view+json": {
       "model_id": "27faf3709426405c96e1270e2498b945",
       "version_major": 2,
       "version_minor": 0
      },
      "text/plain": [
       "轨迹生成:   0%|          | 0/255 [00:00<?, ?it/s]"
      ]
     },
     "metadata": {},
     "output_type": "display_data"
    },
    {
     "data": {
      "application/vnd.jupyter.widget-view+json": {
       "model_id": "95cbf10e15344c36a6b9b347d6fe873f",
       "version_major": 2,
       "version_minor": 0
      },
      "text/plain": [
       "轨迹生成:   0%|          | 0/255 [00:00<?, ?it/s]"
      ]
     },
     "metadata": {},
     "output_type": "display_data"
    },
    {
     "name": "stdout",
     "output_type": "stream",
     "text": [
      "\n",
      "✅ 10-7 完成 | 共生成 3825 张轨迹图\n"
     ]
    },
    {
     "data": {
      "application/vnd.jupyter.widget-view+json": {
       "model_id": "956ab0835b444b438847a9756ce7aff2",
       "version_major": 2,
       "version_minor": 0
      },
      "text/plain": [
       "分组处理:   0%|          | 0/15 [00:00<?, ?it/s]"
      ]
     },
     "metadata": {},
     "output_type": "display_data"
    },
    {
     "data": {
      "application/vnd.jupyter.widget-view+json": {
       "model_id": "1168422d51714cc5abe2665cd8f7729f",
       "version_major": 2,
       "version_minor": 0
      },
      "text/plain": [
       "轨迹生成:   0%|          | 0/255 [00:00<?, ?it/s]"
      ]
     },
     "metadata": {},
     "output_type": "display_data"
    },
    {
     "data": {
      "application/vnd.jupyter.widget-view+json": {
       "model_id": "f08548fc54824cf7884c20c32e601d40",
       "version_major": 2,
       "version_minor": 0
      },
      "text/plain": [
       "轨迹生成:   0%|          | 0/255 [00:00<?, ?it/s]"
      ]
     },
     "metadata": {},
     "output_type": "display_data"
    },
    {
     "data": {
      "application/vnd.jupyter.widget-view+json": {
       "model_id": "4406bb5f601748d8bfa2e1940f446f27",
       "version_major": 2,
       "version_minor": 0
      },
      "text/plain": [
       "轨迹生成:   0%|          | 0/255 [00:00<?, ?it/s]"
      ]
     },
     "metadata": {},
     "output_type": "display_data"
    },
    {
     "data": {
      "application/vnd.jupyter.widget-view+json": {
       "model_id": "a985497f1a1d40b59a80486e2e4c9ce0",
       "version_major": 2,
       "version_minor": 0
      },
      "text/plain": [
       "轨迹生成:   0%|          | 0/255 [00:00<?, ?it/s]"
      ]
     },
     "metadata": {},
     "output_type": "display_data"
    },
    {
     "data": {
      "application/vnd.jupyter.widget-view+json": {
       "model_id": "72b79d9fc4e94048b5787ab54e38e680",
       "version_major": 2,
       "version_minor": 0
      },
      "text/plain": [
       "轨迹生成:   0%|          | 0/255 [00:00<?, ?it/s]"
      ]
     },
     "metadata": {},
     "output_type": "display_data"
    },
    {
     "data": {
      "application/vnd.jupyter.widget-view+json": {
       "model_id": "8ae35385761f40f9b61a516f321018ab",
       "version_major": 2,
       "version_minor": 0
      },
      "text/plain": [
       "轨迹生成:   0%|          | 0/255 [00:00<?, ?it/s]"
      ]
     },
     "metadata": {},
     "output_type": "display_data"
    },
    {
     "data": {
      "application/vnd.jupyter.widget-view+json": {
       "model_id": "5a9ee5edceab4726b3ee779e7be634bf",
       "version_major": 2,
       "version_minor": 0
      },
      "text/plain": [
       "轨迹生成:   0%|          | 0/255 [00:00<?, ?it/s]"
      ]
     },
     "metadata": {},
     "output_type": "display_data"
    },
    {
     "data": {
      "application/vnd.jupyter.widget-view+json": {
       "model_id": "2dcbee0240d244139e7ebbcf5de2f1c4",
       "version_major": 2,
       "version_minor": 0
      },
      "text/plain": [
       "轨迹生成:   0%|          | 0/255 [00:00<?, ?it/s]"
      ]
     },
     "metadata": {},
     "output_type": "display_data"
    },
    {
     "data": {
      "application/vnd.jupyter.widget-view+json": {
       "model_id": "8358677357044762b74e7475fb806b5b",
       "version_major": 2,
       "version_minor": 0
      },
      "text/plain": [
       "轨迹生成:   0%|          | 0/255 [00:00<?, ?it/s]"
      ]
     },
     "metadata": {},
     "output_type": "display_data"
    },
    {
     "data": {
      "application/vnd.jupyter.widget-view+json": {
       "model_id": "701b1dbad4f54520a537079c97425452",
       "version_major": 2,
       "version_minor": 0
      },
      "text/plain": [
       "轨迹生成:   0%|          | 0/255 [00:00<?, ?it/s]"
      ]
     },
     "metadata": {},
     "output_type": "display_data"
    },
    {
     "data": {
      "application/vnd.jupyter.widget-view+json": {
       "model_id": "08db609cd0b8450fb476df11d08a7f53",
       "version_major": 2,
       "version_minor": 0
      },
      "text/plain": [
       "轨迹生成:   0%|          | 0/255 [00:00<?, ?it/s]"
      ]
     },
     "metadata": {},
     "output_type": "display_data"
    },
    {
     "data": {
      "application/vnd.jupyter.widget-view+json": {
       "model_id": "40de633a0cae40c9a33fea5bb28fbd49",
       "version_major": 2,
       "version_minor": 0
      },
      "text/plain": [
       "轨迹生成:   0%|          | 0/255 [00:00<?, ?it/s]"
      ]
     },
     "metadata": {},
     "output_type": "display_data"
    },
    {
     "data": {
      "application/vnd.jupyter.widget-view+json": {
       "model_id": "98b1436e115a4b9ba6b23e6450cda730",
       "version_major": 2,
       "version_minor": 0
      },
      "text/plain": [
       "轨迹生成:   0%|          | 0/255 [00:00<?, ?it/s]"
      ]
     },
     "metadata": {},
     "output_type": "display_data"
    },
    {
     "data": {
      "application/vnd.jupyter.widget-view+json": {
       "model_id": "ab7fd2d1712349e496763a7ef80f3950",
       "version_major": 2,
       "version_minor": 0
      },
      "text/plain": [
       "轨迹生成:   0%|          | 0/255 [00:00<?, ?it/s]"
      ]
     },
     "metadata": {},
     "output_type": "display_data"
    },
    {
     "data": {
      "application/vnd.jupyter.widget-view+json": {
       "model_id": "d538196dc8e84bbbaad402a7dc8e76eb",
       "version_major": 2,
       "version_minor": 0
      },
      "text/plain": [
       "轨迹生成:   0%|          | 0/255 [00:00<?, ?it/s]"
      ]
     },
     "metadata": {},
     "output_type": "display_data"
    },
    {
     "name": "stdout",
     "output_type": "stream",
     "text": [
      "\n",
      "✅ 11-1 完成 | 共生成 3825 张轨迹图\n"
     ]
    },
    {
     "data": {
      "application/vnd.jupyter.widget-view+json": {
       "model_id": "6c30e1ef59d54159b184bddc6cfea822",
       "version_major": 2,
       "version_minor": 0
      },
      "text/plain": [
       "分组处理:   0%|          | 0/14 [00:00<?, ?it/s]"
      ]
     },
     "metadata": {},
     "output_type": "display_data"
    },
    {
     "data": {
      "application/vnd.jupyter.widget-view+json": {
       "model_id": "556cc32250d3485ba8c2582bf9539b7b",
       "version_major": 2,
       "version_minor": 0
      },
      "text/plain": [
       "轨迹生成:   0%|          | 0/255 [00:00<?, ?it/s]"
      ]
     },
     "metadata": {},
     "output_type": "display_data"
    },
    {
     "data": {
      "application/vnd.jupyter.widget-view+json": {
       "model_id": "6583035c92c94c8fb82d33206a2915bb",
       "version_major": 2,
       "version_minor": 0
      },
      "text/plain": [
       "轨迹生成:   0%|          | 0/255 [00:00<?, ?it/s]"
      ]
     },
     "metadata": {},
     "output_type": "display_data"
    },
    {
     "data": {
      "application/vnd.jupyter.widget-view+json": {
       "model_id": "2de7d3bc690a4b3aa84fe59f8bce2eca",
       "version_major": 2,
       "version_minor": 0
      },
      "text/plain": [
       "轨迹生成:   0%|          | 0/255 [00:00<?, ?it/s]"
      ]
     },
     "metadata": {},
     "output_type": "display_data"
    },
    {
     "data": {
      "application/vnd.jupyter.widget-view+json": {
       "model_id": "6d16785517e74b62b66eeee4b7c25fcb",
       "version_major": 2,
       "version_minor": 0
      },
      "text/plain": [
       "轨迹生成:   0%|          | 0/255 [00:00<?, ?it/s]"
      ]
     },
     "metadata": {},
     "output_type": "display_data"
    },
    {
     "data": {
      "application/vnd.jupyter.widget-view+json": {
       "model_id": "a5d8545b2d1b4508bba0ba4f0075c77d",
       "version_major": 2,
       "version_minor": 0
      },
      "text/plain": [
       "轨迹生成:   0%|          | 0/255 [00:00<?, ?it/s]"
      ]
     },
     "metadata": {},
     "output_type": "display_data"
    },
    {
     "data": {
      "application/vnd.jupyter.widget-view+json": {
       "model_id": "1e66cdc365dc4e9a9c770167b927002b",
       "version_major": 2,
       "version_minor": 0
      },
      "text/plain": [
       "轨迹生成:   0%|          | 0/255 [00:00<?, ?it/s]"
      ]
     },
     "metadata": {},
     "output_type": "display_data"
    },
    {
     "data": {
      "application/vnd.jupyter.widget-view+json": {
       "model_id": "f39e5a277e764fb2907237803c084f39",
       "version_major": 2,
       "version_minor": 0
      },
      "text/plain": [
       "轨迹生成:   0%|          | 0/255 [00:00<?, ?it/s]"
      ]
     },
     "metadata": {},
     "output_type": "display_data"
    },
    {
     "data": {
      "application/vnd.jupyter.widget-view+json": {
       "model_id": "00758f900dbf4957b10ab8c3a2fa6f0b",
       "version_major": 2,
       "version_minor": 0
      },
      "text/plain": [
       "轨迹生成:   0%|          | 0/255 [00:00<?, ?it/s]"
      ]
     },
     "metadata": {},
     "output_type": "display_data"
    },
    {
     "data": {
      "application/vnd.jupyter.widget-view+json": {
       "model_id": "6f44220a4a8248278d4304cce78bd0d6",
       "version_major": 2,
       "version_minor": 0
      },
      "text/plain": [
       "轨迹生成:   0%|          | 0/255 [00:00<?, ?it/s]"
      ]
     },
     "metadata": {},
     "output_type": "display_data"
    },
    {
     "data": {
      "application/vnd.jupyter.widget-view+json": {
       "model_id": "88f1e4dc53d24fbcae0ace2fb012b0d4",
       "version_major": 2,
       "version_minor": 0
      },
      "text/plain": [
       "轨迹生成:   0%|          | 0/255 [00:00<?, ?it/s]"
      ]
     },
     "metadata": {},
     "output_type": "display_data"
    },
    {
     "data": {
      "application/vnd.jupyter.widget-view+json": {
       "model_id": "6683c83550dd45e0ae63322662f6f7f9",
       "version_major": 2,
       "version_minor": 0
      },
      "text/plain": [
       "轨迹生成:   0%|          | 0/255 [00:00<?, ?it/s]"
      ]
     },
     "metadata": {},
     "output_type": "display_data"
    },
    {
     "data": {
      "application/vnd.jupyter.widget-view+json": {
       "model_id": "89ff08b4d65a4092a024b8ef68e5b478",
       "version_major": 2,
       "version_minor": 0
      },
      "text/plain": [
       "轨迹生成:   0%|          | 0/255 [00:00<?, ?it/s]"
      ]
     },
     "metadata": {},
     "output_type": "display_data"
    },
    {
     "data": {
      "application/vnd.jupyter.widget-view+json": {
       "model_id": "45a5059334ce475f9f0ef98e2ac6bae8",
       "version_major": 2,
       "version_minor": 0
      },
      "text/plain": [
       "轨迹生成:   0%|          | 0/255 [00:00<?, ?it/s]"
      ]
     },
     "metadata": {},
     "output_type": "display_data"
    },
    {
     "data": {
      "application/vnd.jupyter.widget-view+json": {
       "model_id": "4d2a6afc38214ecab64dae2be52be0bb",
       "version_major": 2,
       "version_minor": 0
      },
      "text/plain": [
       "轨迹生成:   0%|          | 0/255 [00:00<?, ?it/s]"
      ]
     },
     "metadata": {},
     "output_type": "display_data"
    },
    {
     "name": "stdout",
     "output_type": "stream",
     "text": [
      "\n",
      "✅ 11-10 完成 | 共生成 3570 张轨迹图\n"
     ]
    },
    {
     "data": {
      "application/vnd.jupyter.widget-view+json": {
       "model_id": "fc4b65d933af4710a288e3f440c15478",
       "version_major": 2,
       "version_minor": 0
      },
      "text/plain": [
       "分组处理:   0%|          | 0/12 [00:00<?, ?it/s]"
      ]
     },
     "metadata": {},
     "output_type": "display_data"
    },
    {
     "data": {
      "application/vnd.jupyter.widget-view+json": {
       "model_id": "97ba0493b4c144e297c5b3c03ed31833",
       "version_major": 2,
       "version_minor": 0
      },
      "text/plain": [
       "轨迹生成:   0%|          | 0/255 [00:00<?, ?it/s]"
      ]
     },
     "metadata": {},
     "output_type": "display_data"
    },
    {
     "data": {
      "application/vnd.jupyter.widget-view+json": {
       "model_id": "242667435ed6445b90fd51bdf7dcbcfc",
       "version_major": 2,
       "version_minor": 0
      },
      "text/plain": [
       "轨迹生成:   0%|          | 0/255 [00:00<?, ?it/s]"
      ]
     },
     "metadata": {},
     "output_type": "display_data"
    },
    {
     "data": {
      "application/vnd.jupyter.widget-view+json": {
       "model_id": "1200afaa52924ea5ad1f6ad6380d78ed",
       "version_major": 2,
       "version_minor": 0
      },
      "text/plain": [
       "轨迹生成:   0%|          | 0/255 [00:00<?, ?it/s]"
      ]
     },
     "metadata": {},
     "output_type": "display_data"
    },
    {
     "data": {
      "application/vnd.jupyter.widget-view+json": {
       "model_id": "4305272e0a504fb5bd58a04282f11f35",
       "version_major": 2,
       "version_minor": 0
      },
      "text/plain": [
       "轨迹生成:   0%|          | 0/255 [00:00<?, ?it/s]"
      ]
     },
     "metadata": {},
     "output_type": "display_data"
    },
    {
     "data": {
      "application/vnd.jupyter.widget-view+json": {
       "model_id": "5991efa35053438bb6f2d1d366de83e3",
       "version_major": 2,
       "version_minor": 0
      },
      "text/plain": [
       "轨迹生成:   0%|          | 0/255 [00:00<?, ?it/s]"
      ]
     },
     "metadata": {},
     "output_type": "display_data"
    },
    {
     "data": {
      "application/vnd.jupyter.widget-view+json": {
       "model_id": "0ff33db4287a455fbe794ab64d3022a0",
       "version_major": 2,
       "version_minor": 0
      },
      "text/plain": [
       "轨迹生成:   0%|          | 0/255 [00:00<?, ?it/s]"
      ]
     },
     "metadata": {},
     "output_type": "display_data"
    },
    {
     "data": {
      "application/vnd.jupyter.widget-view+json": {
       "model_id": "e270d44e910d4c6db53dfd27b8f977d6",
       "version_major": 2,
       "version_minor": 0
      },
      "text/plain": [
       "轨迹生成:   0%|          | 0/255 [00:00<?, ?it/s]"
      ]
     },
     "metadata": {},
     "output_type": "display_data"
    },
    {
     "data": {
      "application/vnd.jupyter.widget-view+json": {
       "model_id": "7be263f82b2e4237a892157ae85e2753",
       "version_major": 2,
       "version_minor": 0
      },
      "text/plain": [
       "轨迹生成:   0%|          | 0/255 [00:00<?, ?it/s]"
      ]
     },
     "metadata": {},
     "output_type": "display_data"
    },
    {
     "data": {
      "application/vnd.jupyter.widget-view+json": {
       "model_id": "47e275ffb64d41b8887f2437343be25b",
       "version_major": 2,
       "version_minor": 0
      },
      "text/plain": [
       "轨迹生成:   0%|          | 0/255 [00:00<?, ?it/s]"
      ]
     },
     "metadata": {},
     "output_type": "display_data"
    },
    {
     "data": {
      "application/vnd.jupyter.widget-view+json": {
       "model_id": "16806ca79e794fc9a18e5ec13b681469",
       "version_major": 2,
       "version_minor": 0
      },
      "text/plain": [
       "轨迹生成:   0%|          | 0/255 [00:00<?, ?it/s]"
      ]
     },
     "metadata": {},
     "output_type": "display_data"
    },
    {
     "data": {
      "application/vnd.jupyter.widget-view+json": {
       "model_id": "0983a449c6e547afbc17c57658520182",
       "version_major": 2,
       "version_minor": 0
      },
      "text/plain": [
       "轨迹生成:   0%|          | 0/255 [00:00<?, ?it/s]"
      ]
     },
     "metadata": {},
     "output_type": "display_data"
    },
    {
     "data": {
      "application/vnd.jupyter.widget-view+json": {
       "model_id": "7d298a2947d542659b1e3d95ee407ae7",
       "version_major": 2,
       "version_minor": 0
      },
      "text/plain": [
       "轨迹生成:   0%|          | 0/255 [00:00<?, ?it/s]"
      ]
     },
     "metadata": {},
     "output_type": "display_data"
    },
    {
     "name": "stdout",
     "output_type": "stream",
     "text": [
      "\n",
      "✅ 11-17 完成 | 共生成 3060 张轨迹图\n"
     ]
    },
    {
     "data": {
      "application/vnd.jupyter.widget-view+json": {
       "model_id": "b5c43719815848fc8af46fe8b1297609",
       "version_major": 2,
       "version_minor": 0
      },
      "text/plain": [
       "当前批次:   0%|          | 0/10 [00:00<?, ?it/s]"
      ]
     },
     "metadata": {},
     "output_type": "display_data"
    },
    {
     "data": {
      "application/vnd.jupyter.widget-view+json": {
       "model_id": "547a155c0cc24e849f553a7a8ea2dd1f",
       "version_major": 2,
       "version_minor": 0
      },
      "text/plain": [
       "分组处理:   0%|          | 0/15 [00:00<?, ?it/s]"
      ]
     },
     "metadata": {},
     "output_type": "display_data"
    },
    {
     "data": {
      "application/vnd.jupyter.widget-view+json": {
       "model_id": "97f8c3a5740541468be002b99b890089",
       "version_major": 2,
       "version_minor": 0
      },
      "text/plain": [
       "轨迹生成:   0%|          | 0/255 [00:00<?, ?it/s]"
      ]
     },
     "metadata": {},
     "output_type": "display_data"
    },
    {
     "data": {
      "application/vnd.jupyter.widget-view+json": {
       "model_id": "c464750bba694f48a6491b9d64e660b6",
       "version_major": 2,
       "version_minor": 0
      },
      "text/plain": [
       "轨迹生成:   0%|          | 0/255 [00:00<?, ?it/s]"
      ]
     },
     "metadata": {},
     "output_type": "display_data"
    },
    {
     "data": {
      "application/vnd.jupyter.widget-view+json": {
       "model_id": "28ee9b6ad93343bca5ba93e7f75b534b",
       "version_major": 2,
       "version_minor": 0
      },
      "text/plain": [
       "轨迹生成:   0%|          | 0/255 [00:00<?, ?it/s]"
      ]
     },
     "metadata": {},
     "output_type": "display_data"
    },
    {
     "data": {
      "application/vnd.jupyter.widget-view+json": {
       "model_id": "0798df1328ae4b35a4b1ac10b74411e9",
       "version_major": 2,
       "version_minor": 0
      },
      "text/plain": [
       "轨迹生成:   0%|          | 0/255 [00:00<?, ?it/s]"
      ]
     },
     "metadata": {},
     "output_type": "display_data"
    },
    {
     "data": {
      "application/vnd.jupyter.widget-view+json": {
       "model_id": "989d1d9a0388465693c2cead5490883b",
       "version_major": 2,
       "version_minor": 0
      },
      "text/plain": [
       "轨迹生成:   0%|          | 0/255 [00:00<?, ?it/s]"
      ]
     },
     "metadata": {},
     "output_type": "display_data"
    },
    {
     "data": {
      "application/vnd.jupyter.widget-view+json": {
       "model_id": "36e8e197d3c641beb6a35af00b0cf78c",
       "version_major": 2,
       "version_minor": 0
      },
      "text/plain": [
       "轨迹生成:   0%|          | 0/255 [00:00<?, ?it/s]"
      ]
     },
     "metadata": {},
     "output_type": "display_data"
    },
    {
     "data": {
      "application/vnd.jupyter.widget-view+json": {
       "model_id": "8f55ed74ae6440e89bbbc05ed5eb7a68",
       "version_major": 2,
       "version_minor": 0
      },
      "text/plain": [
       "轨迹生成:   0%|          | 0/255 [00:00<?, ?it/s]"
      ]
     },
     "metadata": {},
     "output_type": "display_data"
    },
    {
     "data": {
      "application/vnd.jupyter.widget-view+json": {
       "model_id": "5dfc9c660e5140cebaf60fe1efdb4ccf",
       "version_major": 2,
       "version_minor": 0
      },
      "text/plain": [
       "轨迹生成:   0%|          | 0/255 [00:00<?, ?it/s]"
      ]
     },
     "metadata": {},
     "output_type": "display_data"
    },
    {
     "data": {
      "application/vnd.jupyter.widget-view+json": {
       "model_id": "ceb77829f51e428fa6f49eab57f75ed6",
       "version_major": 2,
       "version_minor": 0
      },
      "text/plain": [
       "轨迹生成:   0%|          | 0/255 [00:00<?, ?it/s]"
      ]
     },
     "metadata": {},
     "output_type": "display_data"
    },
    {
     "data": {
      "application/vnd.jupyter.widget-view+json": {
       "model_id": "f1d5db1790cf47c4a6783f4f9f4b064b",
       "version_major": 2,
       "version_minor": 0
      },
      "text/plain": [
       "轨迹生成:   0%|          | 0/255 [00:00<?, ?it/s]"
      ]
     },
     "metadata": {},
     "output_type": "display_data"
    },
    {
     "data": {
      "application/vnd.jupyter.widget-view+json": {
       "model_id": "a98a6e1030e6489f8b527fa8722f4225",
       "version_major": 2,
       "version_minor": 0
      },
      "text/plain": [
       "轨迹生成:   0%|          | 0/255 [00:00<?, ?it/s]"
      ]
     },
     "metadata": {},
     "output_type": "display_data"
    },
    {
     "data": {
      "application/vnd.jupyter.widget-view+json": {
       "model_id": "0b362c4b5baf4f7c902d5b632f2f2c54",
       "version_major": 2,
       "version_minor": 0
      },
      "text/plain": [
       "轨迹生成:   0%|          | 0/255 [00:00<?, ?it/s]"
      ]
     },
     "metadata": {},
     "output_type": "display_data"
    },
    {
     "data": {
      "application/vnd.jupyter.widget-view+json": {
       "model_id": "cfa79430177f4992969dfbef072f7274",
       "version_major": 2,
       "version_minor": 0
      },
      "text/plain": [
       "轨迹生成:   0%|          | 0/255 [00:00<?, ?it/s]"
      ]
     },
     "metadata": {},
     "output_type": "display_data"
    },
    {
     "data": {
      "application/vnd.jupyter.widget-view+json": {
       "model_id": "8f935e4aa03e4a2bbe0f624ff057aa3c",
       "version_major": 2,
       "version_minor": 0
      },
      "text/plain": [
       "轨迹生成:   0%|          | 0/255 [00:00<?, ?it/s]"
      ]
     },
     "metadata": {},
     "output_type": "display_data"
    },
    {
     "data": {
      "application/vnd.jupyter.widget-view+json": {
       "model_id": "71adac65011f4def9dd7b2be2aafd2ab",
       "version_major": 2,
       "version_minor": 0
      },
      "text/plain": [
       "轨迹生成:   0%|          | 0/255 [00:00<?, ?it/s]"
      ]
     },
     "metadata": {},
     "output_type": "display_data"
    },
    {
     "name": "stdout",
     "output_type": "stream",
     "text": [
      "\n",
      "✅ 11-19 完成 | 共生成 3825 张轨迹图\n"
     ]
    },
    {
     "data": {
      "application/vnd.jupyter.widget-view+json": {
       "model_id": "121614109702444cb7de8a5f4d748312",
       "version_major": 2,
       "version_minor": 0
      },
      "text/plain": [
       "分组处理:   0%|          | 0/14 [00:00<?, ?it/s]"
      ]
     },
     "metadata": {},
     "output_type": "display_data"
    },
    {
     "data": {
      "application/vnd.jupyter.widget-view+json": {
       "model_id": "cb4fdb6ce1c1468392d3b880ea0a955a",
       "version_major": 2,
       "version_minor": 0
      },
      "text/plain": [
       "轨迹生成:   0%|          | 0/255 [00:00<?, ?it/s]"
      ]
     },
     "metadata": {},
     "output_type": "display_data"
    },
    {
     "data": {
      "application/vnd.jupyter.widget-view+json": {
       "model_id": "8e9f282dc39f4ab1b603eb45a1ae6976",
       "version_major": 2,
       "version_minor": 0
      },
      "text/plain": [
       "轨迹生成:   0%|          | 0/255 [00:00<?, ?it/s]"
      ]
     },
     "metadata": {},
     "output_type": "display_data"
    },
    {
     "data": {
      "application/vnd.jupyter.widget-view+json": {
       "model_id": "df78d27a2f3c453baf1635ad8e3b62c6",
       "version_major": 2,
       "version_minor": 0
      },
      "text/plain": [
       "轨迹生成:   0%|          | 0/255 [00:00<?, ?it/s]"
      ]
     },
     "metadata": {},
     "output_type": "display_data"
    },
    {
     "data": {
      "application/vnd.jupyter.widget-view+json": {
       "model_id": "e8507300b9eb4601afb124f89e23b357",
       "version_major": 2,
       "version_minor": 0
      },
      "text/plain": [
       "轨迹生成:   0%|          | 0/255 [00:00<?, ?it/s]"
      ]
     },
     "metadata": {},
     "output_type": "display_data"
    },
    {
     "data": {
      "application/vnd.jupyter.widget-view+json": {
       "model_id": "9f2d8243b0dd4162b8ef271fe6df6a43",
       "version_major": 2,
       "version_minor": 0
      },
      "text/plain": [
       "轨迹生成:   0%|          | 0/255 [00:00<?, ?it/s]"
      ]
     },
     "metadata": {},
     "output_type": "display_data"
    },
    {
     "data": {
      "application/vnd.jupyter.widget-view+json": {
       "model_id": "0e4f6f134a4049ae8f316538518a250c",
       "version_major": 2,
       "version_minor": 0
      },
      "text/plain": [
       "轨迹生成:   0%|          | 0/255 [00:00<?, ?it/s]"
      ]
     },
     "metadata": {},
     "output_type": "display_data"
    },
    {
     "data": {
      "application/vnd.jupyter.widget-view+json": {
       "model_id": "73833ec429174c57ad14b14eb84c1640",
       "version_major": 2,
       "version_minor": 0
      },
      "text/plain": [
       "轨迹生成:   0%|          | 0/255 [00:00<?, ?it/s]"
      ]
     },
     "metadata": {},
     "output_type": "display_data"
    },
    {
     "data": {
      "application/vnd.jupyter.widget-view+json": {
       "model_id": "9b8f719c1fd54c9da0d4283d276b339b",
       "version_major": 2,
       "version_minor": 0
      },
      "text/plain": [
       "轨迹生成:   0%|          | 0/255 [00:00<?, ?it/s]"
      ]
     },
     "metadata": {},
     "output_type": "display_data"
    },
    {
     "data": {
      "application/vnd.jupyter.widget-view+json": {
       "model_id": "a5d1b02837cf46e5936111f568dec573",
       "version_major": 2,
       "version_minor": 0
      },
      "text/plain": [
       "轨迹生成:   0%|          | 0/255 [00:00<?, ?it/s]"
      ]
     },
     "metadata": {},
     "output_type": "display_data"
    },
    {
     "data": {
      "application/vnd.jupyter.widget-view+json": {
       "model_id": "e6e4b3412fed434680bee26d6b02cbe9",
       "version_major": 2,
       "version_minor": 0
      },
      "text/plain": [
       "轨迹生成:   0%|          | 0/255 [00:00<?, ?it/s]"
      ]
     },
     "metadata": {},
     "output_type": "display_data"
    },
    {
     "data": {
      "application/vnd.jupyter.widget-view+json": {
       "model_id": "2b0f01ad4a574b82960866181adbbf9f",
       "version_major": 2,
       "version_minor": 0
      },
      "text/plain": [
       "轨迹生成:   0%|          | 0/255 [00:00<?, ?it/s]"
      ]
     },
     "metadata": {},
     "output_type": "display_data"
    },
    {
     "data": {
      "application/vnd.jupyter.widget-view+json": {
       "model_id": "a201475df36a497b90bc21505378047f",
       "version_major": 2,
       "version_minor": 0
      },
      "text/plain": [
       "轨迹生成:   0%|          | 0/255 [00:00<?, ?it/s]"
      ]
     },
     "metadata": {},
     "output_type": "display_data"
    },
    {
     "data": {
      "application/vnd.jupyter.widget-view+json": {
       "model_id": "e2ffe31940dc4b3a95f9215a4d46b13c",
       "version_major": 2,
       "version_minor": 0
      },
      "text/plain": [
       "轨迹生成:   0%|          | 0/255 [00:00<?, ?it/s]"
      ]
     },
     "metadata": {},
     "output_type": "display_data"
    },
    {
     "data": {
      "application/vnd.jupyter.widget-view+json": {
       "model_id": "7b459e3460294f05abc580c98ba618a0",
       "version_major": 2,
       "version_minor": 0
      },
      "text/plain": [
       "轨迹生成:   0%|          | 0/255 [00:00<?, ?it/s]"
      ]
     },
     "metadata": {},
     "output_type": "display_data"
    },
    {
     "name": "stdout",
     "output_type": "stream",
     "text": [
      "\n",
      "✅ 11-20 完成 | 共生成 3570 张轨迹图\n"
     ]
    },
    {
     "data": {
      "application/vnd.jupyter.widget-view+json": {
       "model_id": "3b93626c43554b78ad846f3fa99f7998",
       "version_major": 2,
       "version_minor": 0
      },
      "text/plain": [
       "分组处理:   0%|          | 0/15 [00:00<?, ?it/s]"
      ]
     },
     "metadata": {},
     "output_type": "display_data"
    },
    {
     "data": {
      "application/vnd.jupyter.widget-view+json": {
       "model_id": "0b55200154e44e9fbe987325a5e4bc4a",
       "version_major": 2,
       "version_minor": 0
      },
      "text/plain": [
       "轨迹生成:   0%|          | 0/255 [00:00<?, ?it/s]"
      ]
     },
     "metadata": {},
     "output_type": "display_data"
    },
    {
     "data": {
      "application/vnd.jupyter.widget-view+json": {
       "model_id": "558b020dc33e4755a22eb40e1dd62adf",
       "version_major": 2,
       "version_minor": 0
      },
      "text/plain": [
       "轨迹生成:   0%|          | 0/255 [00:00<?, ?it/s]"
      ]
     },
     "metadata": {},
     "output_type": "display_data"
    },
    {
     "data": {
      "application/vnd.jupyter.widget-view+json": {
       "model_id": "417c0f804cb24195ac1506067fd9894f",
       "version_major": 2,
       "version_minor": 0
      },
      "text/plain": [
       "轨迹生成:   0%|          | 0/255 [00:00<?, ?it/s]"
      ]
     },
     "metadata": {},
     "output_type": "display_data"
    },
    {
     "data": {
      "application/vnd.jupyter.widget-view+json": {
       "model_id": "f0982f6751da42f48f0b6c8e1afe56fa",
       "version_major": 2,
       "version_minor": 0
      },
      "text/plain": [
       "轨迹生成:   0%|          | 0/255 [00:00<?, ?it/s]"
      ]
     },
     "metadata": {},
     "output_type": "display_data"
    },
    {
     "data": {
      "application/vnd.jupyter.widget-view+json": {
       "model_id": "52b8ce534f02428d81cec4bbdb6b93ca",
       "version_major": 2,
       "version_minor": 0
      },
      "text/plain": [
       "轨迹生成:   0%|          | 0/255 [00:00<?, ?it/s]"
      ]
     },
     "metadata": {},
     "output_type": "display_data"
    },
    {
     "data": {
      "application/vnd.jupyter.widget-view+json": {
       "model_id": "be562c8114f248719f8835b69dff7a4a",
       "version_major": 2,
       "version_minor": 0
      },
      "text/plain": [
       "轨迹生成:   0%|          | 0/255 [00:00<?, ?it/s]"
      ]
     },
     "metadata": {},
     "output_type": "display_data"
    },
    {
     "data": {
      "application/vnd.jupyter.widget-view+json": {
       "model_id": "baa6b9efef084d9b958d505e29e8171c",
       "version_major": 2,
       "version_minor": 0
      },
      "text/plain": [
       "轨迹生成:   0%|          | 0/255 [00:00<?, ?it/s]"
      ]
     },
     "metadata": {},
     "output_type": "display_data"
    },
    {
     "data": {
      "application/vnd.jupyter.widget-view+json": {
       "model_id": "8ae5e657500c43c78ec5d5192acff575",
       "version_major": 2,
       "version_minor": 0
      },
      "text/plain": [
       "轨迹生成:   0%|          | 0/255 [00:00<?, ?it/s]"
      ]
     },
     "metadata": {},
     "output_type": "display_data"
    },
    {
     "data": {
      "application/vnd.jupyter.widget-view+json": {
       "model_id": "5cc4f22780394a4694252247868e9445",
       "version_major": 2,
       "version_minor": 0
      },
      "text/plain": [
       "轨迹生成:   0%|          | 0/255 [00:00<?, ?it/s]"
      ]
     },
     "metadata": {},
     "output_type": "display_data"
    },
    {
     "data": {
      "application/vnd.jupyter.widget-view+json": {
       "model_id": "79a0d0a88a6b44f6ab0296b556f676aa",
       "version_major": 2,
       "version_minor": 0
      },
      "text/plain": [
       "轨迹生成:   0%|          | 0/255 [00:00<?, ?it/s]"
      ]
     },
     "metadata": {},
     "output_type": "display_data"
    },
    {
     "data": {
      "application/vnd.jupyter.widget-view+json": {
       "model_id": "169ccb23bedc4df08ef5041a7c2839ae",
       "version_major": 2,
       "version_minor": 0
      },
      "text/plain": [
       "轨迹生成:   0%|          | 0/255 [00:00<?, ?it/s]"
      ]
     },
     "metadata": {},
     "output_type": "display_data"
    },
    {
     "data": {
      "application/vnd.jupyter.widget-view+json": {
       "model_id": "3c7f9dddf9e54f2abcb516c133f8451f",
       "version_major": 2,
       "version_minor": 0
      },
      "text/plain": [
       "轨迹生成:   0%|          | 0/255 [00:00<?, ?it/s]"
      ]
     },
     "metadata": {},
     "output_type": "display_data"
    },
    {
     "data": {
      "application/vnd.jupyter.widget-view+json": {
       "model_id": "0d6791b379d74073a322c051d0951bda",
       "version_major": 2,
       "version_minor": 0
      },
      "text/plain": [
       "轨迹生成:   0%|          | 0/255 [00:00<?, ?it/s]"
      ]
     },
     "metadata": {},
     "output_type": "display_data"
    },
    {
     "data": {
      "application/vnd.jupyter.widget-view+json": {
       "model_id": "defea03a796e4a518cb25f4decf626ff",
       "version_major": 2,
       "version_minor": 0
      },
      "text/plain": [
       "轨迹生成:   0%|          | 0/255 [00:00<?, ?it/s]"
      ]
     },
     "metadata": {},
     "output_type": "display_data"
    },
    {
     "data": {
      "application/vnd.jupyter.widget-view+json": {
       "model_id": "f9f54fb3934647978bf86ef67d1df6bf",
       "version_major": 2,
       "version_minor": 0
      },
      "text/plain": [
       "轨迹生成:   0%|          | 0/255 [00:00<?, ?it/s]"
      ]
     },
     "metadata": {},
     "output_type": "display_data"
    },
    {
     "name": "stdout",
     "output_type": "stream",
     "text": [
      "\n",
      "✅ 11-4 完成 | 共生成 3825 张轨迹图\n"
     ]
    },
    {
     "data": {
      "application/vnd.jupyter.widget-view+json": {
       "model_id": "7a65e3fbedd246d3b527c218f35f0076",
       "version_major": 2,
       "version_minor": 0
      },
      "text/plain": [
       "分组处理:   0%|          | 0/15 [00:00<?, ?it/s]"
      ]
     },
     "metadata": {},
     "output_type": "display_data"
    },
    {
     "data": {
      "application/vnd.jupyter.widget-view+json": {
       "model_id": "66528ac6855743629470f079f9fd0461",
       "version_major": 2,
       "version_minor": 0
      },
      "text/plain": [
       "轨迹生成:   0%|          | 0/255 [00:00<?, ?it/s]"
      ]
     },
     "metadata": {},
     "output_type": "display_data"
    },
    {
     "data": {
      "application/vnd.jupyter.widget-view+json": {
       "model_id": "717d5d536f0340b59ddd1ca34595c53c",
       "version_major": 2,
       "version_minor": 0
      },
      "text/plain": [
       "轨迹生成:   0%|          | 0/255 [00:00<?, ?it/s]"
      ]
     },
     "metadata": {},
     "output_type": "display_data"
    },
    {
     "data": {
      "application/vnd.jupyter.widget-view+json": {
       "model_id": "55dbbdcae7eb435687d5e2b1a3732b4a",
       "version_major": 2,
       "version_minor": 0
      },
      "text/plain": [
       "轨迹生成:   0%|          | 0/255 [00:00<?, ?it/s]"
      ]
     },
     "metadata": {},
     "output_type": "display_data"
    },
    {
     "data": {
      "application/vnd.jupyter.widget-view+json": {
       "model_id": "5805a3dcb4d1470b9c1fd18b1780cf65",
       "version_major": 2,
       "version_minor": 0
      },
      "text/plain": [
       "轨迹生成:   0%|          | 0/255 [00:00<?, ?it/s]"
      ]
     },
     "metadata": {},
     "output_type": "display_data"
    },
    {
     "data": {
      "application/vnd.jupyter.widget-view+json": {
       "model_id": "a29466e552f648c98f25a8592dcccf52",
       "version_major": 2,
       "version_minor": 0
      },
      "text/plain": [
       "轨迹生成:   0%|          | 0/255 [00:00<?, ?it/s]"
      ]
     },
     "metadata": {},
     "output_type": "display_data"
    },
    {
     "data": {
      "application/vnd.jupyter.widget-view+json": {
       "model_id": "823c1e52c6ef4dcbb977b3f5a06d1288",
       "version_major": 2,
       "version_minor": 0
      },
      "text/plain": [
       "轨迹生成:   0%|          | 0/255 [00:00<?, ?it/s]"
      ]
     },
     "metadata": {},
     "output_type": "display_data"
    },
    {
     "data": {
      "application/vnd.jupyter.widget-view+json": {
       "model_id": "af50c35cda7c446688c0810b1dbb82fb",
       "version_major": 2,
       "version_minor": 0
      },
      "text/plain": [
       "轨迹生成:   0%|          | 0/255 [00:00<?, ?it/s]"
      ]
     },
     "metadata": {},
     "output_type": "display_data"
    },
    {
     "data": {
      "application/vnd.jupyter.widget-view+json": {
       "model_id": "fbbc58af4eb54f1db10380e5032e9247",
       "version_major": 2,
       "version_minor": 0
      },
      "text/plain": [
       "轨迹生成:   0%|          | 0/255 [00:00<?, ?it/s]"
      ]
     },
     "metadata": {},
     "output_type": "display_data"
    },
    {
     "data": {
      "application/vnd.jupyter.widget-view+json": {
       "model_id": "dd814fa9a12f4dcfad7bc4beae03276a",
       "version_major": 2,
       "version_minor": 0
      },
      "text/plain": [
       "轨迹生成:   0%|          | 0/255 [00:00<?, ?it/s]"
      ]
     },
     "metadata": {},
     "output_type": "display_data"
    },
    {
     "data": {
      "application/vnd.jupyter.widget-view+json": {
       "model_id": "5afb0b9e982b4d108494227bbc13c256",
       "version_major": 2,
       "version_minor": 0
      },
      "text/plain": [
       "轨迹生成:   0%|          | 0/255 [00:00<?, ?it/s]"
      ]
     },
     "metadata": {},
     "output_type": "display_data"
    },
    {
     "data": {
      "application/vnd.jupyter.widget-view+json": {
       "model_id": "055b36f90640438cb3e92893362bcb3a",
       "version_major": 2,
       "version_minor": 0
      },
      "text/plain": [
       "轨迹生成:   0%|          | 0/255 [00:00<?, ?it/s]"
      ]
     },
     "metadata": {},
     "output_type": "display_data"
    },
    {
     "data": {
      "application/vnd.jupyter.widget-view+json": {
       "model_id": "457091d4c37745c8a3c149cd608858c5",
       "version_major": 2,
       "version_minor": 0
      },
      "text/plain": [
       "轨迹生成:   0%|          | 0/255 [00:00<?, ?it/s]"
      ]
     },
     "metadata": {},
     "output_type": "display_data"
    },
    {
     "data": {
      "application/vnd.jupyter.widget-view+json": {
       "model_id": "7156b4b606794911bb3f2e985845f3a4",
       "version_major": 2,
       "version_minor": 0
      },
      "text/plain": [
       "轨迹生成:   0%|          | 0/255 [00:00<?, ?it/s]"
      ]
     },
     "metadata": {},
     "output_type": "display_data"
    },
    {
     "data": {
      "application/vnd.jupyter.widget-view+json": {
       "model_id": "50d20e3facca402aa0e7116b65c7bb08",
       "version_major": 2,
       "version_minor": 0
      },
      "text/plain": [
       "轨迹生成:   0%|          | 0/255 [00:00<?, ?it/s]"
      ]
     },
     "metadata": {},
     "output_type": "display_data"
    },
    {
     "data": {
      "application/vnd.jupyter.widget-view+json": {
       "model_id": "4b8e40aea6e94a45bb2d8a90aa425662",
       "version_major": 2,
       "version_minor": 0
      },
      "text/plain": [
       "轨迹生成:   0%|          | 0/255 [00:00<?, ?it/s]"
      ]
     },
     "metadata": {},
     "output_type": "display_data"
    },
    {
     "name": "stdout",
     "output_type": "stream",
     "text": [
      "\n",
      "✅ 11-7 完成 | 共生成 3825 张轨迹图\n"
     ]
    },
    {
     "data": {
      "application/vnd.jupyter.widget-view+json": {
       "model_id": "853b09aacf344ad3b3c51c2645c59b40",
       "version_major": 2,
       "version_minor": 0
      },
      "text/plain": [
       "分组处理:   0%|          | 0/7 [00:00<?, ?it/s]"
      ]
     },
     "metadata": {},
     "output_type": "display_data"
    },
    {
     "data": {
      "application/vnd.jupyter.widget-view+json": {
       "model_id": "3ce8d1cae8f649c9805b937bc31ea717",
       "version_major": 2,
       "version_minor": 0
      },
      "text/plain": [
       "轨迹生成:   0%|          | 0/255 [00:00<?, ?it/s]"
      ]
     },
     "metadata": {},
     "output_type": "display_data"
    },
    {
     "data": {
      "application/vnd.jupyter.widget-view+json": {
       "model_id": "d853dd004f304d97b72de94ac3827fc5",
       "version_major": 2,
       "version_minor": 0
      },
      "text/plain": [
       "轨迹生成:   0%|          | 0/255 [00:00<?, ?it/s]"
      ]
     },
     "metadata": {},
     "output_type": "display_data"
    },
    {
     "data": {
      "application/vnd.jupyter.widget-view+json": {
       "model_id": "0d031c551fb14f24a26f531d6e426710",
       "version_major": 2,
       "version_minor": 0
      },
      "text/plain": [
       "轨迹生成:   0%|          | 0/255 [00:00<?, ?it/s]"
      ]
     },
     "metadata": {},
     "output_type": "display_data"
    },
    {
     "data": {
      "application/vnd.jupyter.widget-view+json": {
       "model_id": "bb1eb2d17e9d4752b5c5ed2889d3fe2a",
       "version_major": 2,
       "version_minor": 0
      },
      "text/plain": [
       "轨迹生成:   0%|          | 0/255 [00:00<?, ?it/s]"
      ]
     },
     "metadata": {},
     "output_type": "display_data"
    },
    {
     "data": {
      "application/vnd.jupyter.widget-view+json": {
       "model_id": "10e240ed1f014839bb3573a59cdacf8d",
       "version_major": 2,
       "version_minor": 0
      },
      "text/plain": [
       "轨迹生成:   0%|          | 0/255 [00:00<?, ?it/s]"
      ]
     },
     "metadata": {},
     "output_type": "display_data"
    },
    {
     "data": {
      "application/vnd.jupyter.widget-view+json": {
       "model_id": "5c8c3955f7174985a5689486cc274510",
       "version_major": 2,
       "version_minor": 0
      },
      "text/plain": [
       "轨迹生成:   0%|          | 0/255 [00:00<?, ?it/s]"
      ]
     },
     "metadata": {},
     "output_type": "display_data"
    },
    {
     "data": {
      "application/vnd.jupyter.widget-view+json": {
       "model_id": "8a86812e297b4eb6bcb38b5baed2db65",
       "version_major": 2,
       "version_minor": 0
      },
      "text/plain": [
       "轨迹生成:   0%|          | 0/255 [00:00<?, ?it/s]"
      ]
     },
     "metadata": {},
     "output_type": "display_data"
    },
    {
     "name": "stdout",
     "output_type": "stream",
     "text": [
      "\n",
      "✅ 12-1 完成 | 共生成 1785 张轨迹图\n"
     ]
    },
    {
     "data": {
      "application/vnd.jupyter.widget-view+json": {
       "model_id": "f7e49957182e4401808279f241571f43",
       "version_major": 2,
       "version_minor": 0
      },
      "text/plain": [
       "分组处理:   0%|          | 0/14 [00:00<?, ?it/s]"
      ]
     },
     "metadata": {},
     "output_type": "display_data"
    },
    {
     "data": {
      "application/vnd.jupyter.widget-view+json": {
       "model_id": "14e1ca1d77704529be33405ad90a63cb",
       "version_major": 2,
       "version_minor": 0
      },
      "text/plain": [
       "轨迹生成:   0%|          | 0/255 [00:00<?, ?it/s]"
      ]
     },
     "metadata": {},
     "output_type": "display_data"
    },
    {
     "data": {
      "application/vnd.jupyter.widget-view+json": {
       "model_id": "19c9446bca08462eaaa3ae44c30a8346",
       "version_major": 2,
       "version_minor": 0
      },
      "text/plain": [
       "轨迹生成:   0%|          | 0/255 [00:00<?, ?it/s]"
      ]
     },
     "metadata": {},
     "output_type": "display_data"
    },
    {
     "data": {
      "application/vnd.jupyter.widget-view+json": {
       "model_id": "73153616a527400a844c50dcaa458fc6",
       "version_major": 2,
       "version_minor": 0
      },
      "text/plain": [
       "轨迹生成:   0%|          | 0/255 [00:00<?, ?it/s]"
      ]
     },
     "metadata": {},
     "output_type": "display_data"
    },
    {
     "data": {
      "application/vnd.jupyter.widget-view+json": {
       "model_id": "c89523fc85f14eb69427d9776c8b8781",
       "version_major": 2,
       "version_minor": 0
      },
      "text/plain": [
       "轨迹生成:   0%|          | 0/255 [00:00<?, ?it/s]"
      ]
     },
     "metadata": {},
     "output_type": "display_data"
    },
    {
     "data": {
      "application/vnd.jupyter.widget-view+json": {
       "model_id": "e44c88b9056b4f28a2e57d2eb0296fe5",
       "version_major": 2,
       "version_minor": 0
      },
      "text/plain": [
       "轨迹生成:   0%|          | 0/255 [00:00<?, ?it/s]"
      ]
     },
     "metadata": {},
     "output_type": "display_data"
    },
    {
     "data": {
      "application/vnd.jupyter.widget-view+json": {
       "model_id": "085f3f3679e64ad4ba1b77738dddefd9",
       "version_major": 2,
       "version_minor": 0
      },
      "text/plain": [
       "轨迹生成:   0%|          | 0/255 [00:00<?, ?it/s]"
      ]
     },
     "metadata": {},
     "output_type": "display_data"
    },
    {
     "data": {
      "application/vnd.jupyter.widget-view+json": {
       "model_id": "3262395d44e64c9f84b82cf0b69370c0",
       "version_major": 2,
       "version_minor": 0
      },
      "text/plain": [
       "轨迹生成:   0%|          | 0/255 [00:00<?, ?it/s]"
      ]
     },
     "metadata": {},
     "output_type": "display_data"
    },
    {
     "data": {
      "application/vnd.jupyter.widget-view+json": {
       "model_id": "4aed22b8e6ec4e9ead13288b5776c38f",
       "version_major": 2,
       "version_minor": 0
      },
      "text/plain": [
       "轨迹生成:   0%|          | 0/255 [00:00<?, ?it/s]"
      ]
     },
     "metadata": {},
     "output_type": "display_data"
    },
    {
     "data": {
      "application/vnd.jupyter.widget-view+json": {
       "model_id": "88eaa7f6c9ab4f868eb20534fdd3d86b",
       "version_major": 2,
       "version_minor": 0
      },
      "text/plain": [
       "轨迹生成:   0%|          | 0/255 [00:00<?, ?it/s]"
      ]
     },
     "metadata": {},
     "output_type": "display_data"
    },
    {
     "data": {
      "application/vnd.jupyter.widget-view+json": {
       "model_id": "5c016e55db4c40eda3434370d9a6941f",
       "version_major": 2,
       "version_minor": 0
      },
      "text/plain": [
       "轨迹生成:   0%|          | 0/255 [00:00<?, ?it/s]"
      ]
     },
     "metadata": {},
     "output_type": "display_data"
    },
    {
     "data": {
      "application/vnd.jupyter.widget-view+json": {
       "model_id": "5ac4fecc9276419f964f5c800f5b7c8f",
       "version_major": 2,
       "version_minor": 0
      },
      "text/plain": [
       "轨迹生成:   0%|          | 0/255 [00:00<?, ?it/s]"
      ]
     },
     "metadata": {},
     "output_type": "display_data"
    },
    {
     "data": {
      "application/vnd.jupyter.widget-view+json": {
       "model_id": "56a6c21e35d04b28828ef7c9071f1a59",
       "version_major": 2,
       "version_minor": 0
      },
      "text/plain": [
       "轨迹生成:   0%|          | 0/255 [00:00<?, ?it/s]"
      ]
     },
     "metadata": {},
     "output_type": "display_data"
    },
    {
     "data": {
      "application/vnd.jupyter.widget-view+json": {
       "model_id": "5a6c87a8a57a4e888dd57f059154f7fa",
       "version_major": 2,
       "version_minor": 0
      },
      "text/plain": [
       "轨迹生成:   0%|          | 0/255 [00:00<?, ?it/s]"
      ]
     },
     "metadata": {},
     "output_type": "display_data"
    },
    {
     "data": {
      "application/vnd.jupyter.widget-view+json": {
       "model_id": "23395765408148099823ffc8cb4cc93b",
       "version_major": 2,
       "version_minor": 0
      },
      "text/plain": [
       "轨迹生成:   0%|          | 0/255 [00:00<?, ?it/s]"
      ]
     },
     "metadata": {},
     "output_type": "display_data"
    },
    {
     "name": "stdout",
     "output_type": "stream",
     "text": [
      "\n",
      "✅ 12-19 完成 | 共生成 3570 张轨迹图\n"
     ]
    },
    {
     "data": {
      "application/vnd.jupyter.widget-view+json": {
       "model_id": "fb2867a4e6f548928a7e567812078308",
       "version_major": 2,
       "version_minor": 0
      },
      "text/plain": [
       "分组处理:   0%|          | 0/14 [00:00<?, ?it/s]"
      ]
     },
     "metadata": {},
     "output_type": "display_data"
    },
    {
     "data": {
      "application/vnd.jupyter.widget-view+json": {
       "model_id": "1c3b64274d3b4064aad0051b76b5c1ef",
       "version_major": 2,
       "version_minor": 0
      },
      "text/plain": [
       "轨迹生成:   0%|          | 0/255 [00:00<?, ?it/s]"
      ]
     },
     "metadata": {},
     "output_type": "display_data"
    },
    {
     "data": {
      "application/vnd.jupyter.widget-view+json": {
       "model_id": "0cbcf72ebf444f65aff9429ebcb89ad0",
       "version_major": 2,
       "version_minor": 0
      },
      "text/plain": [
       "轨迹生成:   0%|          | 0/255 [00:00<?, ?it/s]"
      ]
     },
     "metadata": {},
     "output_type": "display_data"
    },
    {
     "data": {
      "application/vnd.jupyter.widget-view+json": {
       "model_id": "efe673bc17654945bef5ba4873220152",
       "version_major": 2,
       "version_minor": 0
      },
      "text/plain": [
       "轨迹生成:   0%|          | 0/255 [00:00<?, ?it/s]"
      ]
     },
     "metadata": {},
     "output_type": "display_data"
    },
    {
     "data": {
      "application/vnd.jupyter.widget-view+json": {
       "model_id": "b9d09cca7238443fb95400371e85bc93",
       "version_major": 2,
       "version_minor": 0
      },
      "text/plain": [
       "轨迹生成:   0%|          | 0/255 [00:00<?, ?it/s]"
      ]
     },
     "metadata": {},
     "output_type": "display_data"
    },
    {
     "data": {
      "application/vnd.jupyter.widget-view+json": {
       "model_id": "178e45d052664edc9d88bd28d5c236d6",
       "version_major": 2,
       "version_minor": 0
      },
      "text/plain": [
       "轨迹生成:   0%|          | 0/255 [00:00<?, ?it/s]"
      ]
     },
     "metadata": {},
     "output_type": "display_data"
    },
    {
     "data": {
      "application/vnd.jupyter.widget-view+json": {
       "model_id": "d926ac2f15934ed5ace32b15a2d15497",
       "version_major": 2,
       "version_minor": 0
      },
      "text/plain": [
       "轨迹生成:   0%|          | 0/255 [00:00<?, ?it/s]"
      ]
     },
     "metadata": {},
     "output_type": "display_data"
    },
    {
     "data": {
      "application/vnd.jupyter.widget-view+json": {
       "model_id": "6e19ac4d51c24f32bc3e3a654a7c1333",
       "version_major": 2,
       "version_minor": 0
      },
      "text/plain": [
       "轨迹生成:   0%|          | 0/255 [00:00<?, ?it/s]"
      ]
     },
     "metadata": {},
     "output_type": "display_data"
    },
    {
     "data": {
      "application/vnd.jupyter.widget-view+json": {
       "model_id": "dcf647a8bdae411c9bfacd070a6a9164",
       "version_major": 2,
       "version_minor": 0
      },
      "text/plain": [
       "轨迹生成:   0%|          | 0/255 [00:00<?, ?it/s]"
      ]
     },
     "metadata": {},
     "output_type": "display_data"
    },
    {
     "data": {
      "application/vnd.jupyter.widget-view+json": {
       "model_id": "610039f665034ce8bd6270307dd9e316",
       "version_major": 2,
       "version_minor": 0
      },
      "text/plain": [
       "轨迹生成:   0%|          | 0/255 [00:00<?, ?it/s]"
      ]
     },
     "metadata": {},
     "output_type": "display_data"
    },
    {
     "data": {
      "application/vnd.jupyter.widget-view+json": {
       "model_id": "390fbbf719004d5d9cf5886e50ee3171",
       "version_major": 2,
       "version_minor": 0
      },
      "text/plain": [
       "轨迹生成:   0%|          | 0/255 [00:00<?, ?it/s]"
      ]
     },
     "metadata": {},
     "output_type": "display_data"
    },
    {
     "data": {
      "application/vnd.jupyter.widget-view+json": {
       "model_id": "f82ed3a7c93641ec99b767f64894f83e",
       "version_major": 2,
       "version_minor": 0
      },
      "text/plain": [
       "轨迹生成:   0%|          | 0/255 [00:00<?, ?it/s]"
      ]
     },
     "metadata": {},
     "output_type": "display_data"
    },
    {
     "data": {
      "application/vnd.jupyter.widget-view+json": {
       "model_id": "eb02389fa0b945d9bc977ba2048bf43b",
       "version_major": 2,
       "version_minor": 0
      },
      "text/plain": [
       "轨迹生成:   0%|          | 0/255 [00:00<?, ?it/s]"
      ]
     },
     "metadata": {},
     "output_type": "display_data"
    },
    {
     "data": {
      "application/vnd.jupyter.widget-view+json": {
       "model_id": "0b441cbe663743d1809d7ed832819455",
       "version_major": 2,
       "version_minor": 0
      },
      "text/plain": [
       "轨迹生成:   0%|          | 0/255 [00:00<?, ?it/s]"
      ]
     },
     "metadata": {},
     "output_type": "display_data"
    },
    {
     "data": {
      "application/vnd.jupyter.widget-view+json": {
       "model_id": "c85d34e0fd49471d8d1cb29ad382f94a",
       "version_major": 2,
       "version_minor": 0
      },
      "text/plain": [
       "轨迹生成:   0%|          | 0/255 [00:00<?, ?it/s]"
      ]
     },
     "metadata": {},
     "output_type": "display_data"
    },
    {
     "name": "stdout",
     "output_type": "stream",
     "text": [
      "\n",
      "✅ 12-20 完成 | 共生成 3570 张轨迹图\n"
     ]
    },
    {
     "data": {
      "application/vnd.jupyter.widget-view+json": {
       "model_id": "32ba346a44c7446b87bf4e5aa84e08b9",
       "version_major": 2,
       "version_minor": 0
      },
      "text/plain": [
       "分组处理:   0%|          | 0/14 [00:00<?, ?it/s]"
      ]
     },
     "metadata": {},
     "output_type": "display_data"
    },
    {
     "data": {
      "application/vnd.jupyter.widget-view+json": {
       "model_id": "be1335cda07044e5901ec1ce3ebea876",
       "version_major": 2,
       "version_minor": 0
      },
      "text/plain": [
       "轨迹生成:   0%|          | 0/255 [00:00<?, ?it/s]"
      ]
     },
     "metadata": {},
     "output_type": "display_data"
    },
    {
     "data": {
      "application/vnd.jupyter.widget-view+json": {
       "model_id": "d2afdfdf82884b54b67fb9f7d340bf2a",
       "version_major": 2,
       "version_minor": 0
      },
      "text/plain": [
       "轨迹生成:   0%|          | 0/255 [00:00<?, ?it/s]"
      ]
     },
     "metadata": {},
     "output_type": "display_data"
    },
    {
     "data": {
      "application/vnd.jupyter.widget-view+json": {
       "model_id": "9c129161e64e422cad2f57d9d9207d51",
       "version_major": 2,
       "version_minor": 0
      },
      "text/plain": [
       "轨迹生成:   0%|          | 0/255 [00:00<?, ?it/s]"
      ]
     },
     "metadata": {},
     "output_type": "display_data"
    },
    {
     "data": {
      "application/vnd.jupyter.widget-view+json": {
       "model_id": "ffdb7bb62c5c476589839a200f01d81b",
       "version_major": 2,
       "version_minor": 0
      },
      "text/plain": [
       "轨迹生成:   0%|          | 0/255 [00:00<?, ?it/s]"
      ]
     },
     "metadata": {},
     "output_type": "display_data"
    },
    {
     "data": {
      "application/vnd.jupyter.widget-view+json": {
       "model_id": "3cfb46ed76204925ad873d466320f9b5",
       "version_major": 2,
       "version_minor": 0
      },
      "text/plain": [
       "轨迹生成:   0%|          | 0/255 [00:00<?, ?it/s]"
      ]
     },
     "metadata": {},
     "output_type": "display_data"
    },
    {
     "data": {
      "application/vnd.jupyter.widget-view+json": {
       "model_id": "cdc05f946729404e92ce88c5f160d35e",
       "version_major": 2,
       "version_minor": 0
      },
      "text/plain": [
       "轨迹生成:   0%|          | 0/255 [00:00<?, ?it/s]"
      ]
     },
     "metadata": {},
     "output_type": "display_data"
    },
    {
     "data": {
      "application/vnd.jupyter.widget-view+json": {
       "model_id": "418466f7fe154d1c90a584d717264b7f",
       "version_major": 2,
       "version_minor": 0
      },
      "text/plain": [
       "轨迹生成:   0%|          | 0/255 [00:00<?, ?it/s]"
      ]
     },
     "metadata": {},
     "output_type": "display_data"
    },
    {
     "data": {
      "application/vnd.jupyter.widget-view+json": {
       "model_id": "966ae54389d4433b84d9335076c8e58e",
       "version_major": 2,
       "version_minor": 0
      },
      "text/plain": [
       "轨迹生成:   0%|          | 0/255 [00:00<?, ?it/s]"
      ]
     },
     "metadata": {},
     "output_type": "display_data"
    },
    {
     "data": {
      "application/vnd.jupyter.widget-view+json": {
       "model_id": "072a305b2be54c5f963e61f6faa0cec0",
       "version_major": 2,
       "version_minor": 0
      },
      "text/plain": [
       "轨迹生成:   0%|          | 0/255 [00:00<?, ?it/s]"
      ]
     },
     "metadata": {},
     "output_type": "display_data"
    },
    {
     "data": {
      "application/vnd.jupyter.widget-view+json": {
       "model_id": "fbde86205c2348e39dcc4edc4b64cf7c",
       "version_major": 2,
       "version_minor": 0
      },
      "text/plain": [
       "轨迹生成:   0%|          | 0/255 [00:00<?, ?it/s]"
      ]
     },
     "metadata": {},
     "output_type": "display_data"
    },
    {
     "data": {
      "application/vnd.jupyter.widget-view+json": {
       "model_id": "5fbe7a34198349fda104ac36429b5da2",
       "version_major": 2,
       "version_minor": 0
      },
      "text/plain": [
       "轨迹生成:   0%|          | 0/255 [00:00<?, ?it/s]"
      ]
     },
     "metadata": {},
     "output_type": "display_data"
    },
    {
     "data": {
      "application/vnd.jupyter.widget-view+json": {
       "model_id": "5b2bc9d8c9ae4b578d31bcce78a56b86",
       "version_major": 2,
       "version_minor": 0
      },
      "text/plain": [
       "轨迹生成:   0%|          | 0/255 [00:00<?, ?it/s]"
      ]
     },
     "metadata": {},
     "output_type": "display_data"
    },
    {
     "data": {
      "application/vnd.jupyter.widget-view+json": {
       "model_id": "7b85d72351ac43eb9323aa77af59ff7f",
       "version_major": 2,
       "version_minor": 0
      },
      "text/plain": [
       "轨迹生成:   0%|          | 0/255 [00:00<?, ?it/s]"
      ]
     },
     "metadata": {},
     "output_type": "display_data"
    },
    {
     "data": {
      "application/vnd.jupyter.widget-view+json": {
       "model_id": "32b42b0fb3bb4f3a88135ea97f03fadc",
       "version_major": 2,
       "version_minor": 0
      },
      "text/plain": [
       "轨迹生成:   0%|          | 0/255 [00:00<?, ?it/s]"
      ]
     },
     "metadata": {},
     "output_type": "display_data"
    },
    {
     "name": "stdout",
     "output_type": "stream",
     "text": [
      "\n",
      "✅ 12-7 完成 | 共生成 3570 张轨迹图\n"
     ]
    },
    {
     "data": {
      "application/vnd.jupyter.widget-view+json": {
       "model_id": "6788879013db4b0c804b7c157097a6e8",
       "version_major": 2,
       "version_minor": 0
      },
      "text/plain": [
       "分组处理:   0%|          | 0/15 [00:00<?, ?it/s]"
      ]
     },
     "metadata": {},
     "output_type": "display_data"
    },
    {
     "data": {
      "application/vnd.jupyter.widget-view+json": {
       "model_id": "6ae3a6b5a7c146e9870b89274367a89e",
       "version_major": 2,
       "version_minor": 0
      },
      "text/plain": [
       "轨迹生成:   0%|          | 0/255 [00:00<?, ?it/s]"
      ]
     },
     "metadata": {},
     "output_type": "display_data"
    },
    {
     "data": {
      "application/vnd.jupyter.widget-view+json": {
       "model_id": "4d68924a6d3a43519456fca42652d63a",
       "version_major": 2,
       "version_minor": 0
      },
      "text/plain": [
       "轨迹生成:   0%|          | 0/255 [00:00<?, ?it/s]"
      ]
     },
     "metadata": {},
     "output_type": "display_data"
    },
    {
     "data": {
      "application/vnd.jupyter.widget-view+json": {
       "model_id": "5e8a8b0e022648279e7f17f91373cdb9",
       "version_major": 2,
       "version_minor": 0
      },
      "text/plain": [
       "轨迹生成:   0%|          | 0/255 [00:00<?, ?it/s]"
      ]
     },
     "metadata": {},
     "output_type": "display_data"
    },
    {
     "data": {
      "application/vnd.jupyter.widget-view+json": {
       "model_id": "c10a419e0fb74883ab26d405b2832fd9",
       "version_major": 2,
       "version_minor": 0
      },
      "text/plain": [
       "轨迹生成:   0%|          | 0/255 [00:00<?, ?it/s]"
      ]
     },
     "metadata": {},
     "output_type": "display_data"
    },
    {
     "data": {
      "application/vnd.jupyter.widget-view+json": {
       "model_id": "6e297cc1939648228d94cedee8119dda",
       "version_major": 2,
       "version_minor": 0
      },
      "text/plain": [
       "轨迹生成:   0%|          | 0/255 [00:00<?, ?it/s]"
      ]
     },
     "metadata": {},
     "output_type": "display_data"
    },
    {
     "data": {
      "application/vnd.jupyter.widget-view+json": {
       "model_id": "dd8d6d9c8a8842fb81eb4c6034e86685",
       "version_major": 2,
       "version_minor": 0
      },
      "text/plain": [
       "轨迹生成:   0%|          | 0/255 [00:00<?, ?it/s]"
      ]
     },
     "metadata": {},
     "output_type": "display_data"
    },
    {
     "data": {
      "application/vnd.jupyter.widget-view+json": {
       "model_id": "473f95de87a748388862659b597e8c73",
       "version_major": 2,
       "version_minor": 0
      },
      "text/plain": [
       "轨迹生成:   0%|          | 0/255 [00:00<?, ?it/s]"
      ]
     },
     "metadata": {},
     "output_type": "display_data"
    },
    {
     "data": {
      "application/vnd.jupyter.widget-view+json": {
       "model_id": "51125936873a474ea3de89d772c347d8",
       "version_major": 2,
       "version_minor": 0
      },
      "text/plain": [
       "轨迹生成:   0%|          | 0/255 [00:00<?, ?it/s]"
      ]
     },
     "metadata": {},
     "output_type": "display_data"
    },
    {
     "data": {
      "application/vnd.jupyter.widget-view+json": {
       "model_id": "f4f42963a77a42bc81cf04c62bfea636",
       "version_major": 2,
       "version_minor": 0
      },
      "text/plain": [
       "轨迹生成:   0%|          | 0/255 [00:00<?, ?it/s]"
      ]
     },
     "metadata": {},
     "output_type": "display_data"
    },
    {
     "data": {
      "application/vnd.jupyter.widget-view+json": {
       "model_id": "dcc3c5abff5b4aa9aa8cc6faaaac33f7",
       "version_major": 2,
       "version_minor": 0
      },
      "text/plain": [
       "轨迹生成:   0%|          | 0/255 [00:00<?, ?it/s]"
      ]
     },
     "metadata": {},
     "output_type": "display_data"
    },
    {
     "data": {
      "application/vnd.jupyter.widget-view+json": {
       "model_id": "1d49466374444c33aa15276567a8716a",
       "version_major": 2,
       "version_minor": 0
      },
      "text/plain": [
       "轨迹生成:   0%|          | 0/255 [00:00<?, ?it/s]"
      ]
     },
     "metadata": {},
     "output_type": "display_data"
    },
    {
     "data": {
      "application/vnd.jupyter.widget-view+json": {
       "model_id": "6ad258ac1ae1419388e6e193862fe1ad",
       "version_major": 2,
       "version_minor": 0
      },
      "text/plain": [
       "轨迹生成:   0%|          | 0/255 [00:00<?, ?it/s]"
      ]
     },
     "metadata": {},
     "output_type": "display_data"
    },
    {
     "data": {
      "application/vnd.jupyter.widget-view+json": {
       "model_id": "229fb217c1b7453bb1411a613789a3c0",
       "version_major": 2,
       "version_minor": 0
      },
      "text/plain": [
       "轨迹生成:   0%|          | 0/255 [00:00<?, ?it/s]"
      ]
     },
     "metadata": {},
     "output_type": "display_data"
    },
    {
     "data": {
      "application/vnd.jupyter.widget-view+json": {
       "model_id": "fd3e054cbdd44c519e19057de7b8107a",
       "version_major": 2,
       "version_minor": 0
      },
      "text/plain": [
       "轨迹生成:   0%|          | 0/255 [00:00<?, ?it/s]"
      ]
     },
     "metadata": {},
     "output_type": "display_data"
    },
    {
     "data": {
      "application/vnd.jupyter.widget-view+json": {
       "model_id": "c855c0038aea4ac1b306d026163ec4b0",
       "version_major": 2,
       "version_minor": 0
      },
      "text/plain": [
       "轨迹生成:   0%|          | 0/255 [00:00<?, ?it/s]"
      ]
     },
     "metadata": {},
     "output_type": "display_data"
    },
    {
     "name": "stdout",
     "output_type": "stream",
     "text": [
      "\n",
      "✅ 13-14 完成 | 共生成 3825 张轨迹图\n"
     ]
    },
    {
     "data": {
      "application/vnd.jupyter.widget-view+json": {
       "model_id": "5c162cfc84cd46a4acb30e0494a4a33b",
       "version_major": 2,
       "version_minor": 0
      },
      "text/plain": [
       "分组处理:   0%|          | 0/7 [00:00<?, ?it/s]"
      ]
     },
     "metadata": {},
     "output_type": "display_data"
    },
    {
     "data": {
      "application/vnd.jupyter.widget-view+json": {
       "model_id": "26a60ea6a07146a686ac6f465e2aadb8",
       "version_major": 2,
       "version_minor": 0
      },
      "text/plain": [
       "轨迹生成:   0%|          | 0/255 [00:00<?, ?it/s]"
      ]
     },
     "metadata": {},
     "output_type": "display_data"
    },
    {
     "data": {
      "application/vnd.jupyter.widget-view+json": {
       "model_id": "245b34bf1a6841ca89c060efeeeaedf2",
       "version_major": 2,
       "version_minor": 0
      },
      "text/plain": [
       "轨迹生成:   0%|          | 0/255 [00:00<?, ?it/s]"
      ]
     },
     "metadata": {},
     "output_type": "display_data"
    },
    {
     "data": {
      "application/vnd.jupyter.widget-view+json": {
       "model_id": "eac73922ec644176931c57f10fe7650e",
       "version_major": 2,
       "version_minor": 0
      },
      "text/plain": [
       "轨迹生成:   0%|          | 0/255 [00:00<?, ?it/s]"
      ]
     },
     "metadata": {},
     "output_type": "display_data"
    },
    {
     "data": {
      "application/vnd.jupyter.widget-view+json": {
       "model_id": "5b650ebe3a214f1885cc954449bb1379",
       "version_major": 2,
       "version_minor": 0
      },
      "text/plain": [
       "轨迹生成:   0%|          | 0/255 [00:00<?, ?it/s]"
      ]
     },
     "metadata": {},
     "output_type": "display_data"
    },
    {
     "data": {
      "application/vnd.jupyter.widget-view+json": {
       "model_id": "4ccc357c6fc74ab4afe05228e44f82c1",
       "version_major": 2,
       "version_minor": 0
      },
      "text/plain": [
       "轨迹生成:   0%|          | 0/255 [00:00<?, ?it/s]"
      ]
     },
     "metadata": {},
     "output_type": "display_data"
    },
    {
     "data": {
      "application/vnd.jupyter.widget-view+json": {
       "model_id": "ad772422bb3f4b419b1be38e8bebbece",
       "version_major": 2,
       "version_minor": 0
      },
      "text/plain": [
       "轨迹生成:   0%|          | 0/255 [00:00<?, ?it/s]"
      ]
     },
     "metadata": {},
     "output_type": "display_data"
    },
    {
     "data": {
      "application/vnd.jupyter.widget-view+json": {
       "model_id": "8d48f323ef7d4c1f9fe59b5b4c9bbbe9",
       "version_major": 2,
       "version_minor": 0
      },
      "text/plain": [
       "轨迹生成:   0%|          | 0/255 [00:00<?, ?it/s]"
      ]
     },
     "metadata": {},
     "output_type": "display_data"
    },
    {
     "name": "stdout",
     "output_type": "stream",
     "text": [
      "\n",
      "✅ 13-18 完成 | 共生成 1785 张轨迹图\n"
     ]
    },
    {
     "data": {
      "application/vnd.jupyter.widget-view+json": {
       "model_id": "e731648332b14926abd6da51ee97b466",
       "version_major": 2,
       "version_minor": 0
      },
      "text/plain": [
       "当前批次:   0%|          | 0/10 [00:00<?, ?it/s]"
      ]
     },
     "metadata": {},
     "output_type": "display_data"
    },
    {
     "data": {
      "application/vnd.jupyter.widget-view+json": {
       "model_id": "1d48c1341b7647e4957b2e902e071ff9",
       "version_major": 2,
       "version_minor": 0
      },
      "text/plain": [
       "分组处理:   0%|          | 0/15 [00:00<?, ?it/s]"
      ]
     },
     "metadata": {},
     "output_type": "display_data"
    },
    {
     "data": {
      "application/vnd.jupyter.widget-view+json": {
       "model_id": "41ba85c9a8a6404ea3356df4d4501076",
       "version_major": 2,
       "version_minor": 0
      },
      "text/plain": [
       "轨迹生成:   0%|          | 0/255 [00:00<?, ?it/s]"
      ]
     },
     "metadata": {},
     "output_type": "display_data"
    },
    {
     "data": {
      "application/vnd.jupyter.widget-view+json": {
       "model_id": "18313b1feca04caaa9018556c8b9c032",
       "version_major": 2,
       "version_minor": 0
      },
      "text/plain": [
       "轨迹生成:   0%|          | 0/255 [00:00<?, ?it/s]"
      ]
     },
     "metadata": {},
     "output_type": "display_data"
    },
    {
     "data": {
      "application/vnd.jupyter.widget-view+json": {
       "model_id": "940048f09fa443388fba00f3871ba26f",
       "version_major": 2,
       "version_minor": 0
      },
      "text/plain": [
       "轨迹生成:   0%|          | 0/255 [00:00<?, ?it/s]"
      ]
     },
     "metadata": {},
     "output_type": "display_data"
    },
    {
     "data": {
      "application/vnd.jupyter.widget-view+json": {
       "model_id": "0f0fc2cd1a544c86a0663a8cba24ee7a",
       "version_major": 2,
       "version_minor": 0
      },
      "text/plain": [
       "轨迹生成:   0%|          | 0/255 [00:00<?, ?it/s]"
      ]
     },
     "metadata": {},
     "output_type": "display_data"
    },
    {
     "data": {
      "application/vnd.jupyter.widget-view+json": {
       "model_id": "97921497ae95473abe4f7593fe8943ce",
       "version_major": 2,
       "version_minor": 0
      },
      "text/plain": [
       "轨迹生成:   0%|          | 0/255 [00:00<?, ?it/s]"
      ]
     },
     "metadata": {},
     "output_type": "display_data"
    },
    {
     "data": {
      "application/vnd.jupyter.widget-view+json": {
       "model_id": "6a8254a624d84f9f9678c1d8c0fade21",
       "version_major": 2,
       "version_minor": 0
      },
      "text/plain": [
       "轨迹生成:   0%|          | 0/255 [00:00<?, ?it/s]"
      ]
     },
     "metadata": {},
     "output_type": "display_data"
    },
    {
     "data": {
      "application/vnd.jupyter.widget-view+json": {
       "model_id": "e15c7899620a4515a63b775862bcf9c7",
       "version_major": 2,
       "version_minor": 0
      },
      "text/plain": [
       "轨迹生成:   0%|          | 0/255 [00:00<?, ?it/s]"
      ]
     },
     "metadata": {},
     "output_type": "display_data"
    },
    {
     "data": {
      "application/vnd.jupyter.widget-view+json": {
       "model_id": "b09cd97f142649c9b7ded4ecb2905bc8",
       "version_major": 2,
       "version_minor": 0
      },
      "text/plain": [
       "轨迹生成:   0%|          | 0/255 [00:00<?, ?it/s]"
      ]
     },
     "metadata": {},
     "output_type": "display_data"
    },
    {
     "data": {
      "application/vnd.jupyter.widget-view+json": {
       "model_id": "a4beead5cb9043ffa10d596c6c75bd8e",
       "version_major": 2,
       "version_minor": 0
      },
      "text/plain": [
       "轨迹生成:   0%|          | 0/255 [00:00<?, ?it/s]"
      ]
     },
     "metadata": {},
     "output_type": "display_data"
    },
    {
     "data": {
      "application/vnd.jupyter.widget-view+json": {
       "model_id": "704b4a0fba474751b7ccd3f5aa896c11",
       "version_major": 2,
       "version_minor": 0
      },
      "text/plain": [
       "轨迹生成:   0%|          | 0/255 [00:00<?, ?it/s]"
      ]
     },
     "metadata": {},
     "output_type": "display_data"
    },
    {
     "data": {
      "application/vnd.jupyter.widget-view+json": {
       "model_id": "4442204130324af79a433114b9274079",
       "version_major": 2,
       "version_minor": 0
      },
      "text/plain": [
       "轨迹生成:   0%|          | 0/255 [00:00<?, ?it/s]"
      ]
     },
     "metadata": {},
     "output_type": "display_data"
    },
    {
     "data": {
      "application/vnd.jupyter.widget-view+json": {
       "model_id": "874b5a25e8c840b2b74e26b2cac01f84",
       "version_major": 2,
       "version_minor": 0
      },
      "text/plain": [
       "轨迹生成:   0%|          | 0/255 [00:00<?, ?it/s]"
      ]
     },
     "metadata": {},
     "output_type": "display_data"
    },
    {
     "data": {
      "application/vnd.jupyter.widget-view+json": {
       "model_id": "b1a0b242d6d0490b823ba500c9afd14f",
       "version_major": 2,
       "version_minor": 0
      },
      "text/plain": [
       "轨迹生成:   0%|          | 0/255 [00:00<?, ?it/s]"
      ]
     },
     "metadata": {},
     "output_type": "display_data"
    },
    {
     "data": {
      "application/vnd.jupyter.widget-view+json": {
       "model_id": "64a80d02e0ce480ab984cb1e471c35d2",
       "version_major": 2,
       "version_minor": 0
      },
      "text/plain": [
       "轨迹生成:   0%|          | 0/255 [00:00<?, ?it/s]"
      ]
     },
     "metadata": {},
     "output_type": "display_data"
    },
    {
     "data": {
      "application/vnd.jupyter.widget-view+json": {
       "model_id": "d83bd37cab03438c87f17d2ab9673750",
       "version_major": 2,
       "version_minor": 0
      },
      "text/plain": [
       "轨迹生成:   0%|          | 0/255 [00:00<?, ?it/s]"
      ]
     },
     "metadata": {},
     "output_type": "display_data"
    },
    {
     "name": "stdout",
     "output_type": "stream",
     "text": [
      "\n",
      "✅ 13-19 完成 | 共生成 3825 张轨迹图\n"
     ]
    },
    {
     "data": {
      "application/vnd.jupyter.widget-view+json": {
       "model_id": "b9101404fca5436188a9a2cab539a783",
       "version_major": 2,
       "version_minor": 0
      },
      "text/plain": [
       "分组处理:   0%|          | 0/13 [00:00<?, ?it/s]"
      ]
     },
     "metadata": {},
     "output_type": "display_data"
    },
    {
     "data": {
      "application/vnd.jupyter.widget-view+json": {
       "model_id": "5cdfc79d6d4549678b87bd03c071ab1d",
       "version_major": 2,
       "version_minor": 0
      },
      "text/plain": [
       "轨迹生成:   0%|          | 0/255 [00:00<?, ?it/s]"
      ]
     },
     "metadata": {},
     "output_type": "display_data"
    },
    {
     "data": {
      "application/vnd.jupyter.widget-view+json": {
       "model_id": "8a0213124f09450584bec6d5ba388469",
       "version_major": 2,
       "version_minor": 0
      },
      "text/plain": [
       "轨迹生成:   0%|          | 0/255 [00:00<?, ?it/s]"
      ]
     },
     "metadata": {},
     "output_type": "display_data"
    },
    {
     "data": {
      "application/vnd.jupyter.widget-view+json": {
       "model_id": "b9309908758f47b9860755a45cb79879",
       "version_major": 2,
       "version_minor": 0
      },
      "text/plain": [
       "轨迹生成:   0%|          | 0/255 [00:00<?, ?it/s]"
      ]
     },
     "metadata": {},
     "output_type": "display_data"
    },
    {
     "data": {
      "application/vnd.jupyter.widget-view+json": {
       "model_id": "b295fff0f6a8443a8e49136f35378c57",
       "version_major": 2,
       "version_minor": 0
      },
      "text/plain": [
       "轨迹生成:   0%|          | 0/255 [00:00<?, ?it/s]"
      ]
     },
     "metadata": {},
     "output_type": "display_data"
    },
    {
     "data": {
      "application/vnd.jupyter.widget-view+json": {
       "model_id": "3bcabe5e4efb46e1a071f5a90772799e",
       "version_major": 2,
       "version_minor": 0
      },
      "text/plain": [
       "轨迹生成:   0%|          | 0/255 [00:00<?, ?it/s]"
      ]
     },
     "metadata": {},
     "output_type": "display_data"
    },
    {
     "data": {
      "application/vnd.jupyter.widget-view+json": {
       "model_id": "a75b0bdb26204046bbb79d12232491fc",
       "version_major": 2,
       "version_minor": 0
      },
      "text/plain": [
       "轨迹生成:   0%|          | 0/255 [00:00<?, ?it/s]"
      ]
     },
     "metadata": {},
     "output_type": "display_data"
    },
    {
     "data": {
      "application/vnd.jupyter.widget-view+json": {
       "model_id": "f244341ab6ca40c1bef7b189b466fc93",
       "version_major": 2,
       "version_minor": 0
      },
      "text/plain": [
       "轨迹生成:   0%|          | 0/255 [00:00<?, ?it/s]"
      ]
     },
     "metadata": {},
     "output_type": "display_data"
    },
    {
     "data": {
      "application/vnd.jupyter.widget-view+json": {
       "model_id": "e08f28077e6841edbbff2671dde9ec56",
       "version_major": 2,
       "version_minor": 0
      },
      "text/plain": [
       "轨迹生成:   0%|          | 0/255 [00:00<?, ?it/s]"
      ]
     },
     "metadata": {},
     "output_type": "display_data"
    },
    {
     "data": {
      "application/vnd.jupyter.widget-view+json": {
       "model_id": "63d2813c4e414e1b97f2fbd246293d13",
       "version_major": 2,
       "version_minor": 0
      },
      "text/plain": [
       "轨迹生成:   0%|          | 0/255 [00:00<?, ?it/s]"
      ]
     },
     "metadata": {},
     "output_type": "display_data"
    },
    {
     "data": {
      "application/vnd.jupyter.widget-view+json": {
       "model_id": "3849edc6516c4417a1ba76de3fc55477",
       "version_major": 2,
       "version_minor": 0
      },
      "text/plain": [
       "轨迹生成:   0%|          | 0/255 [00:00<?, ?it/s]"
      ]
     },
     "metadata": {},
     "output_type": "display_data"
    },
    {
     "data": {
      "application/vnd.jupyter.widget-view+json": {
       "model_id": "76d04e237ad14e94b9584293939c9ea5",
       "version_major": 2,
       "version_minor": 0
      },
      "text/plain": [
       "轨迹生成:   0%|          | 0/255 [00:00<?, ?it/s]"
      ]
     },
     "metadata": {},
     "output_type": "display_data"
    },
    {
     "data": {
      "application/vnd.jupyter.widget-view+json": {
       "model_id": "9783fddbe19142b6855200d37a60c70a",
       "version_major": 2,
       "version_minor": 0
      },
      "text/plain": [
       "轨迹生成:   0%|          | 0/255 [00:00<?, ?it/s]"
      ]
     },
     "metadata": {},
     "output_type": "display_data"
    },
    {
     "data": {
      "application/vnd.jupyter.widget-view+json": {
       "model_id": "2bce3b15dfd248bb9babb347e4efb03a",
       "version_major": 2,
       "version_minor": 0
      },
      "text/plain": [
       "轨迹生成:   0%|          | 0/255 [00:00<?, ?it/s]"
      ]
     },
     "metadata": {},
     "output_type": "display_data"
    },
    {
     "name": "stdout",
     "output_type": "stream",
     "text": [
      "\n",
      "✅ 13-20 完成 | 共生成 3315 张轨迹图\n"
     ]
    },
    {
     "data": {
      "application/vnd.jupyter.widget-view+json": {
       "model_id": "5adbf2831aeb4e538d02c72a91d6d932",
       "version_major": 2,
       "version_minor": 0
      },
      "text/plain": [
       "分组处理:   0%|          | 0/14 [00:00<?, ?it/s]"
      ]
     },
     "metadata": {},
     "output_type": "display_data"
    },
    {
     "data": {
      "application/vnd.jupyter.widget-view+json": {
       "model_id": "7b4d426e61ec436aa99c6238ecbeded1",
       "version_major": 2,
       "version_minor": 0
      },
      "text/plain": [
       "轨迹生成:   0%|          | 0/255 [00:00<?, ?it/s]"
      ]
     },
     "metadata": {},
     "output_type": "display_data"
    },
    {
     "data": {
      "application/vnd.jupyter.widget-view+json": {
       "model_id": "6b0d187550ca4677a8f84a68625175ce",
       "version_major": 2,
       "version_minor": 0
      },
      "text/plain": [
       "轨迹生成:   0%|          | 0/255 [00:00<?, ?it/s]"
      ]
     },
     "metadata": {},
     "output_type": "display_data"
    },
    {
     "data": {
      "application/vnd.jupyter.widget-view+json": {
       "model_id": "dd1f983987eb4f02b8775cd52ac74e06",
       "version_major": 2,
       "version_minor": 0
      },
      "text/plain": [
       "轨迹生成:   0%|          | 0/255 [00:00<?, ?it/s]"
      ]
     },
     "metadata": {},
     "output_type": "display_data"
    },
    {
     "data": {
      "application/vnd.jupyter.widget-view+json": {
       "model_id": "378d988979a44e70bdcd97c6556de002",
       "version_major": 2,
       "version_minor": 0
      },
      "text/plain": [
       "轨迹生成:   0%|          | 0/255 [00:00<?, ?it/s]"
      ]
     },
     "metadata": {},
     "output_type": "display_data"
    },
    {
     "data": {
      "application/vnd.jupyter.widget-view+json": {
       "model_id": "f0796258e3274438b9402a540409e9ae",
       "version_major": 2,
       "version_minor": 0
      },
      "text/plain": [
       "轨迹生成:   0%|          | 0/255 [00:00<?, ?it/s]"
      ]
     },
     "metadata": {},
     "output_type": "display_data"
    },
    {
     "data": {
      "application/vnd.jupyter.widget-view+json": {
       "model_id": "9786aedc12054005ac6dedc8edfdeff2",
       "version_major": 2,
       "version_minor": 0
      },
      "text/plain": [
       "轨迹生成:   0%|          | 0/255 [00:00<?, ?it/s]"
      ]
     },
     "metadata": {},
     "output_type": "display_data"
    },
    {
     "data": {
      "application/vnd.jupyter.widget-view+json": {
       "model_id": "88e102e763294811ad9b163e2191dfcb",
       "version_major": 2,
       "version_minor": 0
      },
      "text/plain": [
       "轨迹生成:   0%|          | 0/255 [00:00<?, ?it/s]"
      ]
     },
     "metadata": {},
     "output_type": "display_data"
    },
    {
     "data": {
      "application/vnd.jupyter.widget-view+json": {
       "model_id": "07010d3fa09c4a5ab5c138ca528f6172",
       "version_major": 2,
       "version_minor": 0
      },
      "text/plain": [
       "轨迹生成:   0%|          | 0/255 [00:00<?, ?it/s]"
      ]
     },
     "metadata": {},
     "output_type": "display_data"
    },
    {
     "data": {
      "application/vnd.jupyter.widget-view+json": {
       "model_id": "a3ce38bedf954e8e81c2e684b5b3ba57",
       "version_major": 2,
       "version_minor": 0
      },
      "text/plain": [
       "轨迹生成:   0%|          | 0/255 [00:00<?, ?it/s]"
      ]
     },
     "metadata": {},
     "output_type": "display_data"
    },
    {
     "data": {
      "application/vnd.jupyter.widget-view+json": {
       "model_id": "d696ff89cdf94dfc93b0fe1ff7045905",
       "version_major": 2,
       "version_minor": 0
      },
      "text/plain": [
       "轨迹生成:   0%|          | 0/255 [00:00<?, ?it/s]"
      ]
     },
     "metadata": {},
     "output_type": "display_data"
    },
    {
     "data": {
      "application/vnd.jupyter.widget-view+json": {
       "model_id": "3d279429918848589674d1f8c945669a",
       "version_major": 2,
       "version_minor": 0
      },
      "text/plain": [
       "轨迹生成:   0%|          | 0/255 [00:00<?, ?it/s]"
      ]
     },
     "metadata": {},
     "output_type": "display_data"
    },
    {
     "data": {
      "application/vnd.jupyter.widget-view+json": {
       "model_id": "dc119e2aa8e44f228c7dbaf0beb0baec",
       "version_major": 2,
       "version_minor": 0
      },
      "text/plain": [
       "轨迹生成:   0%|          | 0/255 [00:00<?, ?it/s]"
      ]
     },
     "metadata": {},
     "output_type": "display_data"
    },
    {
     "data": {
      "application/vnd.jupyter.widget-view+json": {
       "model_id": "5c2d597375a84ce9882d7ad0d1c48d9c",
       "version_major": 2,
       "version_minor": 0
      },
      "text/plain": [
       "轨迹生成:   0%|          | 0/255 [00:00<?, ?it/s]"
      ]
     },
     "metadata": {},
     "output_type": "display_data"
    },
    {
     "data": {
      "application/vnd.jupyter.widget-view+json": {
       "model_id": "61751756675b46bba429fbe036a493e2",
       "version_major": 2,
       "version_minor": 0
      },
      "text/plain": [
       "轨迹生成:   0%|          | 0/255 [00:00<?, ?it/s]"
      ]
     },
     "metadata": {},
     "output_type": "display_data"
    },
    {
     "name": "stdout",
     "output_type": "stream",
     "text": [
      "\n",
      "✅ 13-3 完成 | 共生成 3570 张轨迹图\n"
     ]
    },
    {
     "data": {
      "application/vnd.jupyter.widget-view+json": {
       "model_id": "2e0d8c539093422289845a72e83674ac",
       "version_major": 2,
       "version_minor": 0
      },
      "text/plain": [
       "分组处理:   0%|          | 0/13 [00:00<?, ?it/s]"
      ]
     },
     "metadata": {},
     "output_type": "display_data"
    },
    {
     "data": {
      "application/vnd.jupyter.widget-view+json": {
       "model_id": "eb0b38c874864ea788d77c004b362058",
       "version_major": 2,
       "version_minor": 0
      },
      "text/plain": [
       "轨迹生成:   0%|          | 0/255 [00:00<?, ?it/s]"
      ]
     },
     "metadata": {},
     "output_type": "display_data"
    },
    {
     "data": {
      "application/vnd.jupyter.widget-view+json": {
       "model_id": "c0e460acd8894b21bccf236448910d3c",
       "version_major": 2,
       "version_minor": 0
      },
      "text/plain": [
       "轨迹生成:   0%|          | 0/255 [00:00<?, ?it/s]"
      ]
     },
     "metadata": {},
     "output_type": "display_data"
    },
    {
     "data": {
      "application/vnd.jupyter.widget-view+json": {
       "model_id": "bba9489654244b0ea7a6c402bac273e7",
       "version_major": 2,
       "version_minor": 0
      },
      "text/plain": [
       "轨迹生成:   0%|          | 0/255 [00:00<?, ?it/s]"
      ]
     },
     "metadata": {},
     "output_type": "display_data"
    },
    {
     "data": {
      "application/vnd.jupyter.widget-view+json": {
       "model_id": "78e87d3f09dd44f0b71c535f2e8c5e3c",
       "version_major": 2,
       "version_minor": 0
      },
      "text/plain": [
       "轨迹生成:   0%|          | 0/255 [00:00<?, ?it/s]"
      ]
     },
     "metadata": {},
     "output_type": "display_data"
    },
    {
     "data": {
      "application/vnd.jupyter.widget-view+json": {
       "model_id": "5a5107de59984229a547bd8bcaa847b8",
       "version_major": 2,
       "version_minor": 0
      },
      "text/plain": [
       "轨迹生成:   0%|          | 0/255 [00:00<?, ?it/s]"
      ]
     },
     "metadata": {},
     "output_type": "display_data"
    },
    {
     "data": {
      "application/vnd.jupyter.widget-view+json": {
       "model_id": "0a57f424c23a4fda91c3a510b2771ea9",
       "version_major": 2,
       "version_minor": 0
      },
      "text/plain": [
       "轨迹生成:   0%|          | 0/255 [00:00<?, ?it/s]"
      ]
     },
     "metadata": {},
     "output_type": "display_data"
    },
    {
     "data": {
      "application/vnd.jupyter.widget-view+json": {
       "model_id": "bb0c061d4b99445db4f8665bbdcb94da",
       "version_major": 2,
       "version_minor": 0
      },
      "text/plain": [
       "轨迹生成:   0%|          | 0/255 [00:00<?, ?it/s]"
      ]
     },
     "metadata": {},
     "output_type": "display_data"
    },
    {
     "data": {
      "application/vnd.jupyter.widget-view+json": {
       "model_id": "e7876547413b464094e8ea862115a290",
       "version_major": 2,
       "version_minor": 0
      },
      "text/plain": [
       "轨迹生成:   0%|          | 0/255 [00:00<?, ?it/s]"
      ]
     },
     "metadata": {},
     "output_type": "display_data"
    },
    {
     "data": {
      "application/vnd.jupyter.widget-view+json": {
       "model_id": "cb24058ae86a46c48e76b7a49f1aee14",
       "version_major": 2,
       "version_minor": 0
      },
      "text/plain": [
       "轨迹生成:   0%|          | 0/255 [00:00<?, ?it/s]"
      ]
     },
     "metadata": {},
     "output_type": "display_data"
    },
    {
     "data": {
      "application/vnd.jupyter.widget-view+json": {
       "model_id": "60b97bd442214102ae6748295c99851d",
       "version_major": 2,
       "version_minor": 0
      },
      "text/plain": [
       "轨迹生成:   0%|          | 0/255 [00:00<?, ?it/s]"
      ]
     },
     "metadata": {},
     "output_type": "display_data"
    },
    {
     "data": {
      "application/vnd.jupyter.widget-view+json": {
       "model_id": "3dcc94e6756f477fb5860be7c545501d",
       "version_major": 2,
       "version_minor": 0
      },
      "text/plain": [
       "轨迹生成:   0%|          | 0/255 [00:00<?, ?it/s]"
      ]
     },
     "metadata": {},
     "output_type": "display_data"
    },
    {
     "data": {
      "application/vnd.jupyter.widget-view+json": {
       "model_id": "56e2e018d9204d42bc8cd031abafa3d5",
       "version_major": 2,
       "version_minor": 0
      },
      "text/plain": [
       "轨迹生成:   0%|          | 0/255 [00:00<?, ?it/s]"
      ]
     },
     "metadata": {},
     "output_type": "display_data"
    },
    {
     "data": {
      "application/vnd.jupyter.widget-view+json": {
       "model_id": "84929cea05bf4d818074b471eef8122f",
       "version_major": 2,
       "version_minor": 0
      },
      "text/plain": [
       "轨迹生成:   0%|          | 0/255 [00:00<?, ?it/s]"
      ]
     },
     "metadata": {},
     "output_type": "display_data"
    },
    {
     "name": "stdout",
     "output_type": "stream",
     "text": [
      "\n",
      "✅ 13-7 完成 | 共生成 3315 张轨迹图\n"
     ]
    },
    {
     "data": {
      "application/vnd.jupyter.widget-view+json": {
       "model_id": "9cf8ceba40314c3ebd0dfb4c304308a2",
       "version_major": 2,
       "version_minor": 0
      },
      "text/plain": [
       "分组处理:   0%|          | 0/15 [00:00<?, ?it/s]"
      ]
     },
     "metadata": {},
     "output_type": "display_data"
    },
    {
     "data": {
      "application/vnd.jupyter.widget-view+json": {
       "model_id": "b05764b6c9494349b5255231016f833e",
       "version_major": 2,
       "version_minor": 0
      },
      "text/plain": [
       "轨迹生成:   0%|          | 0/255 [00:00<?, ?it/s]"
      ]
     },
     "metadata": {},
     "output_type": "display_data"
    },
    {
     "data": {
      "application/vnd.jupyter.widget-view+json": {
       "model_id": "b8dab5ff2c9241a4919838cf2be86ee8",
       "version_major": 2,
       "version_minor": 0
      },
      "text/plain": [
       "轨迹生成:   0%|          | 0/255 [00:00<?, ?it/s]"
      ]
     },
     "metadata": {},
     "output_type": "display_data"
    },
    {
     "data": {
      "application/vnd.jupyter.widget-view+json": {
       "model_id": "5a5c13af24ba4640aa3d8fe65c37d52c",
       "version_major": 2,
       "version_minor": 0
      },
      "text/plain": [
       "轨迹生成:   0%|          | 0/255 [00:00<?, ?it/s]"
      ]
     },
     "metadata": {},
     "output_type": "display_data"
    },
    {
     "data": {
      "application/vnd.jupyter.widget-view+json": {
       "model_id": "d820e2cb7a89488183b439fc72ca0298",
       "version_major": 2,
       "version_minor": 0
      },
      "text/plain": [
       "轨迹生成:   0%|          | 0/255 [00:00<?, ?it/s]"
      ]
     },
     "metadata": {},
     "output_type": "display_data"
    }
   ],
   "source": [
    "# 创建长时序轨迹图\n",
    "\n",
    "# 生成差分星座图和轨迹图的函数\n",
    "def plot_diff_constellation(iq_complex, tx_id, group_id, output_folder, line_color='red', line_width=1.5, scatter_color='blue'):\n",
    "    # 计算差分星座符号\n",
    "    diff_symbols = iq_complex[1:] * np.conj(iq_complex[:-1])\n",
    "    \n",
    "    # 创建发射机文件夹，如果不存在\n",
    "    tx_folder = os.path.join(output_folder, str(tx_id))\n",
    "    if not os.path.exists(tx_folder):\n",
    "        os.makedirs(tx_folder)\n",
    "    \n",
    "    # 创建存放散点图和轨迹图的子文件夹\n",
    "    scatter_folder = os.path.join(tx_folder, 'scatter_plots')\n",
    "    trajectory_folder = os.path.join(tx_folder, 'trajectory_pos')\n",
    "    \n",
    "    if not os.path.exists(scatter_folder):\n",
    "        os.makedirs(scatter_folder)\n",
    "    if not os.path.exists(trajectory_folder):\n",
    "        os.makedirs(trajectory_folder)\n",
    "    \n",
    "    # 绘制差分星座散点图\n",
    "    plt.figure(figsize=(8, 8))\n",
    "    plt.scatter(np.real(diff_symbols), np.imag(diff_symbols), color=scatter_color, alpha=0.7)\n",
    "    plt.axhline(0, color='gray', linestyle='--', linewidth=0.5)  # 横轴\n",
    "    plt.axvline(0, color='gray', linestyle='--', linewidth=0.5)  # 纵轴\n",
    "    plt.xticks([])  # 去掉x轴刻度\n",
    "    plt.yticks([])  # 去掉y轴刻度\n",
    "    plt.grid(False)  # 关闭网格\n",
    "\n",
    "    # 保存差分星座散点图\n",
    "    scatter_file = os.path.join(scatter_folder, f'scatter_group_{group_id}.png')\n",
    "    plt.savefig(scatter_file)\n",
    "    plt.close()  # 保存后关闭，释放内存\n",
    "\n",
    "    # 绘制差分轨迹图\n",
    "    plt.figure(figsize=(8, 8))\n",
    "    plt.plot(np.real(diff_symbols), np.imag(diff_symbols), color=line_color, linewidth=line_width, alpha=0.7)\n",
    "    plt.axhline(0, color='gray', linestyle='--', linewidth=0.5)  # 横轴\n",
    "    plt.axvline(0, color='gray', linestyle='--', linewidth=0.5)  # 纵轴\n",
    "    plt.xticks([])  # 去掉x轴刻度\n",
    "    plt.yticks([])  # 去掉y轴刻度\n",
    "    plt.grid(False)  # 关闭网格\n",
    "\n",
    "    # 保存差分轨迹图\n",
    "    trajectory_file = os.path.join(trajectory_folder, f'trajectory_group_{group_id}.png')\n",
    "    plt.savefig(trajectory_file)\n",
    "    plt.close()  # 保存后关闭，释放内存\n",
    "\n",
    "# 将图像调整为 ResNet-18 输入格式\n",
    "def preprocess_image_for_resnet(image_path, target_size=(224, 224)):\n",
    "    # 读取图像\n",
    "    image = cv2.imread(image_path, cv2.IMREAD_GRAYSCALE)  # 以灰度图模式读取\n",
    "    image_resized = cv2.resize(image, target_size)  # 调整图像大小\n",
    "    \n",
    "    # 如果是灰度图，将其转换为三通道\n",
    "    image_rgb = cv2.cvtColor(image_resized, cv2.COLOR_GRAY2RGB)\n",
    "    \n",
    "    # 标准化：归一化到 [0, 1] 范围，并减去均值\n",
    "    image_normalized = image_rgb.astype(np.float32) / 255.0  # 将图像像素值归一化到 [0, 1]\n",
    "    \n",
    "    # ResNet-18 预处理的均值和标准差\n",
    "    mean = np.array([0.485, 0.456, 0.406])\n",
    "    std = np.array([0.229, 0.224, 0.225])\n",
    "    \n",
    "    # 减去均值并除以标准差进行标准化\n",
    "    image_normalized = (image_normalized - mean) / std\n",
    "    \n",
    "    return image_normalized\n",
    "\n",
    "# 生成差分星座图和轨迹图的函数（批次处理版），调整轨迹图连接逻辑\n",
    "def generate_diff_constellation_and_trajectory_batch(dataset, output_folder, batch_size=10, line_color='red', line_width=1.5):\n",
    "    # 初始化统计字典\n",
    "    tx_image_count = defaultdict(int)\n",
    "    \n",
    "    # 进度条设置\n",
    "    total_tx = len(dataset['node_list'])\n",
    "    main_pbar = tqdm(total=total_tx, desc=\"总进度\", position=0, dynamic_ncols=True)\n",
    "\n",
    "    for start_idx in range(0, total_tx, batch_size):\n",
    "        end_idx = min(start_idx + batch_size, total_tx)\n",
    "        batch_tx_ids = dataset['node_list'][start_idx:end_idx]\n",
    "        batch_data = dataset['data'][start_idx:end_idx]\n",
    "\n",
    "        batch_pbar = tqdm(zip(batch_tx_ids, batch_data), \n",
    "                        total=len(batch_tx_ids),\n",
    "                        desc=\"当前批次\",\n",
    "                        position=1,\n",
    "                        leave=False)\n",
    "\n",
    "        for tx_id, data in batch_pbar:\n",
    "            # 初始化当前TX计数器\n",
    "            current_count = 0\n",
    "            \n",
    "            # 更新进度描述\n",
    "            batch_pbar.set_postfix_str(f\"处理中: {tx_id.ljust(10)} | 已生成: {current_count} 图\")\n",
    "\n",
    "            # 创建文件夹\n",
    "            tx_folder = os.path.join(output_folder, str(tx_id))\n",
    "            trajectory_folder = os.path.join(tx_folder, 'trajectory_pos')\n",
    "            os.makedirs(trajectory_folder, exist_ok=True)\n",
    "\n",
    "            iq_data = data  # (N, 256, 2)\n",
    "            num_groups = iq_data.shape[0]\n",
    "\n",
    "            for batch_idx, batch in group_pbar:\n",
    "                position_trajectories = defaultdict(list)\n",
    "\n",
    "                # 收集数据\n",
    "                for group in batch:\n",
    "                    iq_complex = group[:, 0] + 1j * group[:, 1]\n",
    "                    diff_symbols = iq_complex[1:] * np.conj(iq_complex[:-1])\n",
    "                    \n",
    "                    for pos in range(len(diff_symbols)):\n",
    "                        position_trajectories[pos].append(diff_symbols[pos])\n",
    "\n",
    "                for pos, symbols in pos_pbar:\n",
    "                    # 生成并保存图像\n",
    "                    plt.figure(figsize=(8, 8))\n",
    "                    plt.plot(np.real(symbols), np.imag(symbols), \n",
    "                            color=line_color, linewidth=line_width, alpha=0.7)\n",
    "                    plt.axhline(0, color='gray', linestyle='--', linewidth=0.5)\n",
    "                    plt.axvline(0, color='gray', linestyle='--', linewidth=0.5)\n",
    "                    plt.xticks([])\n",
    "                    plt.yticks([])\n",
    "                    plt.grid(False)\n",
    "                    \n",
    "                    trajectory_file = os.path.join(\n",
    "                        trajectory_folder, \n",
    "                        f'trajectory_pos_{pos:03d}_batch_{batch_idx:03d}.png'\n",
    "                    )\n",
    "                    plt.savefig(trajectory_file)\n",
    "                    plt.close()\n",
    "                    \n",
    "                    # 更新计数器\n",
    "                    current_count += 1\n",
    "                    tx_image_count[tx_id] = current_count\n",
    "                    batch_pbar.set_postfix_str(f\"处理中: {tx_id.ljust(10)} | 已生成: {current_count} 图\")\n",
    "\n",
    "                pos_pbar.close()\n",
    "            group_pbar.close()\n",
    "\n",
    "            # 打印当前TX最终统计\n",
    "            print(f\"\\n✅ {tx_id} 完成 | 共生成 {current_count} 张轨迹图\")\n",
    "            main_pbar.update(1)\n",
    "            main_pbar.set_postfix_str(f\"最新完成: {tx_id}\")\n",
    "\n",
    "        batch_pbar.close()\n",
    "    \n",
    "    # 最终统计报告\n",
    "    print(\"\\n\" + \"=\"*50)\n",
    "    print(\"发射机图像生成统计报告：\")\n",
    "    for tx_id, count in tx_image_count.items():\n",
    "        print(f\"• {tx_id.ljust(15)}: {str(count).rjust(5)} 张\")\n",
    "    print(\"=\"*50)\n",
    "    \n",
    "    main_pbar.close()\n",
    "        \n",
    "# 使用示例：生成不同发射机的差分星座图和轨迹图\n",
    "output_folder = \"../../IQ_signal_plots\"  # 图像输出的根文件夹\n",
    "if not os.path.exists(output_folder):\n",
    "    os.makedirs(output_folder)\n",
    "\n",
    "line_color = 'blue'  # 设置轨迹图的线条颜色\n",
    "line_width = 2  # 设置轨迹图的线条宽度\n",
    "scatter_color = 'blue'  # 设置散点图的颜色\n",
    "\n",
    "# 调用批次处理函数生成图像并进行 ResNet 输入标准化\n",
    "generate_diff_constellation_and_trajectory_batch(dataset, output_folder, batch_size=10, line_color=line_color, line_width=line_width)\n"
   ]
  },
  {
   "cell_type": "code",
   "execution_count": 5,
   "metadata": {},
   "outputs": [
    {
     "name": "stdout",
     "output_type": "stream",
     "text": [
      "删除失败 ../../IQ_signal_plots\\1-1\\trajectory_pos\\trajectory_pos_176_batch_001.png: [WinError 32] 另一个程序正在使用此文件，进程无法访问。: '../../IQ_signal_plots\\\\1-1\\\\trajectory_pos\\\\trajectory_pos_176_batch_001.png'\n",
      "已清理 1-1: 删除 658 个文件\n",
      "跳过 1-10: trajectory_pos 文件夹不存在\n",
      "跳过 1-11: trajectory_pos 文件夹不存在\n",
      "跳过 1-12: trajectory_pos 文件夹不存在\n",
      "跳过 1-14: trajectory_pos 文件夹不存在\n",
      "跳过 1-15: trajectory_pos 文件夹不存在\n",
      "跳过 1-16: trajectory_pos 文件夹不存在\n",
      "跳过 1-18: trajectory_pos 文件夹不存在\n",
      "跳过 1-19: trajectory_pos 文件夹不存在\n",
      "跳过 1-2: trajectory_pos 文件夹不存在\n",
      "跳过 1-8: trajectory_pos 文件夹不存在\n",
      "跳过 10-1: trajectory_pos 文件夹不存在\n",
      "跳过 10-10: trajectory_pos 文件夹不存在\n",
      "跳过 10-11: trajectory_pos 文件夹不存在\n",
      "跳过 10-17: trajectory_pos 文件夹不存在\n",
      "跳过 10-4: trajectory_pos 文件夹不存在\n",
      "跳过 10-7: trajectory_pos 文件夹不存在\n",
      "跳过 11-1: trajectory_pos 文件夹不存在\n",
      "跳过 11-10: trajectory_pos 文件夹不存在\n",
      "跳过 11-17: trajectory_pos 文件夹不存在\n",
      "跳过 11-19: trajectory_pos 文件夹不存在\n",
      "跳过 11-20: trajectory_pos 文件夹不存在\n",
      "跳过 11-4: trajectory_pos 文件夹不存在\n",
      "跳过 11-7: trajectory_pos 文件夹不存在\n",
      "跳过 12-1: trajectory_pos 文件夹不存在\n",
      "跳过 12-19: trajectory_pos 文件夹不存在\n",
      "跳过 12-20: trajectory_pos 文件夹不存在\n",
      "跳过 12-7: trajectory_pos 文件夹不存在\n",
      "跳过 13-14: trajectory_pos 文件夹不存在\n",
      "跳过 13-18: trajectory_pos 文件夹不存在\n",
      "跳过 13-19: trajectory_pos 文件夹不存在\n",
      "跳过 13-20: trajectory_pos 文件夹不存在\n",
      "跳过 13-3: trajectory_pos 文件夹不存在\n",
      "跳过 13-7: trajectory_pos 文件夹不存在\n",
      "跳过 14-10: trajectory_pos 文件夹不存在\n",
      "跳过 14-11: trajectory_pos 文件夹不存在\n",
      "跳过 14-12: trajectory_pos 文件夹不存在\n",
      "跳过 14-13: trajectory_pos 文件夹不存在\n",
      "跳过 14-14: trajectory_pos 文件夹不存在\n",
      "跳过 14-20: trajectory_pos 文件夹不存在\n",
      "跳过 14-7: trajectory_pos 文件夹不存在\n",
      "跳过 14-8: trajectory_pos 文件夹不存在\n",
      "跳过 14-9: trajectory_pos 文件夹不存在\n",
      "跳过 15-1: trajectory_pos 文件夹不存在\n",
      "跳过 15-19: trajectory_pos 文件夹不存在\n",
      "跳过 15-6: trajectory_pos 文件夹不存在\n",
      "跳过 16-1: trajectory_pos 文件夹不存在\n",
      "跳过 16-16: trajectory_pos 文件夹不存在\n",
      "跳过 16-19: trajectory_pos 文件夹不存在\n",
      "跳过 16-20: trajectory_pos 文件夹不存在\n",
      "跳过 16-5: trajectory_pos 文件夹不存在\n",
      "跳过 17-10: trajectory_pos 文件夹不存在\n",
      "跳过 17-11: trajectory_pos 文件夹不存在\n",
      "跳过 18-1: trajectory_pos 文件夹不存在\n",
      "跳过 18-10: trajectory_pos 文件夹不存在\n",
      "跳过 18-11: trajectory_pos 文件夹不存在\n",
      "跳过 18-12: trajectory_pos 文件夹不存在\n",
      "跳过 18-13: trajectory_pos 文件夹不存在\n",
      "跳过 18-14: trajectory_pos 文件夹不存在\n",
      "跳过 18-15: trajectory_pos 文件夹不存在\n",
      "跳过 18-16: trajectory_pos 文件夹不存在\n",
      "跳过 18-17: trajectory_pos 文件夹不存在\n",
      "跳过 18-2: trajectory_pos 文件夹不存在\n",
      "跳过 18-20: trajectory_pos 文件夹不存在\n",
      "跳过 18-4: trajectory_pos 文件夹不存在\n",
      "跳过 18-5: trajectory_pos 文件夹不存在\n",
      "跳过 18-7: trajectory_pos 文件夹不存在\n",
      "跳过 18-8: trajectory_pos 文件夹不存在\n",
      "跳过 18-9: trajectory_pos 文件夹不存在\n",
      "跳过 19-1: trajectory_pos 文件夹不存在\n",
      "跳过 19-10: trajectory_pos 文件夹不存在\n",
      "跳过 19-11: trajectory_pos 文件夹不存在\n",
      "跳过 19-12: trajectory_pos 文件夹不存在\n",
      "跳过 19-13: trajectory_pos 文件夹不存在\n",
      "跳过 19-14: trajectory_pos 文件夹不存在\n",
      "跳过 19-19: trajectory_pos 文件夹不存在\n",
      "跳过 19-2: trajectory_pos 文件夹不存在\n",
      "跳过 19-20: trajectory_pos 文件夹不存在\n",
      "跳过 19-3: trajectory_pos 文件夹不存在\n",
      "跳过 19-4: trajectory_pos 文件夹不存在\n",
      "跳过 19-6: trajectory_pos 文件夹不存在\n",
      "跳过 19-7: trajectory_pos 文件夹不存在\n",
      "跳过 19-8: trajectory_pos 文件夹不存在\n",
      "跳过 19-9: trajectory_pos 文件夹不存在\n",
      "跳过 2-1: trajectory_pos 文件夹不存在\n",
      "跳过 2-12: trajectory_pos 文件夹不存在\n",
      "跳过 2-13: trajectory_pos 文件夹不存在\n",
      "跳过 2-14: trajectory_pos 文件夹不存在\n",
      "跳过 2-15: trajectory_pos 文件夹不存在\n",
      "跳过 2-16: trajectory_pos 文件夹不存在\n",
      "跳过 2-17: trajectory_pos 文件夹不存在\n",
      "跳过 2-19: trajectory_pos 文件夹不存在\n",
      "跳过 2-20: trajectory_pos 文件夹不存在\n",
      "跳过 2-3: trajectory_pos 文件夹不存在\n",
      "跳过 2-4: trajectory_pos 文件夹不存在\n",
      "跳过 2-5: trajectory_pos 文件夹不存在\n",
      "跳过 2-6: trajectory_pos 文件夹不存在\n",
      "跳过 2-7: trajectory_pos 文件夹不存在\n",
      "跳过 2-8: trajectory_pos 文件夹不存在\n",
      "跳过 20-1: trajectory_pos 文件夹不存在\n",
      "跳过 20-12: trajectory_pos 文件夹不存在\n",
      "跳过 20-14: trajectory_pos 文件夹不存在\n",
      "跳过 20-15: trajectory_pos 文件夹不存在\n",
      "跳过 20-16: trajectory_pos 文件夹不存在\n",
      "跳过 20-18: trajectory_pos 文件夹不存在\n",
      "跳过 20-19: trajectory_pos 文件夹不存在\n",
      "跳过 20-20: trajectory_pos 文件夹不存在\n",
      "跳过 20-3: trajectory_pos 文件夹不存在\n",
      "跳过 20-4: trajectory_pos 文件夹不存在\n",
      "跳过 20-5: trajectory_pos 文件夹不存在\n",
      "跳过 20-7: trajectory_pos 文件夹不存在\n",
      "跳过 20-8: trajectory_pos 文件夹不存在\n",
      "跳过 3-1: trajectory_pos 文件夹不存在\n",
      "跳过 3-13: trajectory_pos 文件夹不存在\n",
      "跳过 3-18: trajectory_pos 文件夹不存在\n",
      "跳过 3-19: trajectory_pos 文件夹不存在\n",
      "跳过 3-2: trajectory_pos 文件夹不存在\n",
      "跳过 3-20: trajectory_pos 文件夹不存在\n",
      "跳过 3-8: trajectory_pos 文件夹不存在\n",
      "跳过 4-1: trajectory_pos 文件夹不存在\n",
      "跳过 4-10: trajectory_pos 文件夹不存在\n",
      "跳过 4-11: trajectory_pos 文件夹不存在\n",
      "跳过 5-1: trajectory_pos 文件夹不存在\n",
      "跳过 5-16: trajectory_pos 文件夹不存在\n",
      "跳过 5-20: trajectory_pos 文件夹不存在\n",
      "跳过 5-5: trajectory_pos 文件夹不存在\n",
      "跳过 6-1: trajectory_pos 文件夹不存在\n",
      "跳过 6-15: trajectory_pos 文件夹不存在\n",
      "跳过 6-6: trajectory_pos 文件夹不存在\n",
      "跳过 7-10: trajectory_pos 文件夹不存在\n",
      "跳过 7-11: trajectory_pos 文件夹不存在\n",
      "跳过 7-12: trajectory_pos 文件夹不存在\n",
      "跳过 7-13: trajectory_pos 文件夹不存在\n",
      "跳过 7-14: trajectory_pos 文件夹不存在\n",
      "跳过 7-20: trajectory_pos 文件夹不存在\n",
      "跳过 7-7: trajectory_pos 文件夹不存在\n",
      "跳过 7-8: trajectory_pos 文件夹不存在\n",
      "跳过 7-9: trajectory_pos 文件夹不存在\n",
      "跳过 8-1: trajectory_pos 文件夹不存在\n",
      "跳过 8-13: trajectory_pos 文件夹不存在\n",
      "跳过 8-14: trajectory_pos 文件夹不存在\n",
      "跳过 8-18: trajectory_pos 文件夹不存在\n",
      "跳过 8-20: trajectory_pos 文件夹不存在\n",
      "跳过 8-3: trajectory_pos 文件夹不存在\n",
      "跳过 8-7: trajectory_pos 文件夹不存在\n",
      "跳过 8-8: trajectory_pos 文件夹不存在\n",
      "跳过 9-1: trajectory_pos 文件夹不存在\n",
      "跳过 9-14: trajectory_pos 文件夹不存在\n",
      "跳过 9-20: trajectory_pos 文件夹不存在\n",
      "跳过 9-7: trajectory_pos 文件夹不存在\n"
     ]
    }
   ],
   "source": [
    "# 删除指定文件夹中的图片\n",
    "\n",
    "import os\n",
    "import shutil\n",
    "\n",
    "def clean_trajectory_pos(root_dir=\"IQ_signal_plots\"):\n",
    "    \"\"\"\n",
    "    清理所有TX_ID下的trajectory_pos文件夹中的图片文件\n",
    "    :param root_dir: 根目录路径（默认为IQ_signal_plots）\n",
    "    \"\"\"\n",
    "    # 支持的图片文件扩展名\n",
    "    image_extensions = {'.png', '.jpg', '.jpeg', '.bmp', '.gif', '.tiff'}\n",
    "    \n",
    "    # 遍历根目录下的所有TX_ID文件夹\n",
    "    for tx_id in os.listdir(root_dir):\n",
    "        tx_path = os.path.join(root_dir, tx_id)\n",
    "        \n",
    "        # 检查是否是有效目录\n",
    "        if not os.path.isdir(tx_path):\n",
    "            continue\n",
    "            \n",
    "        # 定位trajectory_pos文件夹\n",
    "        traj_pos_path = os.path.join(tx_path, 'trajectory_pos')\n",
    "        \n",
    "        # 如果目标文件夹不存在则跳过\n",
    "        if not os.path.exists(traj_pos_path):\n",
    "            print(f\"跳过 {tx_id}: trajectory_pos 文件夹不存在\")\n",
    "            continue\n",
    "            \n",
    "        # 删除所有图片文件\n",
    "        deleted_count = 0\n",
    "        for filename in os.listdir(traj_pos_path):\n",
    "            file_path = os.path.join(traj_pos_path, filename)\n",
    "            \n",
    "            # 检查文件扩展名和类型\n",
    "            if os.path.splitext(filename)[-1].lower() in image_extensions:\n",
    "                try:\n",
    "                    os.remove(file_path)\n",
    "                    deleted_count += 1\n",
    "                except Exception as e:\n",
    "                    print(f\"删除失败 {file_path}: {str(e)}\")\n",
    "                    \n",
    "        print(f\"已清理 {tx_id}: 删除 {deleted_count} 个文件\")\n",
    "\n",
    "if __name__ == \"__main__\":\n",
    "    # 使用示例（可修改路径）\n",
    "    clean_trajectory_pos(\"../../IQ_signal_plots\")\n",
    "    \n",
    "    # 可选：同时删除空文件夹\n",
    "    # shutil.rmtree(\"IQ_signal_plots\", ignore_errors=True)  # 慎用！"
   ]
  }
 ],
 "metadata": {
  "kernelspec": {
   "display_name": "MW-RFF",
   "language": "python",
   "name": "python3"
  },
  "language_info": {
   "codemirror_mode": {
    "name": "ipython",
    "version": 3
   },
   "file_extension": ".py",
   "mimetype": "text/x-python",
   "name": "python",
   "nbconvert_exporter": "python",
   "pygments_lexer": "ipython3",
   "version": "3.10.16"
  }
 },
 "nbformat": 4,
 "nbformat_minor": 2
}
