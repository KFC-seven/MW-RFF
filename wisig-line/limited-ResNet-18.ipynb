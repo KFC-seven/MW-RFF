{
 "cells": [
  {
   "cell_type": "code",
   "execution_count": 6,
   "metadata": {},
   "outputs": [],
   "source": [
    "import os\n",
    "import torch\n",
    "import torchvision.transforms as transforms\n",
    "from torchvision import models\n",
    "from torch.utils.data import Dataset, DataLoader\n",
    "from sklearn.model_selection import train_test_split\n",
    "from tqdm import tqdm\n",
    "from PIL import Image\n",
    "import numpy as np\n",
    "import time\n",
    "import shutil\n",
    "import matplotlib.pyplot as plt\n",
    "import seaborn as sns\n",
    "from sklearn.metrics import confusion_matrix\n",
    "from datetime import datetime\n",
    "from torchvision.models import resnet18, ResNet18_Weights\n"
   ]
  },
  {
   "cell_type": "code",
   "execution_count": null,
   "metadata": {},
   "outputs": [
    {
     "name": "stdout",
     "output_type": "stream",
     "text": [
      "Using device: cuda:0\n",
      "Loading scatter plot images...\n",
      "Total classes: 150\n",
      "Class 0: 1000 images\n",
      "Class 1: 1000 images\n",
      "Class 2: 1000 images\n",
      "Class 3: 1000 images\n",
      "Class 4: 1000 images\n",
      "Class 5: 1000 images\n",
      "Class 6: 1000 images\n",
      "Class 7: 1000 images\n",
      "Class 8: 1000 images\n",
      "Class 9: 1000 images\n",
      "Class 10: 1000 images\n",
      "Class 11: 1000 images\n",
      "Class 12: 1000 images\n",
      "Class 13: 1000 images\n",
      "Class 14: 1000 images\n",
      "Class 15: 1000 images\n",
      "Class 16: 1000 images\n",
      "Class 17: 1000 images\n",
      "Class 18: 1000 images\n",
      "Class 19: 1000 images\n",
      "Class 20: 1000 images\n",
      "Class 21: 1000 images\n",
      "Class 22: 1000 images\n",
      "Class 23: 1000 images\n",
      "Class 24: 1000 images\n",
      "Class 25: 1000 images\n",
      "Class 26: 1000 images\n",
      "Class 27: 1000 images\n",
      "Class 28: 1000 images\n",
      "Class 29: 1000 images\n",
      "Class 30: 1000 images\n",
      "Class 31: 1000 images\n",
      "Class 32: 1000 images\n",
      "Class 33: 1000 images\n",
      "Class 34: 1000 images\n",
      "Class 35: 1000 images\n",
      "Class 36: 1000 images\n",
      "Class 37: 1000 images\n",
      "Class 38: 1000 images\n",
      "Class 39: 1000 images\n",
      "Class 40: 1000 images\n",
      "Class 41: 1000 images\n",
      "Class 42: 1000 images\n",
      "Class 43: 1000 images\n",
      "Class 44: 1000 images\n",
      "Class 45: 1000 images\n",
      "Class 46: 1000 images\n",
      "Class 47: 1000 images\n",
      "Class 48: 1000 images\n",
      "Class 49: 1000 images\n",
      "Class 50: 1000 images\n",
      "Class 51: 1000 images\n",
      "Class 52: 1000 images\n",
      "Class 53: 1000 images\n",
      "Class 54: 1000 images\n",
      "Class 55: 1000 images\n",
      "Class 56: 1000 images\n",
      "Class 57: 1000 images\n",
      "Class 58: 1000 images\n",
      "Class 59: 1000 images\n",
      "Class 60: 1000 images\n",
      "Class 61: 1000 images\n",
      "Class 62: 1000 images\n",
      "Class 63: 1000 images\n",
      "Class 64: 1000 images\n",
      "Class 65: 1000 images\n",
      "Class 66: 1000 images\n",
      "Class 67: 1000 images\n",
      "Class 68: 1000 images\n",
      "Class 69: 1000 images\n",
      "Class 70: 1000 images\n",
      "Class 71: 1000 images\n",
      "Class 72: 1000 images\n",
      "Class 73: 1000 images\n",
      "Class 74: 1000 images\n",
      "Class 75: 1000 images\n",
      "Class 76: 1000 images\n",
      "Class 77: 1000 images\n",
      "Class 78: 1000 images\n",
      "Class 79: 1000 images\n",
      "Class 80: 1000 images\n",
      "Class 81: 1000 images\n",
      "Class 82: 1000 images\n",
      "Class 83: 1000 images\n",
      "Class 84: 1000 images\n",
      "Class 85: 1000 images\n",
      "Class 86: 1000 images\n",
      "Class 87: 1000 images\n",
      "Class 88: 1000 images\n",
      "Class 89: 1000 images\n",
      "Class 90: 1000 images\n",
      "Class 91: 1000 images\n",
      "Class 92: 1000 images\n",
      "Class 93: 1000 images\n",
      "Class 94: 1000 images\n",
      "Class 95: 1000 images\n",
      "Class 96: 1000 images\n",
      "Class 97: 1000 images\n",
      "Class 98: 1000 images\n",
      "Class 99: 1000 images\n",
      "Class 100: 1000 images\n",
      "Class 101: 1000 images\n",
      "Class 102: 1000 images\n",
      "Class 103: 1000 images\n",
      "Class 104: 1000 images\n",
      "Class 105: 1000 images\n",
      "Class 106: 1000 images\n",
      "Class 107: 1000 images\n",
      "Class 108: 1000 images\n",
      "Class 109: 1000 images\n",
      "Class 110: 1000 images\n",
      "Class 111: 1000 images\n",
      "Class 112: 1000 images\n",
      "Class 113: 1000 images\n",
      "Class 114: 1000 images\n",
      "Class 115: 1000 images\n",
      "Class 116: 1000 images\n",
      "Class 117: 1000 images\n",
      "Class 118: 1000 images\n",
      "Class 119: 1000 images\n",
      "Class 120: 1000 images\n",
      "Class 121: 1000 images\n",
      "Class 122: 1000 images\n",
      "Class 123: 1000 images\n",
      "Class 124: 1000 images\n",
      "Class 125: 1000 images\n",
      "Class 126: 1000 images\n",
      "Class 127: 1000 images\n",
      "Class 128: 1000 images\n",
      "Class 129: 1000 images\n",
      "Class 130: 1000 images\n",
      "Class 131: 1000 images\n",
      "Class 132: 1000 images\n",
      "Class 133: 1000 images\n",
      "Class 134: 1000 images\n",
      "Class 135: 1000 images\n",
      "Class 136: 1000 images\n",
      "Class 137: 1000 images\n",
      "Class 138: 1000 images\n",
      "Class 139: 1000 images\n",
      "Class 140: 1000 images\n",
      "Class 141: 1000 images\n",
      "Class 142: 1000 images\n",
      "Class 143: 1000 images\n",
      "Class 144: 1000 images\n",
      "Class 145: 1000 images\n",
      "Class 146: 1000 images\n",
      "Class 147: 1000 images\n",
      "Class 148: 1000 images\n",
      "Class 149: 1000 images\n",
      "Loading trajectory plot images...\n",
      "Total classes: 150\n",
      "Class 0: 1000 images\n",
      "Class 1: 1000 images\n",
      "Class 2: 1000 images\n",
      "Class 3: 1000 images\n",
      "Class 4: 1000 images\n",
      "Class 5: 1000 images\n",
      "Class 6: 1000 images\n",
      "Class 7: 1000 images\n",
      "Class 8: 1000 images\n",
      "Class 9: 1000 images\n",
      "Class 10: 1000 images\n",
      "Class 11: 1000 images\n",
      "Class 12: 1000 images\n",
      "Class 13: 1000 images\n",
      "Class 14: 1000 images\n",
      "Class 15: 1000 images\n",
      "Class 16: 1000 images\n",
      "Class 17: 1000 images\n",
      "Class 18: 1000 images\n",
      "Class 19: 1000 images\n",
      "Class 20: 1000 images\n",
      "Class 21: 1000 images\n",
      "Class 22: 1000 images\n",
      "Class 23: 1000 images\n",
      "Class 24: 1000 images\n",
      "Class 25: 1000 images\n",
      "Class 26: 1000 images\n",
      "Class 27: 1000 images\n",
      "Class 28: 1000 images\n",
      "Class 29: 1000 images\n",
      "Class 30: 1000 images\n",
      "Class 31: 1000 images\n",
      "Class 32: 1000 images\n",
      "Class 33: 1000 images\n",
      "Class 34: 1000 images\n",
      "Class 35: 1000 images\n",
      "Class 36: 1000 images\n",
      "Class 37: 1000 images\n",
      "Class 38: 1000 images\n",
      "Class 39: 1000 images\n",
      "Class 40: 1000 images\n",
      "Class 41: 1000 images\n",
      "Class 42: 1000 images\n",
      "Class 43: 1000 images\n",
      "Class 44: 1000 images\n",
      "Class 45: 1000 images\n",
      "Class 46: 1000 images\n",
      "Class 47: 1000 images\n",
      "Class 48: 1000 images\n",
      "Class 49: 1000 images\n",
      "Class 50: 1000 images\n",
      "Class 51: 1000 images\n",
      "Class 52: 1000 images\n",
      "Class 53: 1000 images\n",
      "Class 54: 1000 images\n",
      "Class 55: 1000 images\n",
      "Class 56: 1000 images\n",
      "Class 57: 1000 images\n",
      "Class 58: 1000 images\n",
      "Class 59: 1000 images\n",
      "Class 60: 1000 images\n",
      "Class 61: 1000 images\n",
      "Class 62: 1000 images\n",
      "Class 63: 1000 images\n",
      "Class 64: 1000 images\n",
      "Class 65: 1000 images\n",
      "Class 66: 1000 images\n",
      "Class 67: 1000 images\n",
      "Class 68: 1000 images\n",
      "Class 69: 1000 images\n",
      "Class 70: 1000 images\n",
      "Class 71: 1000 images\n",
      "Class 72: 1000 images\n",
      "Class 73: 1000 images\n",
      "Class 74: 1000 images\n",
      "Class 75: 1000 images\n",
      "Class 76: 1000 images\n",
      "Class 77: 1000 images\n",
      "Class 78: 1000 images\n",
      "Class 79: 1000 images\n",
      "Class 80: 1000 images\n",
      "Class 81: 1000 images\n",
      "Class 82: 1000 images\n",
      "Class 83: 1000 images\n",
      "Class 84: 1000 images\n",
      "Class 85: 1000 images\n",
      "Class 86: 1000 images\n",
      "Class 87: 1000 images\n",
      "Class 88: 1000 images\n",
      "Class 89: 1000 images\n",
      "Class 90: 1000 images\n",
      "Class 91: 1000 images\n",
      "Class 92: 1000 images\n",
      "Class 93: 1000 images\n",
      "Class 94: 1000 images\n",
      "Class 95: 1000 images\n",
      "Class 96: 1000 images\n",
      "Class 97: 1000 images\n",
      "Class 98: 1000 images\n",
      "Class 99: 1000 images\n",
      "Class 100: 1000 images\n",
      "Class 101: 1000 images\n",
      "Class 102: 1000 images\n",
      "Class 103: 1000 images\n",
      "Class 104: 1000 images\n",
      "Class 105: 1000 images\n",
      "Class 106: 1000 images\n",
      "Class 107: 1000 images\n",
      "Class 108: 1000 images\n",
      "Class 109: 1000 images\n",
      "Class 110: 1000 images\n",
      "Class 111: 1000 images\n",
      "Class 112: 1000 images\n",
      "Class 113: 1000 images\n",
      "Class 114: 1000 images\n",
      "Class 115: 1000 images\n",
      "Class 116: 1000 images\n",
      "Class 117: 1000 images\n",
      "Class 118: 1000 images\n",
      "Class 119: 1000 images\n",
      "Class 120: 1000 images\n",
      "Class 121: 1000 images\n",
      "Class 122: 1000 images\n",
      "Class 123: 1000 images\n",
      "Class 124: 1000 images\n",
      "Class 125: 1000 images\n",
      "Class 126: 1000 images\n",
      "Class 127: 1000 images\n",
      "Class 128: 1000 images\n",
      "Class 129: 1000 images\n",
      "Class 130: 1000 images\n",
      "Class 131: 1000 images\n",
      "Class 132: 1000 images\n",
      "Class 133: 1000 images\n",
      "Class 134: 1000 images\n",
      "Class 135: 1000 images\n",
      "Class 136: 1000 images\n",
      "Class 137: 1000 images\n",
      "Class 138: 1000 images\n",
      "Class 139: 1000 images\n",
      "Class 140: 1000 images\n",
      "Class 141: 1000 images\n",
      "Class 142: 1000 images\n",
      "Class 143: 1000 images\n",
      "Class 144: 1000 images\n",
      "Class 145: 1000 images\n",
      "Class 146: 1000 images\n",
      "Class 147: 1000 images\n",
      "Class 148: 1000 images\n",
      "Class 149: 1000 images\n",
      "\n",
      "Training scatter plot model...\n"
     ]
    },
    {
     "name": "stderr",
     "output_type": "stream",
     "text": [
      "Epoch 1/20 - Training:   3%|▎         | 100/3750 [00:19<12:02,  5.05it/s]"
     ]
    }
   ],
   "source": [
    "# 指定 GPU 索引（假设选择 GPU 0）\n",
    "GPU_INDEX = 0\n",
    "\n",
    "# 检查 GPU 是否可用并设置设备\n",
    "if not torch.cuda.is_available():\n",
    "    raise RuntimeError(\"CUDA is not available. Please enable a GPU.\")\n",
    "\n",
    "device = torch.device(f\"cuda:{GPU_INDEX}\")\n",
    "torch.cuda.set_device(GPU_INDEX)\n",
    "print(f\"Using device: {device}\")\n",
    "\n",
    "# 数据加载\n",
    "class ImageDataset(Dataset):\n",
    "    def __init__(self, file_paths, labels, transform=None):\n",
    "        self.file_paths = file_paths\n",
    "        self.labels = labels\n",
    "        self.transform = transform\n",
    "\n",
    "    def __len__(self):\n",
    "        return len(self.file_paths)\n",
    "\n",
    "    def __getitem__(self, idx):\n",
    "        img_path = self.file_paths[idx]\n",
    "        label = self.labels[idx]\n",
    "        image = Image.open(img_path).convert(\"RGB\")\n",
    "\n",
    "        if self.transform:\n",
    "            image = self.transform(image)\n",
    "\n",
    "        return image, label\n",
    "\n",
    "def load_image_paths(folder, plot_type='scatter_plots', limit_per_class=1000):\n",
    "    file_paths = []\n",
    "    labels = []\n",
    "    label = 0  # 为每个发射机分配标签\n",
    "    class_count = {}\n",
    "\n",
    "    for tx_id in os.listdir(folder):\n",
    "        tx_folder = os.path.join(folder, tx_id)\n",
    "        if os.path.isdir(tx_folder):\n",
    "            plot_folder = os.path.join(tx_folder, plot_type)\n",
    "            if os.path.exists(plot_folder):\n",
    "                tx_files = [f for f in os.listdir(plot_folder) if f.endswith('.png')]\n",
    "                \n",
    "                # 限制每个发射机类的图片数量\n",
    "                tx_files = tx_files[:limit_per_class]\n",
    "\n",
    "                for filename in tx_files:\n",
    "                    file_paths.append(os.path.join(plot_folder, filename))\n",
    "                    labels.append(label)\n",
    "\n",
    "                # 统计每个类的图片数量\n",
    "                class_count[label] = len(tx_files)\n",
    "\n",
    "            label += 1\n",
    "\n",
    "    # 打印每个类的图片数量\n",
    "    print(f\"Total classes: {len(class_count)}\")\n",
    "    for lbl, count in class_count.items():\n",
    "        print(f\"Class {lbl}: {count} images\")\n",
    "\n",
    "    return file_paths, labels\n",
    "\n",
    "# 模型构建\n",
    "def build_resnet_model(num_classes):\n",
    "    # 使用预训练的ResNet模型\n",
    "    model = models.resnet18(weights=models.ResNet18_Weights.DEFAULT)  # 加载预训练权重\n",
    "    # 替换最后一层\n",
    "    model.fc = torch.nn.Linear(model.fc.in_features, num_classes)\n",
    "    return model\n",
    "\n",
    "# 训练和评估\n",
    "def train_and_evaluate_model(model, train_loader, val_loader, test_loader, device, epochs=20, lr=0.001, patience=5):\n",
    "    criterion = torch.nn.CrossEntropyLoss()\n",
    "    optimizer = torch.optim.Adam(model.parameters(), lr=lr)\n",
    "\n",
    "    model = model.to(device)\n",
    "    best_val_acc = 0\n",
    "    best_epoch = 0\n",
    "    train_losses, val_losses = [], []\n",
    "    early_stop_counter = 0\n",
    "\n",
    "    for epoch in range(epochs):\n",
    "        model.train()\n",
    "        train_loss = 0\n",
    "        correct, total = 0, 0\n",
    "\n",
    "        # Training loop\n",
    "        for images, labels in tqdm(train_loader, desc=f\"Epoch {epoch+1}/{epochs} - Training\"):\n",
    "            images, labels = images.to(device), labels.to(device)\n",
    "            optimizer.zero_grad()\n",
    "            outputs = model(images)\n",
    "            loss = criterion(outputs, labels)\n",
    "            loss.backward()\n",
    "            optimizer.step()\n",
    "\n",
    "            train_loss += loss.item()\n",
    "            _, predicted = torch.max(outputs, 1)\n",
    "            total += labels.size(0)\n",
    "            correct += (predicted == labels).sum().item()\n",
    "\n",
    "        train_acc = correct / total\n",
    "        train_losses.append(train_loss / len(train_loader))\n",
    "\n",
    "        # Validation loop\n",
    "        model.eval()\n",
    "        val_loss = 0\n",
    "        correct, total = 0, 0\n",
    "\n",
    "        with torch.no_grad():\n",
    "            for images, labels in val_loader:\n",
    "                images, labels = images.to(device), labels.to(device)\n",
    "                outputs = model(images)\n",
    "                loss = criterion(outputs, labels)\n",
    "\n",
    "                val_loss += loss.item()\n",
    "                _, predicted = torch.max(outputs, 1)\n",
    "                total += labels.size(0)\n",
    "                correct += (predicted == labels).sum().item()\n",
    "\n",
    "        val_acc = correct / total\n",
    "        val_losses.append(val_loss / len(val_loader))\n",
    "\n",
    "        print(f\"Epoch [{epoch+1}/{epochs}], Train Loss: {train_losses[-1]:.4f}, Train Acc: {train_acc:.4f}, \"\n",
    "              f\"Val Loss: {val_losses[-1]:.4f}, Val Acc: {val_acc:.4f}\")\n",
    "\n",
    "        # Early stopping logic\n",
    "        if val_acc > best_val_acc:\n",
    "            best_val_acc = val_acc\n",
    "            best_model = model.state_dict()\n",
    "            best_epoch = epoch\n",
    "            early_stop_counter = 0\n",
    "        else:\n",
    "            early_stop_counter += 1\n",
    "            if early_stop_counter >= patience:\n",
    "                print(\"Early stopping triggered!\")\n",
    "                break\n",
    "\n",
    "    print(f\"Best Validation Accuracy: {best_val_acc:.4f} at epoch {best_epoch+1}\")\n",
    "    model.load_state_dict(best_model)\n",
    "\n",
    "    # Test loop\n",
    "    model.eval()\n",
    "    correct, total = 0, 0\n",
    "    all_preds = []\n",
    "    all_labels = []\n",
    "    with torch.no_grad():\n",
    "        for images, labels in test_loader:\n",
    "            images, labels = images.to(device), labels.to(device)\n",
    "            outputs = model(images)\n",
    "            _, predicted = torch.max(outputs, 1)\n",
    "            total += labels.size(0)\n",
    "            correct += (predicted == labels).sum().item()\n",
    "            all_preds.extend(predicted.cpu().numpy())\n",
    "            all_labels.extend(labels.cpu().numpy())\n",
    "\n",
    "    test_acc = correct / total\n",
    "    print(f\"Test Accuracy: {test_acc:.4f}\")\n",
    "\n",
    "    # Generate confusion matrix\n",
    "    cm = confusion_matrix(all_labels, all_preds)\n",
    "    cm_fig = plt.figure(figsize=(10, 8))\n",
    "    sns.heatmap(cm, annot=True, fmt='d', cmap=\"Blues\", xticklabels=list(range(len(set(all_labels)))), yticklabels=list(range(len(set(all_labels)))))\n",
    "    cm_fig.savefig(\"confusion_matrix.png\")\n",
    "    \n",
    "    return model, train_losses, val_losses, test_acc, cm\n",
    "\n",
    "\n",
    "# 比较训练效果并保存结果\n",
    "def compare_scatter_trajectory_training(folder, batch_size=32, epochs=20, lr=0.001):\n",
    "    print(\"Loading scatter plot images...\")\n",
    "    scatter_paths, scatter_labels = load_image_paths(folder, plot_type='scatter_plots', limit_per_class=1000)\n",
    "    print(\"Loading trajectory plot images...\")\n",
    "    trajectory_paths, trajectory_labels = load_image_paths(folder, plot_type='trajectory_plots', limit_per_class=1000)\n",
    "\n",
    "    # 数据集分割\n",
    "    scatter_train_paths, scatter_test_paths, scatter_train_labels, scatter_test_labels = train_test_split(\n",
    "        scatter_paths, scatter_labels, test_size=0.2, random_state=42\n",
    "    )\n",
    "    trajectory_train_paths, trajectory_test_paths, trajectory_train_labels, trajectory_test_labels = train_test_split(\n",
    "        trajectory_paths, trajectory_labels, test_size=0.2, random_state=42\n",
    "    )\n",
    "\n",
    "    # 数据预处理\n",
    "    transform = transforms.Compose([\n",
    "        transforms.Resize((224, 224)),\n",
    "        transforms.ToTensor(),\n",
    "        transforms.Normalize(mean=[0.485, 0.456, 0.406], std=[0.229, 0.224, 0.225])\n",
    "    ])\n",
    "\n",
    "    # 构造数据集和数据加载器\n",
    "    scatter_train_dataset = ImageDataset(scatter_train_paths, scatter_train_labels, transform)\n",
    "    scatter_test_dataset = ImageDataset(scatter_test_paths, scatter_test_labels, transform)\n",
    "    trajectory_train_dataset = ImageDataset(trajectory_train_paths, trajectory_train_labels, transform)\n",
    "    trajectory_test_dataset = ImageDataset(trajectory_test_paths, trajectory_test_labels, transform)\n",
    "\n",
    "    scatter_train_loader = DataLoader(scatter_train_dataset, batch_size=batch_size, shuffle=True)\n",
    "    scatter_test_loader = DataLoader(scatter_test_dataset, batch_size=batch_size, shuffle=False)\n",
    "    trajectory_train_loader = DataLoader(trajectory_train_dataset, batch_size=batch_size, shuffle=True)\n",
    "    trajectory_test_loader = DataLoader(trajectory_test_dataset, batch_size=batch_size, shuffle=False)\n",
    "\n",
    "    # 获取类别数量\n",
    "    num_classes = len(set(scatter_labels))\n",
    "\n",
    "    # 当前时间戳\n",
    "    timestamp = datetime.now().strftime(\"%Y-%m-%d_%H-%M-%S\")\n",
    "    folder_name = f\"{timestamp}-1000_images_per_class-{num_classes}_classes\"\n",
    "    os.makedirs(folder_name, exist_ok=True)\n",
    "\n",
    "    # 保存训练的模型和混淆矩阵\n",
    "    # 构建和训练散点图模型\n",
    "    print(\"\\nTraining scatter plot model...\")\n",
    "    scatter_model = build_resnet_model(num_classes)\n",
    "    scatter_model, scatter_train_losses, scatter_val_losses, scatter_test_acc, scatter_cm = train_and_evaluate_model(\n",
    "        scatter_model, scatter_train_loader, scatter_test_loader, scatter_test_loader, device, epochs, lr\n",
    "    )\n",
    "    \n",
    "    torch.save(scatter_model.state_dict(), os.path.join(folder_name, 'scatter_model.pth'))\n",
    "    plt.savefig(os.path.join(folder_name, 'scatter_confusion_matrix.png'))\n",
    "\n",
    "    # 保存训练日志\n",
    "    with open(os.path.join(folder_name, 'scatter_training_log.txt'), 'w') as f:\n",
    "        f.write(f\"Training Results - Scatter Plot\\n\")\n",
    "        f.write(f\"Test Accuracy: {scatter_test_acc:.4f}\\n\")\n",
    "        f.write(f\"Train Losses: {scatter_train_losses}\\n\")\n",
    "        f.write(f\"Val Losses: {scatter_val_losses}\\n\")\n",
    "\n",
    "    # 构建和训练轨迹图模型\n",
    "    print(\"\\nTraining trajectory plot model...\")\n",
    "    trajectory_model = build_resnet_model(num_classes)\n",
    "    trajectory_model, trajectory_train_losses, trajectory_val_losses, trajectory_test_acc, trajectory_cm = train_and_evaluate_model(\n",
    "        trajectory_model, trajectory_train_loader, trajectory_test_loader, trajectory_test_loader, device, epochs, lr\n",
    "    )\n",
    "    \n",
    "    torch.save(trajectory_model.state_dict(), os.path.join(folder_name, 'trajectory_model.pth'))\n",
    "    plt.savefig(os.path.join(folder_name, 'trajectory_confusion_matrix.png'))\n",
    "\n",
    "    # 保存训练日志\n",
    "    with open(os.path.join(folder_name, 'trajectory_training_log.txt'), 'w') as f:\n",
    "        f.write(f\"Training Results - Trajectory Plot\\n\")\n",
    "        f.write(f\"Test Accuracy: {trajectory_test_acc:.4f}\\n\")\n",
    "        f.write(f\"Train Losses: {trajectory_train_losses}\\n\")\n",
    "        f.write(f\"Val Losses: {trajectory_val_losses}\\n\")\n",
    "\n",
    "# 使用示例：比较散点图和轨迹图的训练效果\n",
    "folder = \"../../IQ_signal_plots\"  # 图像存储的文件夹\n",
    "compare_scatter_trajectory_training(folder, batch_size=32, epochs=20, lr=0.001)\n"
   ]
  },
  {
   "cell_type": "code",
   "execution_count": 2,
   "metadata": {},
   "outputs": [
    {
     "name": "stdout",
     "output_type": "stream",
     "text": [
      "Using device: cuda:0\n",
      "Loading scatter plot images...\n",
      "Total classes: 150\n",
      "Class 0: 1000 images\n",
      "Class 1: 1000 images\n",
      "Class 2: 1000 images\n",
      "Class 3: 1000 images\n",
      "Class 4: 1000 images\n",
      "Class 5: 1000 images\n",
      "Class 6: 1000 images\n",
      "Class 7: 1000 images\n",
      "Class 8: 1000 images\n",
      "Class 9: 1000 images\n",
      "Class 10: 1000 images\n",
      "Class 11: 1000 images\n",
      "Class 12: 1000 images\n",
      "Class 13: 1000 images\n",
      "Class 14: 1000 images\n",
      "Class 15: 1000 images\n",
      "Class 16: 1000 images\n",
      "Class 17: 1000 images\n",
      "Class 18: 1000 images\n",
      "Class 19: 1000 images\n",
      "Class 20: 1000 images\n",
      "Class 21: 1000 images\n",
      "Class 22: 1000 images\n",
      "Class 23: 1000 images\n",
      "Class 24: 1000 images\n",
      "Class 25: 1000 images\n",
      "Class 26: 1000 images\n",
      "Class 27: 1000 images\n",
      "Class 28: 1000 images\n",
      "Class 29: 1000 images\n",
      "Class 30: 1000 images\n",
      "Class 31: 1000 images\n",
      "Class 32: 1000 images\n",
      "Class 33: 1000 images\n",
      "Class 34: 1000 images\n",
      "Class 35: 1000 images\n",
      "Class 36: 1000 images\n",
      "Class 37: 1000 images\n",
      "Class 38: 1000 images\n",
      "Class 39: 1000 images\n",
      "Class 40: 1000 images\n",
      "Class 41: 1000 images\n",
      "Class 42: 1000 images\n",
      "Class 43: 1000 images\n",
      "Class 44: 1000 images\n",
      "Class 45: 1000 images\n",
      "Class 46: 1000 images\n",
      "Class 47: 1000 images\n",
      "Class 48: 1000 images\n",
      "Class 49: 1000 images\n",
      "Class 50: 1000 images\n",
      "Class 51: 1000 images\n",
      "Class 52: 1000 images\n",
      "Class 53: 1000 images\n",
      "Class 54: 1000 images\n",
      "Class 55: 1000 images\n",
      "Class 56: 1000 images\n",
      "Class 57: 1000 images\n",
      "Class 58: 1000 images\n",
      "Class 59: 1000 images\n",
      "Class 60: 1000 images\n",
      "Class 61: 1000 images\n",
      "Class 62: 1000 images\n",
      "Class 63: 1000 images\n",
      "Class 64: 1000 images\n",
      "Class 65: 1000 images\n",
      "Class 66: 1000 images\n",
      "Class 67: 1000 images\n",
      "Class 68: 1000 images\n",
      "Class 69: 1000 images\n",
      "Class 70: 1000 images\n",
      "Class 71: 1000 images\n",
      "Class 72: 1000 images\n",
      "Class 73: 1000 images\n",
      "Class 74: 1000 images\n",
      "Class 75: 1000 images\n",
      "Class 76: 1000 images\n",
      "Class 77: 1000 images\n",
      "Class 78: 1000 images\n",
      "Class 79: 1000 images\n",
      "Class 80: 1000 images\n",
      "Class 81: 1000 images\n",
      "Class 82: 1000 images\n",
      "Class 83: 1000 images\n",
      "Class 84: 1000 images\n",
      "Class 85: 1000 images\n",
      "Class 86: 1000 images\n",
      "Class 87: 1000 images\n",
      "Class 88: 1000 images\n",
      "Class 89: 1000 images\n",
      "Class 90: 1000 images\n",
      "Class 91: 1000 images\n",
      "Class 92: 1000 images\n",
      "Class 93: 1000 images\n",
      "Class 94: 1000 images\n",
      "Class 95: 1000 images\n",
      "Class 96: 1000 images\n",
      "Class 97: 1000 images\n",
      "Class 98: 1000 images\n",
      "Class 99: 1000 images\n",
      "Class 100: 1000 images\n",
      "Class 101: 1000 images\n",
      "Class 102: 1000 images\n",
      "Class 103: 1000 images\n",
      "Class 104: 1000 images\n",
      "Class 105: 1000 images\n",
      "Class 106: 1000 images\n",
      "Class 107: 1000 images\n",
      "Class 108: 1000 images\n",
      "Class 109: 1000 images\n",
      "Class 110: 1000 images\n",
      "Class 111: 1000 images\n",
      "Class 112: 1000 images\n",
      "Class 113: 1000 images\n",
      "Class 114: 1000 images\n",
      "Class 115: 1000 images\n",
      "Class 116: 1000 images\n",
      "Class 117: 1000 images\n",
      "Class 118: 1000 images\n",
      "Class 119: 1000 images\n",
      "Class 120: 1000 images\n",
      "Class 121: 1000 images\n",
      "Class 122: 1000 images\n",
      "Class 123: 1000 images\n",
      "Class 124: 1000 images\n",
      "Class 125: 1000 images\n",
      "Class 126: 1000 images\n",
      "Class 127: 1000 images\n",
      "Class 128: 1000 images\n",
      "Class 129: 1000 images\n",
      "Class 130: 1000 images\n",
      "Class 131: 1000 images\n",
      "Class 132: 1000 images\n",
      "Class 133: 1000 images\n",
      "Class 134: 1000 images\n",
      "Class 135: 1000 images\n",
      "Class 136: 1000 images\n",
      "Class 137: 1000 images\n",
      "Class 138: 1000 images\n",
      "Class 139: 1000 images\n",
      "Class 140: 1000 images\n",
      "Class 141: 1000 images\n",
      "Class 142: 1000 images\n",
      "Class 143: 1000 images\n",
      "Class 144: 1000 images\n",
      "Class 145: 1000 images\n",
      "Class 146: 1000 images\n",
      "Class 147: 1000 images\n",
      "Class 148: 1000 images\n",
      "Class 149: 1000 images\n",
      "Loading trajectory plot images...\n",
      "Total classes: 150\n",
      "Class 0: 1000 images\n",
      "Class 1: 1000 images\n",
      "Class 2: 1000 images\n",
      "Class 3: 1000 images\n",
      "Class 4: 1000 images\n",
      "Class 5: 1000 images\n",
      "Class 6: 1000 images\n",
      "Class 7: 1000 images\n",
      "Class 8: 1000 images\n",
      "Class 9: 1000 images\n",
      "Class 10: 1000 images\n",
      "Class 11: 1000 images\n",
      "Class 12: 1000 images\n",
      "Class 13: 1000 images\n",
      "Class 14: 1000 images\n",
      "Class 15: 1000 images\n",
      "Class 16: 1000 images\n",
      "Class 17: 1000 images\n",
      "Class 18: 1000 images\n",
      "Class 19: 1000 images\n",
      "Class 20: 1000 images\n",
      "Class 21: 1000 images\n",
      "Class 22: 1000 images\n",
      "Class 23: 1000 images\n",
      "Class 24: 1000 images\n",
      "Class 25: 1000 images\n",
      "Class 26: 1000 images\n",
      "Class 27: 1000 images\n",
      "Class 28: 1000 images\n",
      "Class 29: 1000 images\n",
      "Class 30: 1000 images\n",
      "Class 31: 1000 images\n",
      "Class 32: 1000 images\n",
      "Class 33: 1000 images\n",
      "Class 34: 1000 images\n",
      "Class 35: 1000 images\n",
      "Class 36: 1000 images\n",
      "Class 37: 1000 images\n",
      "Class 38: 1000 images\n",
      "Class 39: 1000 images\n",
      "Class 40: 1000 images\n",
      "Class 41: 1000 images\n",
      "Class 42: 1000 images\n",
      "Class 43: 1000 images\n",
      "Class 44: 1000 images\n",
      "Class 45: 1000 images\n",
      "Class 46: 1000 images\n",
      "Class 47: 1000 images\n",
      "Class 48: 1000 images\n",
      "Class 49: 1000 images\n",
      "Class 50: 1000 images\n",
      "Class 51: 1000 images\n",
      "Class 52: 1000 images\n",
      "Class 53: 1000 images\n",
      "Class 54: 1000 images\n",
      "Class 55: 1000 images\n",
      "Class 56: 1000 images\n",
      "Class 57: 1000 images\n",
      "Class 58: 1000 images\n",
      "Class 59: 1000 images\n",
      "Class 60: 1000 images\n",
      "Class 61: 1000 images\n",
      "Class 62: 1000 images\n",
      "Class 63: 1000 images\n",
      "Class 64: 1000 images\n",
      "Class 65: 1000 images\n",
      "Class 66: 1000 images\n",
      "Class 67: 1000 images\n",
      "Class 68: 1000 images\n",
      "Class 69: 1000 images\n",
      "Class 70: 1000 images\n",
      "Class 71: 1000 images\n",
      "Class 72: 1000 images\n",
      "Class 73: 1000 images\n",
      "Class 74: 1000 images\n",
      "Class 75: 1000 images\n",
      "Class 76: 1000 images\n",
      "Class 77: 1000 images\n",
      "Class 78: 1000 images\n",
      "Class 79: 1000 images\n",
      "Class 80: 1000 images\n",
      "Class 81: 1000 images\n",
      "Class 82: 1000 images\n",
      "Class 83: 1000 images\n",
      "Class 84: 1000 images\n",
      "Class 85: 1000 images\n",
      "Class 86: 1000 images\n",
      "Class 87: 1000 images\n",
      "Class 88: 1000 images\n",
      "Class 89: 1000 images\n",
      "Class 90: 1000 images\n",
      "Class 91: 1000 images\n",
      "Class 92: 1000 images\n",
      "Class 93: 1000 images\n",
      "Class 94: 1000 images\n",
      "Class 95: 1000 images\n",
      "Class 96: 1000 images\n",
      "Class 97: 1000 images\n",
      "Class 98: 1000 images\n",
      "Class 99: 1000 images\n",
      "Class 100: 1000 images\n",
      "Class 101: 1000 images\n",
      "Class 102: 1000 images\n",
      "Class 103: 1000 images\n",
      "Class 104: 1000 images\n",
      "Class 105: 1000 images\n",
      "Class 106: 1000 images\n",
      "Class 107: 1000 images\n",
      "Class 108: 1000 images\n",
      "Class 109: 1000 images\n",
      "Class 110: 1000 images\n",
      "Class 111: 1000 images\n",
      "Class 112: 1000 images\n",
      "Class 113: 1000 images\n",
      "Class 114: 1000 images\n",
      "Class 115: 1000 images\n",
      "Class 116: 1000 images\n",
      "Class 117: 1000 images\n",
      "Class 118: 1000 images\n",
      "Class 119: 1000 images\n",
      "Class 120: 1000 images\n",
      "Class 121: 1000 images\n",
      "Class 122: 1000 images\n",
      "Class 123: 1000 images\n",
      "Class 124: 1000 images\n",
      "Class 125: 1000 images\n",
      "Class 126: 1000 images\n",
      "Class 127: 1000 images\n",
      "Class 128: 1000 images\n",
      "Class 129: 1000 images\n",
      "Class 130: 1000 images\n",
      "Class 131: 1000 images\n",
      "Class 132: 1000 images\n",
      "Class 133: 1000 images\n",
      "Class 134: 1000 images\n",
      "Class 135: 1000 images\n",
      "Class 136: 1000 images\n",
      "Class 137: 1000 images\n",
      "Class 138: 1000 images\n",
      "Class 139: 1000 images\n",
      "Class 140: 1000 images\n",
      "Class 141: 1000 images\n",
      "Class 142: 1000 images\n",
      "Class 143: 1000 images\n",
      "Class 144: 1000 images\n",
      "Class 145: 1000 images\n",
      "Class 146: 1000 images\n",
      "Class 147: 1000 images\n",
      "Class 148: 1000 images\n",
      "Class 149: 1000 images\n",
      "\n",
      "Training scatter plot model...\n"
     ]
    },
    {
     "name": "stderr",
     "output_type": "stream",
     "text": [
      "Downloading: \"https://download.pytorch.org/models/resnet18-f37072fd.pth\" to C:\\Users\\ZY/.cache\\torch\\hub\\checkpoints\\resnet18-f37072fd.pth\n",
      "100%|██████████| 44.7M/44.7M [00:07<00:00, 6.30MB/s]\n",
      "Epoch 1/20 - Training: 100%|██████████| 3750/3750 [12:33<00:00,  4.98it/s]\n"
     ]
    },
    {
     "name": "stdout",
     "output_type": "stream",
     "text": [
      "Epoch [1/20], Train Loss: 4.4250, Train Acc: 0.0548, Val Loss: 4.1462, Val Acc: 0.0969\n"
     ]
    },
    {
     "name": "stderr",
     "output_type": "stream",
     "text": [
      "Epoch 2/20 - Training: 100%|██████████| 3750/3750 [11:14<00:00,  5.56it/s]\n"
     ]
    },
    {
     "name": "stdout",
     "output_type": "stream",
     "text": [
      "Epoch [2/20], Train Loss: 3.2561, Train Acc: 0.2816, Val Loss: 2.7957, Val Acc: 0.3824\n"
     ]
    },
    {
     "name": "stderr",
     "output_type": "stream",
     "text": [
      "Epoch 3/20 - Training: 100%|██████████| 3750/3750 [11:21<00:00,  5.50it/s]\n"
     ]
    },
    {
     "name": "stdout",
     "output_type": "stream",
     "text": [
      "Epoch [3/20], Train Loss: 2.3766, Train Acc: 0.4732, Val Loss: 2.4514, Val Acc: 0.4692\n"
     ]
    },
    {
     "name": "stderr",
     "output_type": "stream",
     "text": [
      "Epoch 4/20 - Training: 100%|██████████| 3750/3750 [12:23<00:00,  5.04it/s]\n"
     ]
    },
    {
     "name": "stdout",
     "output_type": "stream",
     "text": [
      "Epoch [4/20], Train Loss: 1.9990, Train Acc: 0.5518, Val Loss: 2.3362, Val Acc: 0.4959\n"
     ]
    },
    {
     "name": "stderr",
     "output_type": "stream",
     "text": [
      "Epoch 5/20 - Training: 100%|██████████| 3750/3750 [11:41<00:00,  5.35it/s]\n"
     ]
    },
    {
     "name": "stdout",
     "output_type": "stream",
     "text": [
      "Epoch [5/20], Train Loss: 1.7283, Train Acc: 0.6059, Val Loss: 2.3241, Val Acc: 0.5140\n"
     ]
    },
    {
     "name": "stderr",
     "output_type": "stream",
     "text": [
      "Epoch 6/20 - Training: 100%|██████████| 3750/3750 [11:54<00:00,  5.25it/s]\n"
     ]
    },
    {
     "name": "stdout",
     "output_type": "stream",
     "text": [
      "Epoch [6/20], Train Loss: 1.4620, Train Acc: 0.6573, Val Loss: 2.4233, Val Acc: 0.5172\n"
     ]
    },
    {
     "name": "stderr",
     "output_type": "stream",
     "text": [
      "Epoch 7/20 - Training: 100%|██████████| 3750/3750 [12:39<00:00,  4.94it/s]\n"
     ]
    },
    {
     "name": "stdout",
     "output_type": "stream",
     "text": [
      "Epoch [7/20], Train Loss: 1.1420, Train Acc: 0.7199, Val Loss: 2.6526, Val Acc: 0.5210\n"
     ]
    },
    {
     "name": "stderr",
     "output_type": "stream",
     "text": [
      "Epoch 8/20 - Training: 100%|██████████| 3750/3750 [11:53<00:00,  5.26it/s]\n"
     ]
    },
    {
     "name": "stdout",
     "output_type": "stream",
     "text": [
      "Epoch [8/20], Train Loss: 0.7796, Train Acc: 0.7973, Val Loss: 3.1312, Val Acc: 0.5098\n"
     ]
    },
    {
     "name": "stderr",
     "output_type": "stream",
     "text": [
      "Epoch 9/20 - Training: 100%|██████████| 3750/3750 [12:09<00:00,  5.14it/s]\n"
     ]
    },
    {
     "name": "stdout",
     "output_type": "stream",
     "text": [
      "Epoch [9/20], Train Loss: 0.4817, Train Acc: 0.8674, Val Loss: 3.5619, Val Acc: 0.5106\n"
     ]
    },
    {
     "name": "stderr",
     "output_type": "stream",
     "text": [
      "Epoch 10/20 - Training: 100%|██████████| 3750/3750 [12:17<00:00,  5.08it/s]\n"
     ]
    },
    {
     "name": "stdout",
     "output_type": "stream",
     "text": [
      "Epoch [10/20], Train Loss: 0.3330, Train Acc: 0.9049, Val Loss: 3.8941, Val Acc: 0.5040\n"
     ]
    },
    {
     "name": "stderr",
     "output_type": "stream",
     "text": [
      "Epoch 11/20 - Training: 100%|██████████| 3750/3750 [12:27<00:00,  5.01it/s]\n"
     ]
    },
    {
     "name": "stdout",
     "output_type": "stream",
     "text": [
      "Epoch [11/20], Train Loss: 0.2678, Train Acc: 0.9222, Val Loss: 4.0731, Val Acc: 0.5051\n"
     ]
    },
    {
     "name": "stderr",
     "output_type": "stream",
     "text": [
      "Epoch 12/20 - Training: 100%|██████████| 3750/3750 [11:59<00:00,  5.21it/s]\n"
     ]
    },
    {
     "name": "stdout",
     "output_type": "stream",
     "text": [
      "Epoch [12/20], Train Loss: 0.2355, Train Acc: 0.9303, Val Loss: 4.2742, Val Acc: 0.5068\n"
     ]
    },
    {
     "name": "stderr",
     "output_type": "stream",
     "text": [
      "Epoch 13/20 - Training: 100%|██████████| 3750/3750 [12:09<00:00,  5.14it/s]\n"
     ]
    },
    {
     "name": "stdout",
     "output_type": "stream",
     "text": [
      "Epoch [13/20], Train Loss: 0.2111, Train Acc: 0.9372, Val Loss: 4.4791, Val Acc: 0.5003\n"
     ]
    },
    {
     "name": "stderr",
     "output_type": "stream",
     "text": [
      "Epoch 14/20 - Training: 100%|██████████| 3750/3750 [12:41<00:00,  4.92it/s]\n"
     ]
    },
    {
     "name": "stdout",
     "output_type": "stream",
     "text": [
      "Epoch [14/20], Train Loss: 0.1874, Train Acc: 0.9438, Val Loss: 4.4630, Val Acc: 0.5100\n"
     ]
    },
    {
     "name": "stderr",
     "output_type": "stream",
     "text": [
      "Epoch 15/20 - Training: 100%|██████████| 3750/3750 [12:05<00:00,  5.17it/s]\n"
     ]
    },
    {
     "name": "stdout",
     "output_type": "stream",
     "text": [
      "Epoch [15/20], Train Loss: 0.1690, Train Acc: 0.9489, Val Loss: 4.5280, Val Acc: 0.5075\n"
     ]
    },
    {
     "name": "stderr",
     "output_type": "stream",
     "text": [
      "Epoch 16/20 - Training: 100%|██████████| 3750/3750 [12:00<00:00,  5.20it/s]\n"
     ]
    },
    {
     "name": "stdout",
     "output_type": "stream",
     "text": [
      "Epoch [16/20], Train Loss: 0.1561, Train Acc: 0.9535, Val Loss: 4.4884, Val Acc: 0.5101\n"
     ]
    },
    {
     "name": "stderr",
     "output_type": "stream",
     "text": [
      "Epoch 17/20 - Training: 100%|██████████| 3750/3750 [12:14<00:00,  5.11it/s]\n"
     ]
    },
    {
     "name": "stdout",
     "output_type": "stream",
     "text": [
      "Epoch [17/20], Train Loss: 0.1518, Train Acc: 0.9539, Val Loss: 4.7359, Val Acc: 0.5123\n"
     ]
    },
    {
     "name": "stderr",
     "output_type": "stream",
     "text": [
      "Epoch 18/20 - Training: 100%|██████████| 3750/3750 [12:18<00:00,  5.08it/s]\n"
     ]
    },
    {
     "name": "stdout",
     "output_type": "stream",
     "text": [
      "Epoch [18/20], Train Loss: 0.1354, Train Acc: 0.9588, Val Loss: 4.6625, Val Acc: 0.5121\n"
     ]
    },
    {
     "name": "stderr",
     "output_type": "stream",
     "text": [
      "Epoch 19/20 - Training: 100%|██████████| 3750/3750 [12:00<00:00,  5.20it/s]\n"
     ]
    },
    {
     "name": "stdout",
     "output_type": "stream",
     "text": [
      "Epoch [19/20], Train Loss: 0.1271, Train Acc: 0.9614, Val Loss: 4.9067, Val Acc: 0.5067\n"
     ]
    },
    {
     "name": "stderr",
     "output_type": "stream",
     "text": [
      "Epoch 20/20 - Training: 100%|██████████| 3750/3750 [12:07<00:00,  5.15it/s]\n"
     ]
    },
    {
     "name": "stdout",
     "output_type": "stream",
     "text": [
      "Epoch [20/20], Train Loss: 0.1193, Train Acc: 0.9634, Val Loss: 4.9461, Val Acc: 0.5126\n",
      "Best Validation Accuracy: 0.5210\n",
      "Test Accuracy: 0.5126\n",
      "\n",
      "Training trajectory plot model...\n"
     ]
    },
    {
     "name": "stderr",
     "output_type": "stream",
     "text": [
      "Epoch 1/20 - Training: 100%|██████████| 3750/3750 [14:17<00:00,  4.37it/s]\n"
     ]
    },
    {
     "name": "stdout",
     "output_type": "stream",
     "text": [
      "Epoch [1/20], Train Loss: 4.5249, Train Acc: 0.0409, Val Loss: 4.1660, Val Acc: 0.0930\n"
     ]
    },
    {
     "name": "stderr",
     "output_type": "stream",
     "text": [
      "Epoch 2/20 - Training: 100%|██████████| 3750/3750 [12:48<00:00,  4.88it/s]\n"
     ]
    },
    {
     "name": "stdout",
     "output_type": "stream",
     "text": [
      "Epoch [2/20], Train Loss: 3.3835, Train Acc: 0.2572, Val Loss: 3.0288, Val Acc: 0.3391\n"
     ]
    },
    {
     "name": "stderr",
     "output_type": "stream",
     "text": [
      "Epoch 3/20 - Training: 100%|██████████| 3750/3750 [12:47<00:00,  4.89it/s]\n"
     ]
    },
    {
     "name": "stdout",
     "output_type": "stream",
     "text": [
      "Epoch [3/20], Train Loss: 2.4373, Train Acc: 0.4627, Val Loss: 2.4489, Val Acc: 0.4680\n"
     ]
    },
    {
     "name": "stderr",
     "output_type": "stream",
     "text": [
      "Epoch 4/20 - Training: 100%|██████████| 3750/3750 [13:19<00:00,  4.69it/s]\n"
     ]
    },
    {
     "name": "stdout",
     "output_type": "stream",
     "text": [
      "Epoch [4/20], Train Loss: 2.0359, Train Acc: 0.5462, Val Loss: 2.3347, Val Acc: 0.4980\n"
     ]
    },
    {
     "name": "stderr",
     "output_type": "stream",
     "text": [
      "Epoch 5/20 - Training: 100%|██████████| 3750/3750 [12:50<00:00,  4.87it/s]\n"
     ]
    },
    {
     "name": "stdout",
     "output_type": "stream",
     "text": [
      "Epoch [5/20], Train Loss: 1.7613, Train Acc: 0.5999, Val Loss: 2.3119, Val Acc: 0.5209\n"
     ]
    },
    {
     "name": "stderr",
     "output_type": "stream",
     "text": [
      "Epoch 6/20 - Training: 100%|██████████| 3750/3750 [12:47<00:00,  4.89it/s]\n"
     ]
    },
    {
     "name": "stdout",
     "output_type": "stream",
     "text": [
      "Epoch [6/20], Train Loss: 1.5062, Train Acc: 0.6488, Val Loss: 2.3808, Val Acc: 0.5266\n"
     ]
    },
    {
     "name": "stderr",
     "output_type": "stream",
     "text": [
      "Epoch 7/20 - Training: 100%|██████████| 3750/3750 [13:19<00:00,  4.69it/s]\n"
     ]
    },
    {
     "name": "stdout",
     "output_type": "stream",
     "text": [
      "Epoch [7/20], Train Loss: 1.2174, Train Acc: 0.7059, Val Loss: 2.6864, Val Acc: 0.5089\n"
     ]
    },
    {
     "name": "stderr",
     "output_type": "stream",
     "text": [
      "Epoch 8/20 - Training: 100%|██████████| 3750/3750 [12:47<00:00,  4.88it/s]\n"
     ]
    },
    {
     "name": "stdout",
     "output_type": "stream",
     "text": [
      "Epoch [8/20], Train Loss: 0.9043, Train Acc: 0.7718, Val Loss: 2.7721, Val Acc: 0.5261\n"
     ]
    },
    {
     "name": "stderr",
     "output_type": "stream",
     "text": [
      "Epoch 9/20 - Training: 100%|██████████| 3750/3750 [12:50<00:00,  4.87it/s]\n"
     ]
    },
    {
     "name": "stdout",
     "output_type": "stream",
     "text": [
      "Epoch [9/20], Train Loss: 0.6333, Train Acc: 0.8318, Val Loss: 3.2170, Val Acc: 0.5193\n"
     ]
    },
    {
     "name": "stderr",
     "output_type": "stream",
     "text": [
      "Epoch 10/20 - Training: 100%|██████████| 3750/3750 [13:23<00:00,  4.66it/s]\n"
     ]
    },
    {
     "name": "stdout",
     "output_type": "stream",
     "text": [
      "Epoch [10/20], Train Loss: 0.4472, Train Acc: 0.8765, Val Loss: 3.6402, Val Acc: 0.5146\n"
     ]
    },
    {
     "name": "stderr",
     "output_type": "stream",
     "text": [
      "Epoch 11/20 - Training: 100%|██████████| 3750/3750 [12:45<00:00,  4.90it/s]\n"
     ]
    },
    {
     "name": "stdout",
     "output_type": "stream",
     "text": [
      "Epoch [11/20], Train Loss: 0.3387, Train Acc: 0.9033, Val Loss: 3.7721, Val Acc: 0.5167\n"
     ]
    },
    {
     "name": "stderr",
     "output_type": "stream",
     "text": [
      "Epoch 12/20 - Training: 100%|██████████| 3750/3750 [12:45<00:00,  4.90it/s]\n"
     ]
    },
    {
     "name": "stdout",
     "output_type": "stream",
     "text": [
      "Epoch [12/20], Train Loss: 0.2741, Train Acc: 0.9206, Val Loss: 3.9217, Val Acc: 0.5221\n"
     ]
    },
    {
     "name": "stderr",
     "output_type": "stream",
     "text": [
      "Epoch 13/20 - Training: 100%|██████████| 3750/3750 [13:28<00:00,  4.64it/s]\n"
     ]
    },
    {
     "name": "stdout",
     "output_type": "stream",
     "text": [
      "Epoch [13/20], Train Loss: 0.2325, Train Acc: 0.9321, Val Loss: 4.1522, Val Acc: 0.5061\n"
     ]
    },
    {
     "name": "stderr",
     "output_type": "stream",
     "text": [
      "Epoch 14/20 - Training: 100%|██████████| 3750/3750 [12:55<00:00,  4.84it/s]\n"
     ]
    },
    {
     "name": "stdout",
     "output_type": "stream",
     "text": [
      "Epoch [14/20], Train Loss: 0.2081, Train Acc: 0.9376, Val Loss: 4.2099, Val Acc: 0.5166\n"
     ]
    },
    {
     "name": "stderr",
     "output_type": "stream",
     "text": [
      "Epoch 15/20 - Training: 100%|██████████| 3750/3750 [12:50<00:00,  4.87it/s]\n"
     ]
    },
    {
     "name": "stdout",
     "output_type": "stream",
     "text": [
      "Epoch [15/20], Train Loss: 0.1890, Train Acc: 0.9436, Val Loss: 4.3051, Val Acc: 0.5184\n"
     ]
    },
    {
     "name": "stderr",
     "output_type": "stream",
     "text": [
      "Epoch 16/20 - Training: 100%|██████████| 3750/3750 [13:31<00:00,  4.62it/s]\n"
     ]
    },
    {
     "name": "stdout",
     "output_type": "stream",
     "text": [
      "Epoch [16/20], Train Loss: 0.1691, Train Acc: 0.9499, Val Loss: 4.4109, Val Acc: 0.5189\n"
     ]
    },
    {
     "name": "stderr",
     "output_type": "stream",
     "text": [
      "Epoch 17/20 - Training: 100%|██████████| 3750/3750 [12:49<00:00,  4.87it/s]\n"
     ]
    },
    {
     "name": "stdout",
     "output_type": "stream",
     "text": [
      "Epoch [17/20], Train Loss: 0.1578, Train Acc: 0.9527, Val Loss: 4.5882, Val Acc: 0.5100\n"
     ]
    },
    {
     "name": "stderr",
     "output_type": "stream",
     "text": [
      "Epoch 18/20 - Training: 100%|██████████| 3750/3750 [12:50<00:00,  4.87it/s]\n"
     ]
    },
    {
     "name": "stdout",
     "output_type": "stream",
     "text": [
      "Epoch [18/20], Train Loss: 0.1444, Train Acc: 0.9562, Val Loss: 4.5325, Val Acc: 0.5211\n"
     ]
    },
    {
     "name": "stderr",
     "output_type": "stream",
     "text": [
      "Epoch 19/20 - Training: 100%|██████████| 3750/3750 [13:31<00:00,  4.62it/s]\n"
     ]
    },
    {
     "name": "stdout",
     "output_type": "stream",
     "text": [
      "Epoch [19/20], Train Loss: 0.1383, Train Acc: 0.9577, Val Loss: 4.5938, Val Acc: 0.5207\n"
     ]
    },
    {
     "name": "stderr",
     "output_type": "stream",
     "text": [
      "Epoch 20/20 - Training: 100%|██████████| 3750/3750 [12:49<00:00,  4.87it/s]\n"
     ]
    },
    {
     "name": "stdout",
     "output_type": "stream",
     "text": [
      "Epoch [20/20], Train Loss: 0.1259, Train Acc: 0.9617, Val Loss: 4.5153, Val Acc: 0.5214\n",
      "Best Validation Accuracy: 0.5266\n",
      "Test Accuracy: 0.5214\n",
      "\n",
      "Comparison of Test Accuracies:\n",
      "Scatter plot model test accuracy: 0.5126\n",
      "Trajectory plot model test accuracy: 0.5214\n"
     ]
    }
   ],
   "source": [
    "import os\n",
    "import torch\n",
    "import torchvision.transforms as transforms\n",
    "from torchvision import models\n",
    "from torch.utils.data import Dataset, DataLoader\n",
    "from sklearn.model_selection import train_test_split\n",
    "import numpy as np\n",
    "from tqdm import tqdm\n",
    "from PIL import Image\n",
    "import time\n",
    "import matplotlib.pyplot as plt\n",
    "import seaborn as sns\n",
    "from sklearn.metrics import confusion_matrix\n",
    "\n",
    "# 指定 GPU 索引（假设选择 GPU 0）\n",
    "GPU_INDEX = 1\n",
    "\n",
    "# 检查 GPU 是否可用并设置设备\n",
    "if not torch.cuda.is_available():\n",
    "    raise RuntimeError(\"CUDA is not available. Please enable a GPU.\")\n",
    "\n",
    "device = torch.device(f\"cuda:{GPU_INDEX}\")\n",
    "torch.cuda.set_device(GPU_INDEX)\n",
    "print(f\"Using device: {device}\")\n",
    "\n",
    "# 数据加载\n",
    "class ImageDataset(Dataset):\n",
    "    def __init__(self, file_paths, labels, transform=None):\n",
    "        self.file_paths = file_paths\n",
    "        self.labels = labels\n",
    "        self.transform = transform\n",
    "\n",
    "    def __len__(self):\n",
    "        return len(self.file_paths)\n",
    "\n",
    "    def __getitem__(self, idx):\n",
    "        img_path = self.file_paths[idx]\n",
    "        label = self.labels[idx]\n",
    "        image = Image.open(img_path).convert(\"RGB\")\n",
    "\n",
    "        if self.transform:\n",
    "            image = self.transform(image)\n",
    "\n",
    "        return image, label\n",
    "\n",
    "def load_image_paths(folder, plot_type='scatter_plots', limit_per_class=1000):\n",
    "    file_paths = []\n",
    "    labels = []\n",
    "    label = 0  # 为每个发射机分配标签\n",
    "    class_count = {}\n",
    "\n",
    "    for tx_id in os.listdir(folder):\n",
    "        tx_folder = os.path.join(folder, tx_id)\n",
    "        if os.path.isdir(tx_folder):\n",
    "            plot_folder = os.path.join(tx_folder, plot_type)\n",
    "            if os.path.exists(plot_folder):\n",
    "                tx_files = [f for f in os.listdir(plot_folder) if f.endswith('.png')]\n",
    "                \n",
    "                # 随机抽取每类数据集中的图片\n",
    "                tx_files = np.random.choice(tx_files, min(limit_per_class, len(tx_files)), replace=False)\n",
    "\n",
    "                for filename in tx_files:\n",
    "                    file_paths.append(os.path.join(plot_folder, filename))\n",
    "                    labels.append(label)\n",
    "\n",
    "                # 统计每个类的图片数量\n",
    "                class_count[label] = len(tx_files)\n",
    "\n",
    "            label += 1\n",
    "\n",
    "    # 打印每个类的图片数量\n",
    "    print(f\"Total classes: {len(class_count)}\")\n",
    "    for lbl, count in class_count.items():\n",
    "        print(f\"Class {lbl}: {count} images\")\n",
    "\n",
    "    return file_paths, labels, class_count\n",
    "\n",
    "# 模型构建\n",
    "def build_resnet_model(num_classes):\n",
    "    model = models.resnet18(weights=models.ResNet18_Weights.DEFAULT)\n",
    "    # 替换最后一层\n",
    "    model.fc = torch.nn.Linear(model.fc.in_features, num_classes)\n",
    "    return model\n",
    "\n",
    "# 训练和评估\n",
    "def train_and_evaluate_model(model, train_loader, val_loader, test_loader, device, epochs=20, lr=0.001, early_stopping_patience=5):\n",
    "    criterion = torch.nn.CrossEntropyLoss()\n",
    "    optimizer = torch.optim.Adam(model.parameters(), lr=lr)\n",
    "\n",
    "    model = model.to(device)\n",
    "    best_val_acc = 0\n",
    "    best_model = None\n",
    "    train_losses, val_losses = [], []\n",
    "    early_stop_counter = 0\n",
    "    results = []\n",
    "\n",
    "    for epoch in range(epochs):\n",
    "        model.train()\n",
    "        train_loss = 0\n",
    "        correct, total = 0, 0\n",
    "\n",
    "        # Training loop\n",
    "        for images, labels in tqdm(train_loader, desc=f\"Epoch {epoch+1}/{epochs} - Training\"):\n",
    "            images, labels = images.to(device), labels.to(device)\n",
    "            optimizer.zero_grad()\n",
    "            outputs = model(images)\n",
    "            loss = criterion(outputs, labels)\n",
    "            loss.backward()\n",
    "            optimizer.step()\n",
    "\n",
    "            train_loss += loss.item()\n",
    "            _, predicted = torch.max(outputs, 1)\n",
    "            total += labels.size(0)\n",
    "            correct += (predicted == labels).sum().item()\n",
    "\n",
    "        train_acc = correct / total\n",
    "        train_losses.append(train_loss / len(train_loader))\n",
    "\n",
    "        # Validation loop\n",
    "        model.eval()\n",
    "        val_loss = 0\n",
    "        correct, total = 0, 0\n",
    "\n",
    "        with torch.no_grad():\n",
    "            for images, labels in val_loader:\n",
    "                images, labels = images.to(device), labels.to(device)\n",
    "                outputs = model(images)\n",
    "                loss = criterion(outputs, labels)\n",
    "\n",
    "                val_loss += loss.item()\n",
    "                _, predicted = torch.max(outputs, 1)\n",
    "                total += labels.size(0)\n",
    "                correct += (predicted == labels).sum().item()\n",
    "\n",
    "        val_acc = correct / total\n",
    "        val_losses.append(val_loss / len(val_loader))\n",
    "\n",
    "        # 输出当前训练信息\n",
    "        results.append(f\"Epoch [{epoch+1}/{epochs}], Train Loss: {train_losses[-1]:.4f}, Train Acc: {train_acc:.4f}, \"\n",
    "                       f\"Val Loss: {val_losses[-1]:.4f}, Val Acc: {val_acc:.4f}\")\n",
    "\n",
    "        # 早停机制\n",
    "        if val_acc > best_val_acc:\n",
    "            best_val_acc = val_acc\n",
    "            best_model = model.state_dict()\n",
    "            early_stop_counter = 0  # reset counter if validation accuracy improves\n",
    "        else:\n",
    "            early_stop_counter += 1\n",
    "            if early_stop_counter >= early_stopping_patience:\n",
    "                print(f\"Early stopping at epoch {epoch+1}\")\n",
    "                break\n",
    "\n",
    "    # 加载最佳模型\n",
    "    if best_model is not None:\n",
    "        model.load_state_dict(best_model)\n",
    "\n",
    "    # Test loop\n",
    "    model.eval()\n",
    "    correct, total = 0, 0\n",
    "    with torch.no_grad():\n",
    "        for images, labels in test_loader:\n",
    "            images, labels = images.to(device), labels.to(device)\n",
    "            outputs = model(images)\n",
    "            _, predicted = torch.max(outputs, 1)\n",
    "            total += labels.size(0)\n",
    "            correct += (predicted == labels).sum().item()\n",
    "\n",
    "    test_acc = correct / total\n",
    "    results.append(f\"Test Accuracy: {test_acc:.4f}\")\n",
    "    print(f\"Test Accuracy: {test_acc:.4f}\")\n",
    "\n",
    "    return model, results, test_acc\n",
    "\n",
    "# 绘制混淆矩阵\n",
    "def plot_confusion_matrix(model, test_loader, device, class_names, save_path):\n",
    "    model.eval()\n",
    "    all_labels = []\n",
    "    all_preds = []\n",
    "\n",
    "    with torch.no_grad():\n",
    "        for images, labels in test_loader:\n",
    "            images, labels = images.to(device), labels.to(device)\n",
    "            outputs = model(images)\n",
    "            _, predicted = torch.max(outputs, 1)\n",
    "            all_labels.extend(labels.cpu().numpy())\n",
    "            all_preds.extend(predicted.cpu().numpy())\n",
    "\n",
    "    cm = confusion_matrix(all_labels, all_preds)\n",
    "    plt.figure(figsize=(10, 7))\n",
    "    sns.heatmap(cm, annot=True, fmt=\"d\", cmap=\"Blues\", xticklabels=class_names, yticklabels=class_names)\n",
    "    plt.xlabel('Predicted')\n",
    "    plt.ylabel('True')\n",
    "    plt.title('Confusion Matrix')\n",
    "    plt.savefig(save_path)\n",
    "    plt.close()\n",
    "\n",
    "# 比较训练效果\n",
    "def compare_scatter_trajectory_training(folder, batch_size=32, epochs=20, lr=0.001, limit_per_class=1000):\n",
    "    print(\"Loading scatter plot images...\")\n",
    "    scatter_paths, scatter_labels, scatter_class_count = load_image_paths(folder, plot_type='scatter_plots', limit_per_class=limit_per_class)\n",
    "    print(\"Loading trajectory plot images...\")\n",
    "    trajectory_paths, trajectory_labels, trajectory_class_count = load_image_paths(folder, plot_type='trajectory_plots', limit_per_class=limit_per_class)\n",
    "\n",
    "    # 数据集分割\n",
    "    scatter_train_paths, scatter_test_paths, scatter_train_labels, scatter_test_labels = train_test_split(\n",
    "        scatter_paths, scatter_labels, test_size=0.2, random_state=42\n",
    "    )\n",
    "    trajectory_train_paths, trajectory_test_paths, trajectory_train_labels, trajectory_test_labels = train_test_split(\n",
    "        trajectory_paths, trajectory_labels, test_size=0.2, random_state=42\n",
    "    )\n",
    "\n",
    "    # 数据预处理\n",
    "    transform = transforms.Compose([\n",
    "        transforms.Resize((224, 224)),\n",
    "        transforms.ToTensor(),\n",
    "        transforms.Normalize(mean=[0.485, 0.456, 0.406], std=[0.229, 0.224, 0.225])\n",
    "    ])\n",
    "\n",
    "    # 构造数据集和数据加载器\n",
    "    scatter_train_dataset = ImageDataset(scatter_train_paths, scatter_train_labels, transform)\n",
    "    scatter_test_dataset = ImageDataset(scatter_test_paths, scatter_test_labels, transform)\n",
    "    trajectory_train_dataset = ImageDataset(trajectory_train_paths, trajectory_train_labels, transform)\n",
    "    trajectory_test_dataset = ImageDataset(trajectory_test_paths, trajectory_test_labels, transform)\n",
    "\n",
    "    scatter_train_loader = DataLoader(scatter_train_dataset, batch_size=batch_size, shuffle=True)\n",
    "    scatter_test_loader = DataLoader(scatter_test_dataset, batch_size=batch_size, shuffle=False)\n",
    "    trajectory_train_loader = DataLoader(trajectory_train_dataset, batch_size=batch_size, shuffle=True)\n",
    "    trajectory_test_loader = DataLoader(trajectory_test_dataset, batch_size=batch_size, shuffle=False)\n",
    "\n",
    "    # 获取类别数量\n",
    "    num_classes = len(set(scatter_labels))\n",
    "\n",
    "    # 获取每类图片数量\n",
    "    scatter_class_sizes = list(scatter_class_count.values())\n",
    "    trajectory_class_sizes = list(trajectory_class_count.values())\n",
    "\n",
    "    # 获取当前时间戳，用于创建文件夹\n",
    "    timestamp = time.strftime(\"%Y%m%d-%H%M%S\", time.localtime())\n",
    "    \n",
    "    # 创建文件夹\n",
    "    output_dir = f\"{timestamp}-{len(scatter_class_sizes)}classes\"\n",
    "    os.makedirs(output_dir, exist_ok=True)\n",
    "\n",
    "    # 创建和训练散点图模型\n",
    "    print(\"\\nTraining scatter plot model...\")\n",
    "    scatter_model = build_resnet_model(num_classes)\n",
    "    scatter_model, scatter_results, scatter_test_acc = train_and_evaluate_model(\n",
    "        scatter_model, scatter_train_loader, scatter_test_loader, scatter_test_loader, device, epochs, lr\n",
    "    )\n",
    "\n",
    "    # 绘制并保存混淆矩阵\n",
    "    plot_confusion_matrix(scatter_model, scatter_test_loader, device, scatter_class_sizes, os.path.join(output_dir, 'scatter_confusion_matrix.png'))\n",
    "\n",
    "    # 保存训练结果\n",
    "    with open(os.path.join(output_dir, 'scatter_training_results.txt'), 'w') as f:\n",
    "        for line in scatter_results:\n",
    "            f.write(line + '\\n')\n",
    "\n",
    "    # 保存模型\n",
    "    torch.save(scatter_model.state_dict(), os.path.join(output_dir, 'scatter_best_model.pth'))\n",
    "\n",
    "    # 构建并训练轨迹图模型\n",
    "    print(\"\\nTraining trajectory plot model...\")\n",
    "    trajectory_model = build_resnet_model(num_classes)\n",
    "    trajectory_model, trajectory_results, trajectory_test_acc = train_and_evaluate_model(\n",
    "        trajectory_model, trajectory_train_loader, trajectory_test_loader, trajectory_test_loader, device, epochs, lr\n",
    "    )\n",
    "\n",
    "    # 绘制并保存混淆矩阵\n",
    "    plot_confusion_matrix(trajectory_model, trajectory_test_loader, device, trajectory_class_sizes, os.path.join(output_dir, 'trajectory_confusion_matrix.png'))\n",
    "\n",
    "    # 保存训练结果\n",
    "    with open(os.path.join(output_dir, 'trajectory_training_results.txt'), 'w') as f:\n",
    "        for line in trajectory_results:\n",
    "            f.write(line + '\\n')\n",
    "\n",
    "    # 保存模型\n",
    "    torch.save(trajectory_model.state_dict(), os.path.join(output_dir, 'trajectory_best_model.pth'))\n",
    "\n",
    "    # 输出比较结果\n",
    "    print(\"\\nComparison of Test Accuracies:\")\n",
    "    print(f\"Scatter plot model test accuracy: {scatter_test_acc:.4f}\")\n",
    "    print(f\"Trajectory plot model test accuracy: {trajectory_test_acc:.4f}\")\n",
    "\n",
    "# 使用示例：比较散点图和轨迹图的训练效果\n",
    "folder = \"../../IQ_signal_plots\"  # 图像存储的文件夹\n",
    "compare_scatter_trajectory_training(folder, batch_size=32, epochs=20, lr=0.001, limit_per_class=1000)\n"
   ]
  }
 ],
 "metadata": {
  "kernelspec": {
   "display_name": "MW-RFF-4080",
   "language": "python",
   "name": "python3"
  },
  "language_info": {
   "codemirror_mode": {
    "name": "ipython",
    "version": 3
   },
   "file_extension": ".py",
   "mimetype": "text/x-python",
   "name": "python",
   "nbconvert_exporter": "python",
   "pygments_lexer": "ipython3",
   "version": "3.10.16"
  }
 },
 "nbformat": 4,
 "nbformat_minor": 2
}
