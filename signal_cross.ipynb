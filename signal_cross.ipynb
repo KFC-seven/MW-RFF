{
 "cells": [
  {
   "cell_type": "code",
   "execution_count": 1,
   "id": "38d64943",
   "metadata": {},
   "outputs": [
    {
     "name": "stdout",
     "output_type": "stream",
     "text": [
      "第0个文件（dev0.mat）的数据 shape (处理后): (6720, 320)\n",
      "第1个文件（dev1.mat）的数据 shape (处理后): (6400, 320)\n",
      "第2个文件（dev10.mat）的数据 shape (处理后): (8640, 320)\n",
      "第3个文件（dev11.mat）的数据 shape (处理后): (7680, 320)\n",
      "第4个文件（dev13.mat）的数据 shape (处理后): (7360, 320)\n",
      "第5个文件（dev14.mat）的数据 shape (处理后): (6080, 320)\n",
      "第6个文件（dev15.mat）的数据 shape (处理后): (5440, 320)\n",
      "第7个文件（dev16.mat）的数据 shape (处理后): (12800, 320)\n",
      "第8个文件（dev17.mat）的数据 shape (处理后): (9280, 320)\n",
      "第9个文件（dev18.mat）的数据 shape (处理后): (3200, 320)\n",
      "第10个文件（dev19.mat）的数据 shape (处理后): (4480, 320)\n",
      "第11个文件（dev2.mat）的数据 shape (处理后): (6080, 320)\n",
      "第12个文件（dev20.mat）的数据 shape (处理后): (5440, 320)\n",
      "第13个文件（dev3.mat）的数据 shape (处理后): (5440, 320)\n",
      "第14个文件（dev4.mat）的数据 shape (处理后): (6400, 320)\n",
      "第15个文件（dev5.mat）的数据 shape (处理后): (5120, 320)\n",
      "第16个文件（dev6.mat）的数据 shape (处理后): (5440, 320)\n",
      "第17个文件（dev7.mat）的数据 shape (处理后): (8640, 320)\n",
      "第18个文件（dev8.mat）的数据 shape (处理后): (7360, 320)\n",
      "第19个文件（dev9.mat）的数据 shape (处理后): (7040, 320)\n"
     ]
    }
   ],
   "source": [
    "import os\n",
    "import numpy as np\n",
    "from scipy.io import loadmat\n",
    "\n",
    "folder_path = r\"..\\los_data\"  # 你的文件夹路径\n",
    "file_list = [f for f in os.listdir(folder_path) if f.endswith('.mat')]  # 找到所有mat文件\n",
    "file_list = sorted(file_list)  # 按文件名排序，比如 dev0.mat, dev1.mat, dev2.mat\n",
    "\n",
    "data = []  # 用来存储每个mat文件中的 'data_Ineed'（转置后的）\n",
    "\n",
    "for i, file_name in enumerate(file_list):\n",
    "    full_path = os.path.join(folder_path, file_name)\n",
    "    mat_contents = loadmat(full_path)\n",
    "    if 'data_Ineed' in mat_contents:\n",
    "        data_ineed = mat_contents['data_Ineed'].T  # 加上 .T 转置！\n",
    "        \n",
    "        # 数据格式转化，按 320 信号一块进行处理\n",
    "        num_signals, num_samples = data_ineed.shape\n",
    "        \n",
    "        # 确保每 320 个信号作为一个大块进行处理\n",
    "        block_size = 320\n",
    "        num_blocks = num_signals // block_size  # 计算可以完整分成多少块\n",
    "\n",
    "        # 舍去多余的信号\n",
    "        data_ineed = data_ineed[:num_blocks * block_size, :]\n",
    "        \n",
    "        # 将信号数据重构：每 320 个信号为一个大块\n",
    "        reshaped_data = data_ineed.reshape((block_size, num_blocks * num_samples)).T  # 转置回原来的格式\n",
    "\n",
    "        data.append(reshaped_data)\n",
    "    else:\n",
    "        print(f\"Warning: {file_name} 里没有 'data_Ineed' 变量！\")\n",
    "\n",
    "# 打印检查\n",
    "for i, d in enumerate(data):\n",
    "    print(f\"第{i}个文件（{file_list[i]}）的数据 shape (处理后): {d.shape}\")\n"
   ]
  },
  {
   "cell_type": "code",
   "execution_count": 2,
   "id": "b09b00e4",
   "metadata": {},
   "outputs": [
    {
     "name": "stdout",
     "output_type": "stream",
     "text": [
      "原始数据和加噪声数据示例：\n",
      "原始信号样本（第一个信号）：[-0.01318091-0.00598181j  0.00031621-0.0016488j  -0.00036697+0.00361327j\n",
      "  0.00384329-0.00022767j -0.00345926+0.00189173j  0.00564349-0.00026191j\n",
      " -0.00387471-0.00283339j  0.00168507-0.00295063j  0.00239012-0.00275673j\n",
      " -0.00055844-0.00026162j]\n",
      "加噪声信号样本（第一个信号）：[ 0.22330929-0.00598181j  0.9502081 -0.0016488j   0.1488947 +0.00361327j\n",
      " -0.99794336-0.00022767j -0.76549996+0.00189173j -0.24396935-0.00026191j\n",
      "  0.82015512-0.00283339j -1.66583006-0.00295063j  1.90932464-0.00275673j\n",
      " -0.3093411 -0.00026162j]\n"
     ]
    }
   ],
   "source": [
    "import numpy as np\n",
    "\n",
    "# 假设data是从之前的加载代码中获取的\n",
    "# data = <从前一部分代码中加载的数据>\n",
    "\n",
    "SNR_dB = 0  # 设定信噪比（dB）\n",
    "\n",
    "noisy_data = []  # 用来存储加噪声后的数据\n",
    "\n",
    "for d in data:\n",
    "    # 计算信号的标准差\n",
    "    signal_std = np.std(d)\n",
    "    \n",
    "    # 计算噪声的标准差，根据信噪比（SNR）\n",
    "    noise_std = signal_std / (10 ** (SNR_dB / 20))  # 根据 SNR(dB) 计算噪声标准差\n",
    "    \n",
    "    # 生成高斯噪声并加到原信号上\n",
    "    noise = np.random.normal(0, noise_std, d.shape)  # 均值为0，标准差为噪声标准差\n",
    "    noisy_signal = d + noise  # 添加噪声\n",
    "    \n",
    "    noisy_data.append(noisy_signal)  # 保存加噪声后的信号\n",
    "\n",
    "# 打印检查加噪声后的数据\n",
    "print(\"原始数据和加噪声数据示例：\")\n",
    "print(f\"原始信号样本（第一个信号）：{data[0][0][:10]}\")  # 打印前10个采样点\n",
    "print(f\"加噪声信号样本（第一个信号）：{noisy_data[0][0][:10]}\")  # 打印前10个采样点\n"
   ]
  },
  {
   "cell_type": "code",
   "execution_count": null,
   "id": "9b23f813",
   "metadata": {},
   "outputs": [],
   "source": [
    "import numpy as np\n",
    "\n",
    "def compute_doppler_shift(v, fc):\n",
    "    \"\"\"\n",
    "    根据移动速度 v (m/s) 和载波频率 fc (Hz) 计算多普勒频移\n",
    "    \"\"\"\n",
    "    c = 3e8  # 光速 m/s\n",
    "    return (v / c) * fc\n",
    "\n",
    "def add_doppler_shift(signal, fd, fs):\n",
    "    \"\"\"\n",
    "    给IQ信号加多普勒频移\n",
    "    signal: shape (num_channels, num_samples)，复数IQ信号\n",
    "    fd: 多普勒频移 (Hz)\n",
    "    fs: 采样率 (Hz)\n",
    "    \"\"\"\n",
    "    num_channels, num_samples = signal.shape\n",
    "    t = np.arange(num_samples) / fs  # 时间轴\n",
    "    doppler_phase = np.exp(1j * 2 * np.pi * fd * t)  # 复指数\n",
    "    return signal * doppler_phase\n",
    "\n",
    "# 例子\n",
    "fs = 20e6  # 采样率，比如1 MHz\n",
    "fc = 2.4e9  # 载波频率，比如2.4 GHz Wi-Fi\n",
    "v = 120  # 移动速度，比如30 m/s (~108 km/h)\n",
    "\n",
    "fd = compute_doppler_shift(v, fc)  # 先计算多普勒频移\n",
    "print(f\"计算得到的多普勒频移 fd = {fd:.2f} Hz\")\n",
    "\n",
    "# 假设 data 是你之前读出来的list，每个是 shape (信号数量, 采样点数)\n",
    "data_with_doppler = []\n",
    "for sig in noisy_data:\n",
    "    shifted_sig = add_doppler_shift(sig, fd, fs)\n",
    "    data_with_doppler.append(shifted_sig)\n",
    "\n",
    "print(\"添加多普勒频移后的信号：\")\n",
    "print(data_with_doppler)\n"
   ]
  },
  {
   "cell_type": "code",
   "execution_count": 4,
   "id": "01de1c3b",
   "metadata": {},
   "outputs": [
    {
     "name": "stdout",
     "output_type": "stream",
     "text": [
      "最终数据 shape: torch.Size([135040, 320])\n",
      "最终标签 shape: torch.Size([135040])\n",
      "训练集大小: 108032\n",
      "验证集大小: 27008\n"
     ]
    }
   ],
   "source": [
    "import torch\n",
    "import numpy as np\n",
    "from torch.utils.data import DataLoader, TensorDataset, random_split\n",
    "\n",
    "# 假设 data 已经是你的读取好的列表，每个元素是 (总信号数量, 320)\n",
    "\n",
    "all_data = []\n",
    "all_labels = []\n",
    "\n",
    "for device_idx, device_signals in enumerate(noisy_data):\n",
    "    # device_signals: (总信号数量, 320)，比如 (7014, 320)\n",
    "    device_labels = np.full((device_signals.shape[0],), device_idx)  # 每条信号的标签都是设备编号\n",
    "    \n",
    "    all_data.append(torch.tensor(device_signals, dtype=torch.float32))\n",
    "    all_labels.append(torch.tensor(device_labels, dtype=torch.long))\n",
    "\n",
    "# 把20个设备的数据和标签拼接在一起\n",
    "all_data = torch.cat(all_data, dim=0)  # (总样本数, 320)\n",
    "all_labels = torch.cat(all_labels, dim=0)  # (总样本数, )\n",
    "\n",
    "print(f\"最终数据 shape: {all_data.shape}\")\n",
    "print(f\"最终标签 shape: {all_labels.shape}\")\n",
    "\n",
    "# 构建 PyTorch Dataset\n",
    "dataset = TensorDataset(all_data, all_labels)\n",
    "\n",
    "# 划分训练集和验证集，假设验证集占20%\n",
    "train_size = int(0.8 * len(dataset))  # 80% 训练集\n",
    "val_size = len(dataset) - train_size  # 剩下的 20% 验证集\n",
    "\n",
    "# 使用 random_split 划分数据集\n",
    "train_dataset, val_dataset = random_split(dataset, [train_size, val_size])\n",
    "\n",
    "# 打印一下数据集的基本信息\n",
    "print(f\"训练集大小: {len(train_dataset)}\")\n",
    "print(f\"验证集大小: {len(val_dataset)}\")\n"
   ]
  },
  {
   "cell_type": "code",
   "execution_count": null,
   "id": "c6dd3f17",
   "metadata": {},
   "outputs": [],
   "source": [
    "import os\n",
    "import torch\n",
    "import torch.nn as nn\n",
    "import torch.optim as optim\n",
    "import matplotlib.pyplot as plt\n",
    "import numpy as np\n",
    "from sklearn.metrics import confusion_matrix\n",
    "import seaborn as sns\n",
    "from torch.utils.data import DataLoader, TensorDataset\n",
    "from datetime import datetime\n",
    "from tqdm import tqdm  # 导入tqdm库来显示进度条\n",
    "\n",
    "# 假设 SNR_dB 和 fd 已经在之前定义\n",
    "# SNR_dB = 0  # 设定信噪比（dB）\n",
    "# fd = 5  # 多普勒频移参数，这里只是举例\n",
    "\n",
    "\n",
    "# 初始化模型参数\n",
    "input_dim = 320  # 每个信号有320个采样点\n",
    "num_heads = 3  # 注意力头数\n",
    "num_layers = 2  # Transformer编码器层数\n",
    "num_classes = 20  # 有20个设备\n",
    "dropout = 0.4  # Dropout率\n",
    "\n",
    "# 训练参数\n",
    "batch_size = 256\n",
    "num_epochs = 100  # 训练轮数\n",
    "learning_rate = 1e-4\n",
    "patience = 5  # Early stopping 的容忍期（最多允许多少个epoch验证集性能没有改善）\n",
    "\n",
    "# 训练过程的时间戳和文件夹名\n",
    "timestamp = datetime.now().strftime(\"%Y-%m-%d_%H-%M-%S\")\n",
    "\n",
    "# 检查 SNR_dB 和 fd 是否已经定义，如果没有，则设置为 \"no\"\n",
    "SNR_dB = globals().get('SNR_dB', 'no')\n",
    "fd = globals().get('fd', 'no')\n",
    "\n",
    "# 手动设置 script_name（例如使用固定的文件名）\n",
    "script_name = \"cross\"\n",
    "\n",
    "\n",
    "# 构造文件夹名\n",
    "folder_name = f\"{timestamp}_{script_name}_SNR{SNR_dB}dB_fd{fd}_classes_{num_classes}_Transformer\"\n",
    "save_folder = os.path.join(os.getcwd(), \"training_results\", folder_name)\n",
    "\n",
    "# 创建保存结果的文件夹\n",
    "os.makedirs(save_folder, exist_ok=True)\n",
    "\n",
    "\n",
    "# 创建保存结果的文件夹\n",
    "os.makedirs(save_folder, exist_ok=True)\n",
    "\n",
    "# 打开结果文件，保存训练的总结\n",
    "results_file = os.path.join(save_folder, \"results.txt\")\n",
    "with open(results_file, \"w\") as f:\n",
    "    f.write(f\"=== Experiment Summary ===\\n\")\n",
    "    f.write(f\"Feature Folder: trajectory_plots\\n\")\n",
    "    f.write(f\"Timestamp: {timestamp}\\n\")\n",
    "    f.write(f\"Total Classes: {num_classes}\\n\")\n",
    "    f.write(f\"SNR: {SNR_dB} dB\\n\")\n",
    "    f.write(f\"fd (Doppler shift): {fd} Hz\\n\")\n",
    "\n",
    "# 定义SignalTransformer模型\n",
    "class SignalTransformer(nn.Module):\n",
    "    def __init__(self, input_dim, num_heads, num_layers, num_classes, dropout=0.1):\n",
    "        super(SignalTransformer, self).__init__()\n",
    "        \n",
    "        # 输入数据的嵌入层\n",
    "        self.embedding = nn.Linear(input_dim, input_dim)  # 将输入信号的维度转换为适合Transformer的维度\n",
    "        \n",
    "        # Transformer编码器层\n",
    "        self.transformer = nn.Transformer(\n",
    "            d_model=input_dim,  # 输入特征维度\n",
    "            nhead=num_heads,  # 多头注意力机制的头数\n",
    "            num_encoder_layers=num_layers,  # 编码器层数\n",
    "            dropout=dropout,  # Dropout率\n",
    "            batch_first=True  # 设置为True以支持(batch_size, seq_len, input_dim)输入\n",
    "        )\n",
    "        \n",
    "        # 最后的分类层，将Transformer的输出映射到类别\n",
    "        self.fc = nn.Linear(input_dim, num_classes)  # 分类输出层\n",
    "    \n",
    "    def forward(self, x):\n",
    "        # Transformer输入要求的格式是 (batch_size, seq_len, input_dim)\n",
    "        x = self.embedding(x)  # 变为 (batch_size, seq_len, input_dim)\n",
    "        x = self.transformer(x, x)  # (batch_size, seq_len, input_dim)\n",
    "        \n",
    "        # 确认x的维度\n",
    "        if len(x.shape) == 3:\n",
    "            x = x[:, -1, :]  # 取序列最后一个时间步的输出 (batch_size, input_dim)\n",
    "        elif len(x.shape) == 2:\n",
    "            # 如果是二维的，则直接使用输出 (batch_size, input_dim)\n",
    "            pass\n",
    "            \n",
    "        x = self.fc(x)  # (batch_size, num_classes)\n",
    "        return x\n",
    "\n",
    "\n",
    "# 创建数据加载器\n",
    "train_loader = DataLoader(train_dataset, batch_size=batch_size, shuffle=True)\n",
    "val_loader = DataLoader(val_dataset, batch_size=batch_size, shuffle=False) \n",
    "\n",
    "# 初始化模型\n",
    "model = SignalTransformer(input_dim=input_dim, num_heads=num_heads, num_layers=num_layers, num_classes=num_classes, dropout=dropout)\n",
    "\n",
    "# 损失函数和优化器\n",
    "criterion = nn.CrossEntropyLoss()  # 交叉熵损失\n",
    "optimizer = optim.Adam(model.parameters(), lr=learning_rate, weight_decay=1e-4)\n",
    "\n",
    "\n",
    "# 用来记录训练过程的损失和准确度\n",
    "train_losses = []\n",
    "val_losses = []\n",
    "train_accuracies = []\n",
    "val_accuracies = []\n",
    "\n",
    "# Early stopping 变量\n",
    "best_val_loss = float('inf')\n",
    "patience_counter = 0\n",
    "\n",
    "# 训练过程\n",
    "from tqdm import tqdm\n",
    "\n",
    "# 训练过程\n",
    "for epoch in range(num_epochs):\n",
    "    model.train()\n",
    "    running_train_loss = 0.0\n",
    "    correct_train = 0\n",
    "    total_train = 0\n",
    "    \n",
    "    # 使用 tqdm 显示训练进度条\n",
    "    with tqdm(train_loader, desc=f\"Epoch {epoch+1}/{num_epochs}\", unit=\"batch\") as tepoch:\n",
    "        for batch_idx, (inputs, labels) in enumerate(tepoch):\n",
    "            optimizer.zero_grad()\n",
    "            \n",
    "            # 前向传播\n",
    "            outputs = model(inputs)\n",
    "            \n",
    "            # 计算损失\n",
    "            loss = criterion(outputs, labels)\n",
    "            loss.backward()\n",
    "            optimizer.step()\n",
    "            \n",
    "            running_train_loss += loss.item()\n",
    "            \n",
    "            # 计算训练准确度\n",
    "            _, predicted = torch.max(outputs, 1)\n",
    "            total_train += labels.size(0)\n",
    "            correct_train += (predicted == labels).sum().item()\n",
    "\n",
    "            # 计算训练集准确率\n",
    "            train_accuracy = 100 * correct_train / total_train\n",
    "            # 更新进度条，显示训练损失和准确率\n",
    "            tepoch.set_postfix(train_loss=running_train_loss / (batch_idx + 1), train_accuracy=train_accuracy)\n",
    "\n",
    "    # 计算训练集每个epoch的损失和准确度\n",
    "    epoch_train_loss = running_train_loss / len(train_loader)\n",
    "    epoch_train_acc = 100 * correct_train / total_train\n",
    "    train_losses.append(epoch_train_loss)\n",
    "    train_accuracies.append(epoch_train_acc)\n",
    "\n",
    "    # 验证过程\n",
    "    model.eval()\n",
    "    running_val_loss = 0.0\n",
    "    correct_val = 0\n",
    "    total_val = 0\n",
    "    \n",
    "    with torch.no_grad():\n",
    "        # 使用 tqdm 显示验证进度条\n",
    "        with tqdm(val_loader, desc=\"Validation\", unit=\"batch\") as vepoch:\n",
    "            for val_inputs, val_labels in vepoch:\n",
    "                val_outputs = model(val_inputs)\n",
    "                val_loss = criterion(val_outputs, val_labels)\n",
    "                running_val_loss += val_loss.item()\n",
    "                _, val_predicted = torch.max(val_outputs, 1)\n",
    "                total_val += val_labels.size(0)\n",
    "                correct_val += (val_predicted == val_labels).sum().item()\n",
    "\n",
    "                # 计算验证集准确率\n",
    "                val_accuracy = 100 * correct_val / total_val\n",
    "                # 更新验证集进度条，显示验证损失和准确率\n",
    "                vepoch.set_postfix(val_loss=running_val_loss / (len(val_loader) + 1), val_accuracy=val_accuracy)\n",
    "\n",
    "    # 计算验证集每个epoch的损失和准确度\n",
    "    epoch_val_loss = running_val_loss / len(val_loader)\n",
    "    epoch_val_acc = 100 * correct_val / total_val\n",
    "    val_losses.append(epoch_val_loss)\n",
    "    val_accuracies.append(epoch_val_acc)\n",
    "\n",
    "    # 打印每个epoch的训练和验证结果\n",
    "    print(f\"Epoch {epoch+1}/{num_epochs}:\")\n",
    "    print(f\"  Train Loss: {epoch_train_loss:.4f}, Train Accuracy: {epoch_train_acc:.2f}%\")\n",
    "    print(f\"  Validation Loss: {epoch_val_loss:.4f}, Validation Accuracy: {epoch_val_acc:.2f}%\")\n",
    "\n",
    "    # 保存训练信息\n",
    "    with open(results_file, \"a\") as f:\n",
    "        f.write(f\"Epoch {epoch+1} | Train Loss: {epoch_train_loss:.4f} | Train Accuracy: {epoch_train_acc:.2f}% | Validation Loss: {epoch_val_loss:.4f} | Validation Accuracy: {epoch_val_acc:.2f}%\\n\")\n",
    "\n",
    "    # Early Stopping 检查\n",
    "    if epoch_val_loss < best_val_loss:\n",
    "        best_val_loss = epoch_val_loss\n",
    "        patience_counter = 0  # 重置计数器\n",
    "    else:\n",
    "        patience_counter += 1  # 验证损失没有改善，增加计数器\n",
    "\n",
    "    # 如果验证损失在连续patience个epoch中没有改善，停止训练\n",
    "    if patience_counter >= patience:\n",
    "        print(f\"Early stopping at epoch {epoch+1} due to no improvement in validation loss.\")\n",
    "        break\n",
    "\n",
    "\n",
    "# 绘制训练和验证损失曲线\n",
    "plt.figure()\n",
    "plt.plot(range(1, len(train_losses) + 1), train_losses, label='Train Loss')\n",
    "plt.plot(range(1, len(val_losses) + 1), val_losses, label='Validation Loss')\n",
    "plt.xlabel('Epoch')\n",
    "plt.ylabel('Loss')\n",
    "plt.title('Training and Validation Loss Curve')\n",
    "plt.legend()\n",
    "plt.savefig(os.path.join(save_folder, \"loss_curve.png\"))\n",
    "plt.close()\n",
    "\n",
    "# 绘制训练和验证准确度曲线\n",
    "plt.figure()\n",
    "plt.plot(range(1, len(train_accuracies) + 1), train_accuracies, label='Train Accuracy')\n",
    "plt.plot(range(1, len(val_accuracies) + 1), val_accuracies, label='Validation Accuracy')\n",
    "plt.xlabel('Epoch')\n",
    "plt.ylabel('Accuracy')\n",
    "plt.title('Training and Validation Accuracy Curve')\n",
    "plt.legend()\n",
    "plt.savefig(os.path.join(save_folder, \"accuracy_curve.png\"))\n",
    "plt.close()\n",
    "\n",
    "# ===== 生成并保存混淆矩阵 =====\n",
    "\n",
    "# 再次在验证集上跑一次，收集所有预测和标签\n",
    "model.eval()\n",
    "all_preds = []\n",
    "all_labels = []\n",
    "\n",
    "with torch.no_grad():\n",
    "    for val_inputs, val_labels in val_loader:\n",
    "        val_outputs = model(val_inputs)\n",
    "        _, val_predicted = torch.max(val_outputs, 1)\n",
    "        all_preds.extend(val_predicted.cpu().numpy())\n",
    "        all_labels.extend(val_labels.cpu().numpy())\n",
    "\n",
    "# 计算混淆矩阵\n",
    "cm = confusion_matrix(all_labels, all_preds)\n",
    "\n",
    "# 绘制混淆矩阵\n",
    "plt.figure(figsize=(10, 8))\n",
    "sns.heatmap(cm, annot=True, fmt='d', cmap='Blues', cbar=True)\n",
    "plt.title('Confusion Matrix')\n",
    "plt.xlabel('Predicted Label')\n",
    "plt.ylabel('True Label')\n",
    "plt.tight_layout()\n",
    "\n",
    "# 保存混淆矩阵图片\n",
    "confusion_matrix_path = os.path.join(save_folder, \"confusion_matrix.png\")\n",
    "plt.savefig(confusion_matrix_path)\n",
    "plt.close()\n",
    "\n",
    "# 也可以保存混淆矩阵原始数据（比如保存成txt）\n",
    "np.savetxt(os.path.join(save_folder, \"confusion_matrix.txt\"), cm, fmt='%d')\n",
    "\n",
    "print(f\"Confusion matrix saved to {confusion_matrix_path}\")\n",
    "\n",
    "# 打印训练总结\n",
    "with open(results_file, \"a\") as f:\n",
    "    f.write(\"\\n=== Experiment Summary ===\\n\")\n",
    "    f.write(f\"Feature Folder: losdata\\n\")\n",
    "    f.write(f\"Timestamp: {timestamp}\\n\")\n",
    "    f.write(f\"Total Classes: {num_classes}\\n\")\n",
    "    f.write(f\"SNR: {SNR_dB} dB\\n\")\n",
    "    f.write(f\"fd (Doppler shift): {fd} Hz\\n\")\n",
    "    f.write(f\"Best Train Accuracy: {max(train_accuracies):.4f}\\n\")\n",
    "    f.write(f\"Best Val Accuracy: {max(val_accuracies):.4f}\\n\")\n",
    "    f.write(f\"Final Train Accuracy: {train_accuracies[-1]:.4f}\\n\")\n",
    "    f.write(f\"Final Val Accuracy: {val_accuracies[-1]:.4f}\\n\")\n"
   ]
  },
  {
   "cell_type": "code",
   "execution_count": 5,
   "id": "6a5ffb8c",
   "metadata": {},
   "outputs": [],
   "source": [
    "# ==== 数据增强：对训练集添加高斯噪声 ====\n",
    "\n",
    "def add_noise_to_dataset(dataset, noise_std=0.01):\n",
    "    noisy_data = []\n",
    "    noisy_labels = []\n",
    "    for x, y in dataset:\n",
    "        noise = torch.randn_like(x) * noise_std\n",
    "        noisy_x = x + noise\n",
    "        noisy_data.append(noisy_x)\n",
    "        noisy_labels.append(y)\n",
    "    noisy_data = torch.stack(noisy_data)\n",
    "    noisy_labels = torch.tensor(noisy_labels)\n",
    "    return TensorDataset(noisy_data, noisy_labels)\n",
    "\n",
    "train_dataset = add_noise_to_dataset(train_dataset, noise_std=0.01)  # 可调节 std"
   ]
  },
  {
   "cell_type": "code",
   "execution_count": null,
   "id": "705e43b8",
   "metadata": {},
   "outputs": [
    {
     "name": "stdout",
     "output_type": "stream",
     "text": [
      "\n",
      "====== Fold 1/5 ======\n",
      "Training indices: [ 0  1  2  4  5  6  7  8  9 10]\n",
      "Validation indices: [ 3 23 24 35 39 53 70 87 88 90]\n"
     ]
    },
    {
     "name": "stderr",
     "output_type": "stream",
     "text": [
      "Epoch 1/100: 100%|██████████| 338/338 [01:07<00:00,  4.98batch/s, train_accuracy=7.58, train_loss=3.01]\n",
      "Validation: 100%|██████████| 105/105 [00:05<00:00, 19.57batch/s, val_accuracy=6.88, val_loss=2.93]\n"
     ]
    },
    {
     "name": "stdout",
     "output_type": "stream",
     "text": [
      "Epoch 1/100:\n",
      "  Train Loss: 3.0073, Train Accuracy: 7.58%\n",
      "  Validation Loss: 2.9618, Validation Accuracy: 6.88%\n"
     ]
    },
    {
     "name": "stderr",
     "output_type": "stream",
     "text": [
      "Epoch 2/100: 100%|██████████| 338/338 [01:08<00:00,  4.96batch/s, train_accuracy=8.12, train_loss=2.99]\n",
      "Validation: 100%|██████████| 105/105 [00:05<00:00, 19.11batch/s, val_accuracy=9.59, val_loss=2.93]\n"
     ]
    },
    {
     "name": "stdout",
     "output_type": "stream",
     "text": [
      "Epoch 2/100:\n",
      "  Train Loss: 2.9879, Train Accuracy: 8.12%\n",
      "  Validation Loss: 2.9609, Validation Accuracy: 9.59%\n"
     ]
    },
    {
     "name": "stderr",
     "output_type": "stream",
     "text": [
      "Epoch 3/100: 100%|██████████| 338/338 [01:07<00:00,  5.01batch/s, train_accuracy=8.41, train_loss=2.98]\n",
      "Validation: 100%|██████████| 105/105 [00:05<00:00, 18.56batch/s, val_accuracy=9.59, val_loss=2.93]\n"
     ]
    },
    {
     "name": "stdout",
     "output_type": "stream",
     "text": [
      "Epoch 3/100:\n",
      "  Train Loss: 2.9804, Train Accuracy: 8.41%\n",
      "  Validation Loss: 2.9579, Validation Accuracy: 9.59%\n"
     ]
    },
    {
     "name": "stderr",
     "output_type": "stream",
     "text": [
      "Epoch 4/100: 100%|██████████| 338/338 [01:09<00:00,  4.89batch/s, train_accuracy=8.68, train_loss=2.97]\n",
      "Validation: 100%|██████████| 105/105 [00:05<00:00, 17.91batch/s, val_accuracy=9.59, val_loss=2.93]\n"
     ]
    },
    {
     "name": "stdout",
     "output_type": "stream",
     "text": [
      "Epoch 4/100:\n",
      "  Train Loss: 2.9738, Train Accuracy: 8.68%\n",
      "  Validation Loss: 2.9607, Validation Accuracy: 9.59%\n"
     ]
    },
    {
     "name": "stderr",
     "output_type": "stream",
     "text": [
      "Epoch 5/100: 100%|██████████| 338/338 [01:10<00:00,  4.78batch/s, train_accuracy=8.95, train_loss=2.97]\n",
      "Validation: 100%|██████████| 105/105 [00:05<00:00, 18.35batch/s, val_accuracy=9.59, val_loss=2.93]\n"
     ]
    },
    {
     "name": "stdout",
     "output_type": "stream",
     "text": [
      "Epoch 5/100:\n",
      "  Train Loss: 2.9692, Train Accuracy: 8.95%\n",
      "  Validation Loss: 2.9596, Validation Accuracy: 9.59%\n"
     ]
    },
    {
     "name": "stderr",
     "output_type": "stream",
     "text": [
      "Epoch 6/100: 100%|██████████| 338/338 [01:44<00:00,  3.24batch/s, train_accuracy=9.28, train_loss=2.96]\n",
      "Validation: 100%|██████████| 105/105 [00:05<00:00, 18.19batch/s, val_accuracy=12.1, val_loss=2.88]\n"
     ]
    },
    {
     "name": "stdout",
     "output_type": "stream",
     "text": [
      "Epoch 6/100:\n",
      "  Train Loss: 2.9577, Train Accuracy: 9.28%\n",
      "  Validation Loss: 2.9084, Validation Accuracy: 12.13%\n"
     ]
    },
    {
     "name": "stderr",
     "output_type": "stream",
     "text": [
      "Epoch 7/100: 100%|██████████| 338/338 [01:09<00:00,  4.88batch/s, train_accuracy=36.8, train_loss=2.19]\n",
      "Validation: 100%|██████████| 105/105 [00:07<00:00, 14.42batch/s, val_accuracy=67.3, val_loss=1.16]\n"
     ]
    },
    {
     "name": "stdout",
     "output_type": "stream",
     "text": [
      "Epoch 7/100:\n",
      "  Train Loss: 2.1885, Train Accuracy: 36.81%\n",
      "  Validation Loss: 1.1759, Validation Accuracy: 67.34%\n"
     ]
    },
    {
     "name": "stderr",
     "output_type": "stream",
     "text": [
      "Epoch 8/100: 100%|██████████| 338/338 [01:42<00:00,  3.31batch/s, train_accuracy=70.2, train_loss=1.06]\n",
      "Validation: 100%|██████████| 105/105 [00:06<00:00, 16.80batch/s, val_accuracy=78, val_loss=0.781]  \n"
     ]
    },
    {
     "name": "stdout",
     "output_type": "stream",
     "text": [
      "Epoch 8/100:\n",
      "  Train Loss: 1.0615, Train Accuracy: 70.22%\n",
      "  Validation Loss: 0.7888, Validation Accuracy: 77.98%\n"
     ]
    },
    {
     "name": "stderr",
     "output_type": "stream",
     "text": [
      "Epoch 9/100: 100%|██████████| 338/338 [01:11<00:00,  4.71batch/s, train_accuracy=80.5, train_loss=0.682]\n",
      "Validation: 100%|██████████| 105/105 [00:05<00:00, 18.33batch/s, val_accuracy=81.2, val_loss=0.671]\n"
     ]
    },
    {
     "name": "stdout",
     "output_type": "stream",
     "text": [
      "Epoch 9/100:\n",
      "  Train Loss: 0.6815, Train Accuracy: 80.55%\n",
      "  Validation Loss: 0.6769, Validation Accuracy: 81.19%\n"
     ]
    },
    {
     "name": "stderr",
     "output_type": "stream",
     "text": [
      "Epoch 10/100: 100%|██████████| 338/338 [01:15<00:00,  4.51batch/s, train_accuracy=85.7, train_loss=0.489]\n",
      "Validation: 100%|██████████| 105/105 [00:05<00:00, 18.39batch/s, val_accuracy=82.6, val_loss=0.632]\n"
     ]
    },
    {
     "name": "stdout",
     "output_type": "stream",
     "text": [
      "Epoch 10/100:\n",
      "  Train Loss: 0.4895, Train Accuracy: 85.74%\n",
      "  Validation Loss: 0.6377, Validation Accuracy: 82.57%\n"
     ]
    },
    {
     "name": "stderr",
     "output_type": "stream",
     "text": [
      "Epoch 11/100: 100%|██████████| 338/338 [01:06<00:00,  5.09batch/s, train_accuracy=90.2, train_loss=0.334]\n",
      "Validation: 100%|██████████| 105/105 [00:05<00:00, 18.46batch/s, val_accuracy=84.2, val_loss=0.594]\n"
     ]
    },
    {
     "name": "stdout",
     "output_type": "stream",
     "text": [
      "Epoch 11/100:\n",
      "  Train Loss: 0.3342, Train Accuracy: 90.19%\n",
      "  Validation Loss: 0.5993, Validation Accuracy: 84.19%\n"
     ]
    },
    {
     "name": "stderr",
     "output_type": "stream",
     "text": [
      "Epoch 12/100: 100%|██████████| 338/338 [01:26<00:00,  3.90batch/s, train_accuracy=92, train_loss=0.272]  \n",
      "Validation: 100%|██████████| 105/105 [00:11<00:00,  9.11batch/s, val_accuracy=84.5, val_loss=0.588]\n"
     ]
    },
    {
     "name": "stdout",
     "output_type": "stream",
     "text": [
      "Epoch 12/100:\n",
      "  Train Loss: 0.2722, Train Accuracy: 91.99%\n",
      "  Validation Loss: 0.5933, Validation Accuracy: 84.47%\n"
     ]
    },
    {
     "name": "stderr",
     "output_type": "stream",
     "text": [
      "Epoch 13/100: 100%|██████████| 338/338 [01:16<00:00,  4.43batch/s, train_accuracy=93, train_loss=0.235]  \n",
      "Validation: 100%|██████████| 105/105 [00:06<00:00, 16.86batch/s, val_accuracy=84.4, val_loss=0.597]\n"
     ]
    },
    {
     "name": "stdout",
     "output_type": "stream",
     "text": [
      "Epoch 13/100:\n",
      "  Train Loss: 0.2350, Train Accuracy: 93.01%\n",
      "  Validation Loss: 0.6025, Validation Accuracy: 84.43%\n"
     ]
    },
    {
     "name": "stderr",
     "output_type": "stream",
     "text": [
      "Epoch 14/100: 100%|██████████| 338/338 [01:24<00:00,  4.00batch/s, train_accuracy=94, train_loss=0.198]  \n",
      "Validation: 100%|██████████| 105/105 [00:07<00:00, 14.01batch/s, val_accuracy=84.7, val_loss=0.594]\n"
     ]
    },
    {
     "name": "stdout",
     "output_type": "stream",
     "text": [
      "Epoch 14/100:\n",
      "  Train Loss: 0.1980, Train Accuracy: 94.04%\n",
      "  Validation Loss: 0.6000, Validation Accuracy: 84.74%\n"
     ]
    },
    {
     "name": "stderr",
     "output_type": "stream",
     "text": [
      "Epoch 15/100: 100%|██████████| 338/338 [01:13<00:00,  4.60batch/s, train_accuracy=94.8, train_loss=0.171]\n",
      "Validation: 100%|██████████| 105/105 [00:05<00:00, 18.65batch/s, val_accuracy=84.8, val_loss=0.6]  \n"
     ]
    },
    {
     "name": "stdout",
     "output_type": "stream",
     "text": [
      "Epoch 15/100:\n",
      "  Train Loss: 0.1709, Train Accuracy: 94.75%\n",
      "  Validation Loss: 0.6052, Validation Accuracy: 84.78%\n"
     ]
    },
    {
     "name": "stderr",
     "output_type": "stream",
     "text": [
      "Epoch 16/100: 100%|██████████| 338/338 [01:24<00:00,  4.01batch/s, train_accuracy=95.6, train_loss=0.146]\n",
      "Validation: 100%|██████████| 105/105 [00:07<00:00, 13.99batch/s, val_accuracy=85, val_loss=0.605]  \n"
     ]
    },
    {
     "name": "stdout",
     "output_type": "stream",
     "text": [
      "Epoch 16/100:\n",
      "  Train Loss: 0.1456, Train Accuracy: 95.59%\n",
      "  Validation Loss: 0.6105, Validation Accuracy: 85.03%\n"
     ]
    },
    {
     "name": "stderr",
     "output_type": "stream",
     "text": [
      "Epoch 17/100: 100%|██████████| 338/338 [01:16<00:00,  4.42batch/s, train_accuracy=95.9, train_loss=0.131]\n",
      "Validation: 100%|██████████| 105/105 [00:06<00:00, 17.43batch/s, val_accuracy=84.9, val_loss=0.598]\n"
     ]
    },
    {
     "name": "stdout",
     "output_type": "stream",
     "text": [
      "Epoch 17/100:\n",
      "  Train Loss: 0.1312, Train Accuracy: 95.91%\n",
      "  Validation Loss: 0.6037, Validation Accuracy: 84.88%\n",
      "Early stopping at epoch 17 due to no improvement in validation loss.\n",
      "\n",
      "====== Fold 2/5 ======\n",
      "Training indices: [ 0  2  3  4  5  6  9 10 11 13]\n",
      "Validation indices: [ 1  7  8 12 17 27 34 54 75 83]\n"
     ]
    },
    {
     "name": "stderr",
     "output_type": "stream",
     "text": [
      "Epoch 1/100: 100%|██████████| 338/338 [01:13<00:00,  4.57batch/s, train_accuracy=7.83, train_loss=3]   \n",
      "Validation: 100%|██████████| 105/105 [00:07<00:00, 13.94batch/s, val_accuracy=9.59, val_loss=2.94]\n"
     ]
    },
    {
     "name": "stdout",
     "output_type": "stream",
     "text": [
      "Epoch 1/100:\n",
      "  Train Loss: 3.0013, Train Accuracy: 7.83%\n",
      "  Validation Loss: 2.9650, Validation Accuracy: 9.59%\n"
     ]
    },
    {
     "name": "stderr",
     "output_type": "stream",
     "text": [
      "Epoch 2/100: 100%|██████████| 338/338 [01:28<00:00,  3.83batch/s, train_accuracy=8.3, train_loss=2.99] \n",
      "Validation: 100%|██████████| 105/105 [00:07<00:00, 13.84batch/s, val_accuracy=9.59, val_loss=2.93]\n"
     ]
    },
    {
     "name": "stdout",
     "output_type": "stream",
     "text": [
      "Epoch 2/100:\n",
      "  Train Loss: 2.9857, Train Accuracy: 8.30%\n",
      "  Validation Loss: 2.9613, Validation Accuracy: 9.59%\n"
     ]
    },
    {
     "name": "stderr",
     "output_type": "stream",
     "text": [
      "Epoch 3/100: 100%|██████████| 338/338 [01:20<00:00,  4.19batch/s, train_accuracy=8.46, train_loss=2.98]\n",
      "Validation: 100%|██████████| 105/105 [00:07<00:00, 13.87batch/s, val_accuracy=9.59, val_loss=2.93]\n"
     ]
    },
    {
     "name": "stdout",
     "output_type": "stream",
     "text": [
      "Epoch 3/100:\n",
      "  Train Loss: 2.9792, Train Accuracy: 8.46%\n",
      "  Validation Loss: 2.9580, Validation Accuracy: 9.59%\n"
     ]
    },
    {
     "name": "stderr",
     "output_type": "stream",
     "text": [
      "Epoch 4/100: 100%|██████████| 338/338 [01:20<00:00,  4.21batch/s, train_accuracy=8.72, train_loss=2.97]\n",
      "Validation: 100%|██████████| 105/105 [00:05<00:00, 17.51batch/s, val_accuracy=9.59, val_loss=2.93]\n"
     ]
    },
    {
     "name": "stdout",
     "output_type": "stream",
     "text": [
      "Epoch 4/100:\n",
      "  Train Loss: 2.9731, Train Accuracy: 8.72%\n",
      "  Validation Loss: 2.9575, Validation Accuracy: 9.59%\n"
     ]
    },
    {
     "name": "stderr",
     "output_type": "stream",
     "text": [
      "Epoch 5/100: 100%|██████████| 338/338 [01:07<00:00,  5.00batch/s, train_accuracy=9.01, train_loss=2.97]\n",
      "Validation: 100%|██████████| 105/105 [00:05<00:00, 18.64batch/s, val_accuracy=9.59, val_loss=2.93]\n"
     ]
    },
    {
     "name": "stdout",
     "output_type": "stream",
     "text": [
      "Epoch 5/100:\n",
      "  Train Loss: 2.9698, Train Accuracy: 9.01%\n",
      "  Validation Loss: 2.9573, Validation Accuracy: 9.59%\n"
     ]
    },
    {
     "name": "stderr",
     "output_type": "stream",
     "text": [
      "Epoch 6/100: 100%|██████████| 338/338 [01:09<00:00,  4.87batch/s, train_accuracy=9.1, train_loss=2.96] \n",
      "Validation: 100%|██████████| 105/105 [00:07<00:00, 13.91batch/s, val_accuracy=9.61, val_loss=2.92]\n"
     ]
    },
    {
     "name": "stdout",
     "output_type": "stream",
     "text": [
      "Epoch 6/100:\n",
      "  Train Loss: 2.9643, Train Accuracy: 9.10%\n",
      "  Validation Loss: 2.9428, Validation Accuracy: 9.61%\n"
     ]
    },
    {
     "name": "stderr",
     "output_type": "stream",
     "text": [
      "Epoch 7/100: 100%|██████████| 338/338 [01:46<00:00,  3.17batch/s, train_accuracy=28.6, train_loss=2.43]\n",
      "Validation: 100%|██████████| 105/105 [00:06<00:00, 16.69batch/s, val_accuracy=63.6, val_loss=1.33]\n"
     ]
    },
    {
     "name": "stdout",
     "output_type": "stream",
     "text": [
      "Epoch 7/100:\n",
      "  Train Loss: 2.4308, Train Accuracy: 28.63%\n",
      "  Validation Loss: 1.3417, Validation Accuracy: 63.61%\n"
     ]
    },
    {
     "name": "stderr",
     "output_type": "stream",
     "text": [
      "Epoch 8/100:  13%|█▎        | 44/338 [00:09<01:05,  4.52batch/s, train_accuracy=63.2, train_loss=1.35]"
     ]
    }
   ],
   "source": [
    "import os\n",
    "import torch\n",
    "import torch.nn as nn\n",
    "import torch.optim as optim\n",
    "import matplotlib.pyplot as plt\n",
    "import numpy as np\n",
    "from sklearn.metrics import confusion_matrix\n",
    "import seaborn as sns\n",
    "from torch.utils.data import DataLoader, TensorDataset, Subset\n",
    "from datetime import datetime\n",
    "from tqdm import tqdm  # 导入tqdm库来显示进度条\n",
    "from sklearn.model_selection import KFold\n",
    "\n",
    "# 假设 SNR_dB 和 fd 已经在之前定义\n",
    "SNR_dB = globals().get('SNR_dB', 'no')\n",
    "fd = globals().get('fd', 'no')\n",
    "\n",
    "# 初始化模型参数\n",
    "input_dim = 320  # 每个信号有320个采样点\n",
    "num_heads = 4  # 注意力头数\n",
    "num_layers = 2  # Transformer编码器层数\n",
    "num_classes = 20  # 有20个设备\n",
    "dropout = 0.4  # Dropout率\n",
    "\n",
    "# 训练参数\n",
    "batch_size = 256\n",
    "num_epochs = 100  # 训练轮数\n",
    "learning_rate = 1e-4\n",
    "patience = 5  # Early stopping 的容忍期（最多允许多少个epoch验证集性能没有改善）\n",
    "\n",
    "# 训练过程的时间戳和文件夹名\n",
    "timestamp = datetime.now().strftime(\"%Y-%m-%d_%H-%M-%S\")\n",
    "script_name = \"cross\"\n",
    "\n",
    "# 构造文件夹名\n",
    "folder_name = f\"{timestamp}_{script_name}_SNR{SNR_dB}dB_fd{fd}_classes_{num_classes}_Transformer\"\n",
    "save_folder = os.path.join(os.getcwd(), \"training_results\", folder_name)\n",
    "\n",
    "# 创建保存结果的文件夹\n",
    "os.makedirs(save_folder, exist_ok=True)\n",
    "\n",
    "# 打开结果文件，保存训练的总结\n",
    "results_file = os.path.join(save_folder, \"results.txt\")\n",
    "with open(results_file, \"w\") as f:\n",
    "    f.write(f\"=== Experiment Summary ===\\n\")\n",
    "    f.write(f\"Feature Folder: trajectory_plots\\n\")\n",
    "    f.write(f\"Timestamp: {timestamp}\\n\")\n",
    "    f.write(f\"Total Classes: {num_classes}\\n\")\n",
    "    f.write(f\"SNR: {SNR_dB} dB\\n\")\n",
    "    f.write(f\"fd (Doppler shift): {fd} Hz\\n\")\n",
    "\n",
    "\n",
    "# 定义SignalTransformer模型\n",
    "class SignalTransformer(nn.Module):\n",
    "    def __init__(self, input_dim, num_heads, num_layers, num_classes, dropout=0.1):\n",
    "        super(SignalTransformer, self).__init__()\n",
    "        \n",
    "        # 输入数据的嵌入层\n",
    "        self.embedding = nn.Linear(input_dim, input_dim)  # 将输入信号的维度转换为适合Transformer的维度\n",
    "        \n",
    "        # Transformer编码器层\n",
    "        self.transformer = nn.Transformer(\n",
    "            d_model=input_dim,  # 输入特征维度\n",
    "            nhead=num_heads,  # 多头注意力机制的头数\n",
    "            num_encoder_layers=num_layers,  # 编码器层数\n",
    "            dropout=dropout,  # Dropout率\n",
    "            batch_first=True  # 设置为True以支持(batch_size, seq_len, input_dim)输入\n",
    "        )\n",
    "        \n",
    "        # 最后的分类层，将Transformer的输出映射到类别\n",
    "        self.fc = nn.Linear(input_dim, num_classes)  # 分类输出层\n",
    "    \n",
    "    def forward(self, x):\n",
    "        # Transformer输入要求的格式是 (batch_size, seq_len, input_dim)\n",
    "        x = self.embedding(x)  # 变为 (batch_size, seq_len, input_dim)\n",
    "        x = self.transformer(x, x)  # (batch_size, seq_len, input_dim)\n",
    "        \n",
    "        # 确认x的维度\n",
    "        if len(x.shape) == 3:\n",
    "            x = x[:, -1, :]  # 取序列最后一个时间步的输出 (batch_size, input_dim)\n",
    "        elif len(x.shape) == 2:\n",
    "            # 如果是二维的，则直接使用输出 (batch_size, input_dim)\n",
    "            pass\n",
    "            \n",
    "        x = self.fc(x)  # (batch_size, num_classes)\n",
    "        return x\n",
    "\n",
    "\n",
    "# K折交叉验证相关参数\n",
    "n_splits = 5  # 设置K折交叉验证的折数\n",
    "\n",
    "# 初始化K折交叉验证\n",
    "kfold = KFold(n_splits=n_splits, shuffle=True, random_state=42)\n",
    "\n",
    "# 用来记录每一折的训练结果\n",
    "fold_results = []\n",
    "\n",
    "# K折交叉验证循环\n",
    "for fold, (train_idx, val_idx) in enumerate(kfold.split(train_dataset)):\n",
    "    print(f\"\\n====== Fold {fold+1}/{n_splits} ======\")\n",
    "\n",
    "    # 打印调试信息：检查数据切分\n",
    "    print(f\"Training indices: {train_idx[:10]}\")  # 打印前10个训练样本的索引\n",
    "    print(f\"Validation indices: {val_idx[:10]}\")  # 打印前10个验证样本的索引\n",
    "\n",
    "    # 切分训练集和验证集\n",
    "    train_subset = Subset(train_dataset, train_idx)\n",
    "    val_subset = Subset(train_dataset, val_idx)\n",
    "\n",
    "    # 创建训练和验证加载器\n",
    "    train_loader = DataLoader(train_subset, batch_size=batch_size, shuffle=True, drop_last=True)\n",
    "    val_loader = DataLoader(val_dataset, batch_size=batch_size, shuffle=False, drop_last=True)\n",
    "\n",
    "    # 初始化模型\n",
    "    model = SignalTransformer(input_dim=input_dim, num_heads=num_heads, num_layers=num_layers, num_classes=num_classes, dropout=dropout)\n",
    "\n",
    "    # 损失函数和优化器\n",
    "    criterion = nn.CrossEntropyLoss()  # 交叉熵损失\n",
    "    optimizer = optim.Adam(model.parameters(), lr=learning_rate, weight_decay=1e-4)\n",
    "\n",
    "    # 学习率调度器\n",
    "    scheduler = optim.lr_scheduler.StepLR(optimizer, step_size=10, gamma=0.5)\n",
    "\n",
    "    # 用来记录训练过程的损失和准确度\n",
    "    train_losses = []\n",
    "    val_losses = []\n",
    "    train_accuracies = []\n",
    "    val_accuracies = []\n",
    "\n",
    "    # Early stopping 变量\n",
    "    best_val_loss = float('inf')\n",
    "    patience_counter = 0\n",
    "\n",
    "    # 训练过程\n",
    "    for epoch in range(num_epochs):\n",
    "        model.train()\n",
    "        running_train_loss = 0.0\n",
    "        correct_train = 0\n",
    "        total_train = 0\n",
    "        \n",
    "        with tqdm(train_loader, desc=f\"Epoch {epoch+1}/{num_epochs}\", unit=\"batch\") as tepoch:\n",
    "            for batch_idx, (inputs, labels) in enumerate(tepoch):\n",
    "                optimizer.zero_grad()\n",
    "                \n",
    "                # 前向传播\n",
    "                outputs = model(inputs)\n",
    "                \n",
    "                # 计算损失\n",
    "                loss = criterion(outputs, labels)\n",
    "                loss.backward()\n",
    "                optimizer.step()\n",
    "                \n",
    "                running_train_loss += loss.item()\n",
    "                \n",
    "                # 计算训练准确度\n",
    "                _, predicted = torch.max(outputs, 1)\n",
    "                total_train += labels.size(0)\n",
    "                correct_train += (predicted == labels).sum().item()\n",
    "\n",
    "                train_accuracy = 100 * correct_train / total_train\n",
    "                tepoch.set_postfix(train_loss=running_train_loss / (batch_idx + 1), train_accuracy=train_accuracy)\n",
    "\n",
    "        epoch_train_loss = running_train_loss / len(train_loader)\n",
    "        epoch_train_acc = 100 * correct_train / total_train\n",
    "        train_losses.append(epoch_train_loss)\n",
    "        train_accuracies.append(epoch_train_acc)\n",
    "\n",
    "        # 验证过程\n",
    "        model.eval()\n",
    "        running_val_loss = 0.0\n",
    "        correct_val = 0\n",
    "        total_val = 0\n",
    "        \n",
    "        with torch.no_grad():\n",
    "            with tqdm(val_loader, desc=\"Validation\", unit=\"batch\") as vepoch:\n",
    "                for val_inputs, val_labels in vepoch:\n",
    "                    val_outputs = model(val_inputs)\n",
    "                    val_loss = criterion(val_outputs, val_labels)\n",
    "                    running_val_loss += val_loss.item()\n",
    "                    _, val_predicted = torch.max(val_outputs, 1)\n",
    "                    total_val += val_labels.size(0)\n",
    "                    correct_val += (val_predicted == val_labels).sum().item()\n",
    "\n",
    "                    val_accuracy = 100 * correct_val / total_val\n",
    "                    vepoch.set_postfix(val_loss=running_val_loss / (len(val_loader) + 1), val_accuracy=val_accuracy)\n",
    "\n",
    "        epoch_val_loss = running_val_loss / len(val_loader)\n",
    "        epoch_val_acc = 100 * correct_val / total_val\n",
    "        val_losses.append(epoch_val_loss)\n",
    "        val_accuracies.append(epoch_val_acc)\n",
    "\n",
    "        print(f\"Epoch {epoch+1}/{num_epochs}:\")\n",
    "        print(f\"  Train Loss: {epoch_train_loss:.4f}, Train Accuracy: {epoch_train_acc:.2f}%\")\n",
    "        print(f\"  Validation Loss: {epoch_val_loss:.4f}, Validation Accuracy: {epoch_val_acc:.2f}%\")\n",
    "\n",
    "        with open(results_file, \"a\") as f:\n",
    "            f.write(f\"Epoch {epoch+1} | Train Loss: {epoch_train_loss:.4f} | Train Accuracy: {epoch_train_acc:.2f}% | Validation Loss: {epoch_val_loss:.4f} | Validation Accuracy: {epoch_val_acc:.2f}%\\n\")\n",
    "\n",
    "        # Early Stopping 检查\n",
    "        if epoch_val_loss < best_val_loss:\n",
    "            best_val_loss = epoch_val_loss\n",
    "            patience_counter = 0  # 重置计数器\n",
    "        else:\n",
    "            patience_counter += 1  # 验证损失没有改善，增加计数器\n",
    "\n",
    "        if patience_counter >= patience:\n",
    "            print(f\"Early stopping at epoch {epoch+1} due to no improvement in validation loss.\")\n",
    "            break\n",
    "\n",
    "        # 学习率调度器步进\n",
    "        scheduler.step()\n",
    "\n",
    "    # 保存每一折的训练和验证结果\n",
    "    fold_results.append(max(val_accuracies))\n",
    "\n",
    "    # 绘制训练和验证损失曲线\n",
    "    plt.figure()\n",
    "    plt.plot(range(1, len(train_losses) + 1), train_losses, label='Train Loss')\n",
    "    plt.plot(range(1, len(val_losses) + 1), val_losses, label='Validation Loss')\n",
    "    plt.xlabel('Epoch')\n",
    "    plt.ylabel('Loss')\n",
    "    plt.title(f'Fold {fold+1} Training and Validation Loss Curve')\n",
    "    plt.legend()\n",
    "    plt.savefig(os.path.join(save_folder, f\"fold_{fold+1}_loss_curve.png\"))\n",
    "    plt.close()\n",
    "\n",
    "    # 绘制训练和验证准确度曲线\n",
    "    plt.figure()\n",
    "    plt.plot(range(1, len(train_accuracies) + 1), train_accuracies, label='Train Accuracy')\n",
    "    plt.plot(range(1, len(val_accuracies) + 1), val_accuracies, label='Validation Accuracy')\n",
    "    plt.xlabel('Epoch')\n",
    "    plt.ylabel('Accuracy')\n",
    "    plt.title(f'Fold {fold+1} Training and Validation Accuracy Curve')\n",
    "    plt.legend()\n",
    "    plt.savefig(os.path.join(save_folder, f\"fold_{fold+1}_accuracy_curve.png\"))\n",
    "    plt.close()\n",
    "\n",
    "    # 生成并保存混淆矩阵\n",
    "    model.eval()\n",
    "    all_preds = []\n",
    "    all_labels = []\n",
    "\n",
    "    with torch.no_grad():\n",
    "        for val_inputs, val_labels in val_loader:\n",
    "            val_outputs = model(val_inputs)\n",
    "            _, val_predicted = torch.max(val_outputs, 1)\n",
    "            all_preds.extend(val_predicted.cpu().numpy())\n",
    "            all_labels.extend(val_labels.cpu().numpy())\n",
    "\n",
    "    cm = confusion_matrix(all_labels, all_preds)\n",
    "\n",
    "    plt.figure(figsize=(10, 8))\n",
    "    sns.heatmap(cm, annot=True, fmt='d', cmap='Blues', cbar=True)\n",
    "    plt.title(f'Fold {fold+1} Confusion Matrix')\n",
    "    plt.xlabel('Predicted Label')\n",
    "    plt.ylabel('True Label')\n",
    "    plt.tight_layout()\n",
    "\n",
    "    confusion_matrix_path = os.path.join(save_folder, f\"fold_{fold+1}_confusion_matrix.png\")\n",
    "    plt.savefig(confusion_matrix_path)\n",
    "    plt.close()\n",
    "\n",
    "    # 保存混淆矩阵原始数据（保存为 txt 文件）\n",
    "    np.savetxt(os.path.join(save_folder, f\"fold_{fold+1}_confusion_matrix.txt\"), cm, fmt='%d')\n",
    "\n",
    "# 汇总每一折的最佳验证准确率\n",
    "avg_acc = np.mean(fold_results)\n",
    "with open(results_file, \"a\") as f:\n",
    "    f.write(\"\\n=== Cross-Validation Results ===\\n\")\n",
    "    for i, acc in enumerate(fold_results):\n",
    "        f.write(f\"Fold {i+1}: Best Val Accuracy: {acc:.2f}%\\n\")\n",
    "    f.write(f\"\\nAverage Best Val Accuracy: {avg_acc:.2f}%\\n\")\n",
    "\n",
    "print(f\"\\n=== Cross-Validation Summary ===\")\n",
    "for i, acc in enumerate(fold_results):\n",
    "    print(f\"Fold {i+1}: Best Val Accuracy = {acc:.2f}%\")\n",
    "print(f\"Average Best Val Accuracy: {avg_acc:.2f}%\")\n"
   ]
  }
 ],
 "metadata": {
  "kernelspec": {
   "display_name": "MW-RFF",
   "language": "python",
   "name": "python3"
  },
  "language_info": {
   "codemirror_mode": {
    "name": "ipython",
    "version": 3
   },
   "file_extension": ".py",
   "mimetype": "text/x-python",
   "name": "python",
   "nbconvert_exporter": "python",
   "pygments_lexer": "ipython3",
   "version": "3.10.16"
  }
 },
 "nbformat": 4,
 "nbformat_minor": 5
}
